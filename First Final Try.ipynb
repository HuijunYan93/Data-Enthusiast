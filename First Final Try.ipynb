{
 "cells": [
  {
   "cell_type": "code",
   "execution_count": 7,
   "metadata": {},
   "outputs": [],
   "source": [
    "import pandas as pd\n",
    "import numpy as np\n",
    "import seaborn as sns\n",
    "import matplotlib.pyplot as plt\n",
    "from sklearn import linear_model\n",
    "from pandas.tools.plotting import scatter_matrix\n",
    "from sklearn.linear_model import LinearRegression\n",
    "from sklearn.model_selection import train_test_split\n",
    "import statsmodels.api as sm\n",
    "import statsmodels.formula.api as smf\n",
    "from sklearn.metrics import mean_squared_error"
   ]
  },
  {
   "cell_type": "markdown",
   "metadata": {},
   "source": [
    "# Context and description of the data\n",
    "\n",
    "1. Background information on the subject and field of study\n",
    "\n",
    "2. Information about data collection:\n",
    "\n",
    "    a. Who collected the data\n",
    "    \n",
    "    b. When the data was collected\n",
    "    \n",
    "    c. How the data was collected\n",
    "    \n",
    "    d. Any implications this may have on analysis"
   ]
  },
  {
   "cell_type": "markdown",
   "metadata": {},
   "source": [
    "__1. Background information on the subject and field of study.__"
   ]
  },
  {
   "cell_type": "markdown",
   "metadata": {},
   "source": [
    "The data explores the detailed information of housing located in 351 suburbs in Melhourne. Melbourne is the second-most populous city in Australia, which has prosperous education, economy, entertainment, tourism and etc. Usually, the price of housing varies in a large range, especially in a big city like Melbourne, depends on furnishment, sqft, distance to CBD and neighborhood. We are interested in what partern of housing characteristics will affect the price at different suburbs in Melbourne ciy."
   ]
  },
  {
   "cell_type": "markdown",
   "metadata": {},
   "source": [
    "__2. Information about data collection:__"
   ]
  },
  {
   "cell_type": "markdown",
   "metadata": {},
   "source": [
    "According to Kaggle, we can know that Tony Pino collected the data starting from 2016 and this data was scraped from publicly available results posted every week from Domain.com.au. Tony Pino said he've cleaned it as best he can before he upload it, so we just need to start to data analysis. The dataset includes Address, Type of Real estate, Suburb, Method of Selling, Rooms, Price, Real Estate Agent, Date of Sale and distance from C.B.D."
   ]
  },
  {
   "cell_type": "markdown",
   "metadata": {},
   "source": [
    "# Exploratory Analysis of the Data\n",
    "\n",
    "1.Summary statistics and the distributional shape of variables in the data\n",
    "\n",
    "2.Unusual features or outliers present in the data\n",
    "\n",
    "3.Potential relationships that may exist in the data, including, but not limited to:\n",
    "   \n",
    "    a. two-way tables and side-by-side bar charts for relationships between categorical data\n",
    "    \n",
    "    b. scatter plots for relationships between numeric data\n",
    "    \n",
    "    c. side-by-side histograms or boxplots for relationships between numeric and categorical data\n",
    "\n",
    "4.Findings should be reported with readable tables or clearly labeled graphs.\n",
    "\n",
    "5.There must also be text to explain the findings and the included tables."
   ]
  },
  {
   "cell_type": "markdown",
   "metadata": {},
   "source": [
    "__1. Summary statistics and the distributional shape of variables in the data__"
   ]
  },
  {
   "cell_type": "markdown",
   "metadata": {},
   "source": [
    "_Summary statistics of full data_"
   ]
  },
  {
   "cell_type": "code",
   "execution_count": 8,
   "metadata": {},
   "outputs": [
    {
     "data": {
      "text/html": [
       "<div>\n",
       "<style scoped>\n",
       "    .dataframe tbody tr th:only-of-type {\n",
       "        vertical-align: middle;\n",
       "    }\n",
       "\n",
       "    .dataframe tbody tr th {\n",
       "        vertical-align: top;\n",
       "    }\n",
       "\n",
       "    .dataframe thead th {\n",
       "        text-align: right;\n",
       "    }\n",
       "</style>\n",
       "<table border=\"1\" class=\"dataframe\">\n",
       "  <thead>\n",
       "    <tr style=\"text-align: right;\">\n",
       "      <th></th>\n",
       "      <th>Suburb</th>\n",
       "      <th>Address</th>\n",
       "      <th>Rooms</th>\n",
       "      <th>Type</th>\n",
       "      <th>Price</th>\n",
       "      <th>Method</th>\n",
       "      <th>SellerG</th>\n",
       "      <th>Date</th>\n",
       "      <th>Distance</th>\n",
       "      <th>Postcode</th>\n",
       "      <th>...</th>\n",
       "      <th>Bathroom</th>\n",
       "      <th>Car</th>\n",
       "      <th>Landsize</th>\n",
       "      <th>BuildingArea</th>\n",
       "      <th>YearBuilt</th>\n",
       "      <th>CouncilArea</th>\n",
       "      <th>Lattitude</th>\n",
       "      <th>Longtitude</th>\n",
       "      <th>Regionname</th>\n",
       "      <th>Propertycount</th>\n",
       "    </tr>\n",
       "  </thead>\n",
       "  <tbody>\n",
       "    <tr>\n",
       "      <th>0</th>\n",
       "      <td>Abbotsford</td>\n",
       "      <td>68 Studley St</td>\n",
       "      <td>2</td>\n",
       "      <td>h</td>\n",
       "      <td>NaN</td>\n",
       "      <td>SS</td>\n",
       "      <td>Jellis</td>\n",
       "      <td>3/09/2016</td>\n",
       "      <td>2.5</td>\n",
       "      <td>3067.0</td>\n",
       "      <td>...</td>\n",
       "      <td>1.0</td>\n",
       "      <td>1.0</td>\n",
       "      <td>126.0</td>\n",
       "      <td>NaN</td>\n",
       "      <td>NaN</td>\n",
       "      <td>Yarra City Council</td>\n",
       "      <td>-37.8014</td>\n",
       "      <td>144.9958</td>\n",
       "      <td>Northern Metropolitan</td>\n",
       "      <td>4019.0</td>\n",
       "    </tr>\n",
       "    <tr>\n",
       "      <th>1</th>\n",
       "      <td>Abbotsford</td>\n",
       "      <td>85 Turner St</td>\n",
       "      <td>2</td>\n",
       "      <td>h</td>\n",
       "      <td>1480000.0</td>\n",
       "      <td>S</td>\n",
       "      <td>Biggin</td>\n",
       "      <td>3/12/2016</td>\n",
       "      <td>2.5</td>\n",
       "      <td>3067.0</td>\n",
       "      <td>...</td>\n",
       "      <td>1.0</td>\n",
       "      <td>1.0</td>\n",
       "      <td>202.0</td>\n",
       "      <td>NaN</td>\n",
       "      <td>NaN</td>\n",
       "      <td>Yarra City Council</td>\n",
       "      <td>-37.7996</td>\n",
       "      <td>144.9984</td>\n",
       "      <td>Northern Metropolitan</td>\n",
       "      <td>4019.0</td>\n",
       "    </tr>\n",
       "    <tr>\n",
       "      <th>2</th>\n",
       "      <td>Abbotsford</td>\n",
       "      <td>25 Bloomburg St</td>\n",
       "      <td>2</td>\n",
       "      <td>h</td>\n",
       "      <td>1035000.0</td>\n",
       "      <td>S</td>\n",
       "      <td>Biggin</td>\n",
       "      <td>4/02/2016</td>\n",
       "      <td>2.5</td>\n",
       "      <td>3067.0</td>\n",
       "      <td>...</td>\n",
       "      <td>1.0</td>\n",
       "      <td>0.0</td>\n",
       "      <td>156.0</td>\n",
       "      <td>79.0</td>\n",
       "      <td>1900.0</td>\n",
       "      <td>Yarra City Council</td>\n",
       "      <td>-37.8079</td>\n",
       "      <td>144.9934</td>\n",
       "      <td>Northern Metropolitan</td>\n",
       "      <td>4019.0</td>\n",
       "    </tr>\n",
       "    <tr>\n",
       "      <th>3</th>\n",
       "      <td>Abbotsford</td>\n",
       "      <td>18/659 Victoria St</td>\n",
       "      <td>3</td>\n",
       "      <td>u</td>\n",
       "      <td>NaN</td>\n",
       "      <td>VB</td>\n",
       "      <td>Rounds</td>\n",
       "      <td>4/02/2016</td>\n",
       "      <td>2.5</td>\n",
       "      <td>3067.0</td>\n",
       "      <td>...</td>\n",
       "      <td>2.0</td>\n",
       "      <td>1.0</td>\n",
       "      <td>0.0</td>\n",
       "      <td>NaN</td>\n",
       "      <td>NaN</td>\n",
       "      <td>Yarra City Council</td>\n",
       "      <td>-37.8114</td>\n",
       "      <td>145.0116</td>\n",
       "      <td>Northern Metropolitan</td>\n",
       "      <td>4019.0</td>\n",
       "    </tr>\n",
       "    <tr>\n",
       "      <th>4</th>\n",
       "      <td>Abbotsford</td>\n",
       "      <td>5 Charles St</td>\n",
       "      <td>3</td>\n",
       "      <td>h</td>\n",
       "      <td>1465000.0</td>\n",
       "      <td>SP</td>\n",
       "      <td>Biggin</td>\n",
       "      <td>4/03/2017</td>\n",
       "      <td>2.5</td>\n",
       "      <td>3067.0</td>\n",
       "      <td>...</td>\n",
       "      <td>2.0</td>\n",
       "      <td>0.0</td>\n",
       "      <td>134.0</td>\n",
       "      <td>150.0</td>\n",
       "      <td>1900.0</td>\n",
       "      <td>Yarra City Council</td>\n",
       "      <td>-37.8093</td>\n",
       "      <td>144.9944</td>\n",
       "      <td>Northern Metropolitan</td>\n",
       "      <td>4019.0</td>\n",
       "    </tr>\n",
       "  </tbody>\n",
       "</table>\n",
       "<p>5 rows × 21 columns</p>\n",
       "</div>"
      ],
      "text/plain": [
       "       Suburb             Address  Rooms Type      Price Method SellerG  \\\n",
       "0  Abbotsford       68 Studley St      2    h        NaN     SS  Jellis   \n",
       "1  Abbotsford        85 Turner St      2    h  1480000.0      S  Biggin   \n",
       "2  Abbotsford     25 Bloomburg St      2    h  1035000.0      S  Biggin   \n",
       "3  Abbotsford  18/659 Victoria St      3    u        NaN     VB  Rounds   \n",
       "4  Abbotsford        5 Charles St      3    h  1465000.0     SP  Biggin   \n",
       "\n",
       "        Date  Distance  Postcode      ...       Bathroom  Car  Landsize  \\\n",
       "0  3/09/2016       2.5    3067.0      ...            1.0  1.0     126.0   \n",
       "1  3/12/2016       2.5    3067.0      ...            1.0  1.0     202.0   \n",
       "2  4/02/2016       2.5    3067.0      ...            1.0  0.0     156.0   \n",
       "3  4/02/2016       2.5    3067.0      ...            2.0  1.0       0.0   \n",
       "4  4/03/2017       2.5    3067.0      ...            2.0  0.0     134.0   \n",
       "\n",
       "   BuildingArea  YearBuilt         CouncilArea Lattitude  Longtitude  \\\n",
       "0           NaN        NaN  Yarra City Council  -37.8014    144.9958   \n",
       "1           NaN        NaN  Yarra City Council  -37.7996    144.9984   \n",
       "2          79.0     1900.0  Yarra City Council  -37.8079    144.9934   \n",
       "3           NaN        NaN  Yarra City Council  -37.8114    145.0116   \n",
       "4         150.0     1900.0  Yarra City Council  -37.8093    144.9944   \n",
       "\n",
       "              Regionname Propertycount  \n",
       "0  Northern Metropolitan        4019.0  \n",
       "1  Northern Metropolitan        4019.0  \n",
       "2  Northern Metropolitan        4019.0  \n",
       "3  Northern Metropolitan        4019.0  \n",
       "4  Northern Metropolitan        4019.0  \n",
       "\n",
       "[5 rows x 21 columns]"
      ]
     },
     "execution_count": 8,
     "metadata": {},
     "output_type": "execute_result"
    }
   ],
   "source": [
    "housing = pd.read_csv(\"Melbourne_housing_FULL.csv\")\n",
    "housing.head()"
   ]
  },
  {
   "cell_type": "code",
   "execution_count": 9,
   "metadata": {},
   "outputs": [
    {
     "data": {
      "text/html": [
       "<div>\n",
       "<style scoped>\n",
       "    .dataframe tbody tr th:only-of-type {\n",
       "        vertical-align: middle;\n",
       "    }\n",
       "\n",
       "    .dataframe tbody tr th {\n",
       "        vertical-align: top;\n",
       "    }\n",
       "\n",
       "    .dataframe thead th {\n",
       "        text-align: right;\n",
       "    }\n",
       "</style>\n",
       "<table border=\"1\" class=\"dataframe\">\n",
       "  <thead>\n",
       "    <tr style=\"text-align: right;\">\n",
       "      <th></th>\n",
       "      <th>count</th>\n",
       "      <th>mean</th>\n",
       "      <th>std</th>\n",
       "      <th>min</th>\n",
       "      <th>25%</th>\n",
       "      <th>50%</th>\n",
       "      <th>75%</th>\n",
       "      <th>max</th>\n",
       "    </tr>\n",
       "  </thead>\n",
       "  <tbody>\n",
       "    <tr>\n",
       "      <th>Rooms</th>\n",
       "      <td>34857.0</td>\n",
       "      <td>3.031012e+00</td>\n",
       "      <td>0.969933</td>\n",
       "      <td>1.00000</td>\n",
       "      <td>2.00000</td>\n",
       "      <td>3.0000</td>\n",
       "      <td>4.000000e+00</td>\n",
       "      <td>1.600000e+01</td>\n",
       "    </tr>\n",
       "    <tr>\n",
       "      <th>Price</th>\n",
       "      <td>27247.0</td>\n",
       "      <td>1.050173e+06</td>\n",
       "      <td>641467.130105</td>\n",
       "      <td>85000.00000</td>\n",
       "      <td>635000.00000</td>\n",
       "      <td>870000.0000</td>\n",
       "      <td>1.295000e+06</td>\n",
       "      <td>1.120000e+07</td>\n",
       "    </tr>\n",
       "    <tr>\n",
       "      <th>Distance</th>\n",
       "      <td>34856.0</td>\n",
       "      <td>1.118493e+01</td>\n",
       "      <td>6.788892</td>\n",
       "      <td>0.00000</td>\n",
       "      <td>6.40000</td>\n",
       "      <td>10.3000</td>\n",
       "      <td>1.400000e+01</td>\n",
       "      <td>4.810000e+01</td>\n",
       "    </tr>\n",
       "    <tr>\n",
       "      <th>Postcode</th>\n",
       "      <td>34856.0</td>\n",
       "      <td>3.116063e+03</td>\n",
       "      <td>109.023903</td>\n",
       "      <td>3000.00000</td>\n",
       "      <td>3051.00000</td>\n",
       "      <td>3103.0000</td>\n",
       "      <td>3.156000e+03</td>\n",
       "      <td>3.978000e+03</td>\n",
       "    </tr>\n",
       "    <tr>\n",
       "      <th>Bedroom2</th>\n",
       "      <td>26640.0</td>\n",
       "      <td>3.084647e+00</td>\n",
       "      <td>0.980690</td>\n",
       "      <td>0.00000</td>\n",
       "      <td>2.00000</td>\n",
       "      <td>3.0000</td>\n",
       "      <td>4.000000e+00</td>\n",
       "      <td>3.000000e+01</td>\n",
       "    </tr>\n",
       "    <tr>\n",
       "      <th>Bathroom</th>\n",
       "      <td>26631.0</td>\n",
       "      <td>1.624798e+00</td>\n",
       "      <td>0.724212</td>\n",
       "      <td>0.00000</td>\n",
       "      <td>1.00000</td>\n",
       "      <td>2.0000</td>\n",
       "      <td>2.000000e+00</td>\n",
       "      <td>1.200000e+01</td>\n",
       "    </tr>\n",
       "    <tr>\n",
       "      <th>Car</th>\n",
       "      <td>26129.0</td>\n",
       "      <td>1.728845e+00</td>\n",
       "      <td>1.010771</td>\n",
       "      <td>0.00000</td>\n",
       "      <td>1.00000</td>\n",
       "      <td>2.0000</td>\n",
       "      <td>2.000000e+00</td>\n",
       "      <td>2.600000e+01</td>\n",
       "    </tr>\n",
       "    <tr>\n",
       "      <th>Landsize</th>\n",
       "      <td>23047.0</td>\n",
       "      <td>5.935990e+02</td>\n",
       "      <td>3398.841946</td>\n",
       "      <td>0.00000</td>\n",
       "      <td>224.00000</td>\n",
       "      <td>521.0000</td>\n",
       "      <td>6.700000e+02</td>\n",
       "      <td>4.330140e+05</td>\n",
       "    </tr>\n",
       "    <tr>\n",
       "      <th>BuildingArea</th>\n",
       "      <td>13742.0</td>\n",
       "      <td>1.602564e+02</td>\n",
       "      <td>401.267060</td>\n",
       "      <td>0.00000</td>\n",
       "      <td>102.00000</td>\n",
       "      <td>136.0000</td>\n",
       "      <td>1.880000e+02</td>\n",
       "      <td>4.451500e+04</td>\n",
       "    </tr>\n",
       "    <tr>\n",
       "      <th>YearBuilt</th>\n",
       "      <td>15551.0</td>\n",
       "      <td>1.965290e+03</td>\n",
       "      <td>37.328178</td>\n",
       "      <td>1196.00000</td>\n",
       "      <td>1940.00000</td>\n",
       "      <td>1970.0000</td>\n",
       "      <td>2.000000e+03</td>\n",
       "      <td>2.106000e+03</td>\n",
       "    </tr>\n",
       "    <tr>\n",
       "      <th>Lattitude</th>\n",
       "      <td>26881.0</td>\n",
       "      <td>-3.781063e+01</td>\n",
       "      <td>0.090279</td>\n",
       "      <td>-38.19043</td>\n",
       "      <td>-37.86295</td>\n",
       "      <td>-37.8076</td>\n",
       "      <td>-3.775410e+01</td>\n",
       "      <td>-3.739020e+01</td>\n",
       "    </tr>\n",
       "    <tr>\n",
       "      <th>Longtitude</th>\n",
       "      <td>26881.0</td>\n",
       "      <td>1.450019e+02</td>\n",
       "      <td>0.120169</td>\n",
       "      <td>144.42379</td>\n",
       "      <td>144.93350</td>\n",
       "      <td>145.0078</td>\n",
       "      <td>1.450719e+02</td>\n",
       "      <td>1.455264e+02</td>\n",
       "    </tr>\n",
       "    <tr>\n",
       "      <th>Propertycount</th>\n",
       "      <td>34854.0</td>\n",
       "      <td>7.572888e+03</td>\n",
       "      <td>4428.090313</td>\n",
       "      <td>83.00000</td>\n",
       "      <td>4385.00000</td>\n",
       "      <td>6763.0000</td>\n",
       "      <td>1.041200e+04</td>\n",
       "      <td>2.165000e+04</td>\n",
       "    </tr>\n",
       "  </tbody>\n",
       "</table>\n",
       "</div>"
      ],
      "text/plain": [
       "                 count          mean            std          min  \\\n",
       "Rooms          34857.0  3.031012e+00       0.969933      1.00000   \n",
       "Price          27247.0  1.050173e+06  641467.130105  85000.00000   \n",
       "Distance       34856.0  1.118493e+01       6.788892      0.00000   \n",
       "Postcode       34856.0  3.116063e+03     109.023903   3000.00000   \n",
       "Bedroom2       26640.0  3.084647e+00       0.980690      0.00000   \n",
       "Bathroom       26631.0  1.624798e+00       0.724212      0.00000   \n",
       "Car            26129.0  1.728845e+00       1.010771      0.00000   \n",
       "Landsize       23047.0  5.935990e+02    3398.841946      0.00000   \n",
       "BuildingArea   13742.0  1.602564e+02     401.267060      0.00000   \n",
       "YearBuilt      15551.0  1.965290e+03      37.328178   1196.00000   \n",
       "Lattitude      26881.0 -3.781063e+01       0.090279    -38.19043   \n",
       "Longtitude     26881.0  1.450019e+02       0.120169    144.42379   \n",
       "Propertycount  34854.0  7.572888e+03    4428.090313     83.00000   \n",
       "\n",
       "                        25%          50%           75%           max  \n",
       "Rooms               2.00000       3.0000  4.000000e+00  1.600000e+01  \n",
       "Price          635000.00000  870000.0000  1.295000e+06  1.120000e+07  \n",
       "Distance            6.40000      10.3000  1.400000e+01  4.810000e+01  \n",
       "Postcode         3051.00000    3103.0000  3.156000e+03  3.978000e+03  \n",
       "Bedroom2            2.00000       3.0000  4.000000e+00  3.000000e+01  \n",
       "Bathroom            1.00000       2.0000  2.000000e+00  1.200000e+01  \n",
       "Car                 1.00000       2.0000  2.000000e+00  2.600000e+01  \n",
       "Landsize          224.00000     521.0000  6.700000e+02  4.330140e+05  \n",
       "BuildingArea      102.00000     136.0000  1.880000e+02  4.451500e+04  \n",
       "YearBuilt        1940.00000    1970.0000  2.000000e+03  2.106000e+03  \n",
       "Lattitude         -37.86295     -37.8076 -3.775410e+01 -3.739020e+01  \n",
       "Longtitude        144.93350     145.0078  1.450719e+02  1.455264e+02  \n",
       "Propertycount    4385.00000    6763.0000  1.041200e+04  2.165000e+04  "
      ]
     },
     "execution_count": 9,
     "metadata": {},
     "output_type": "execute_result"
    }
   ],
   "source": [
    "housing.describe().transpose()"
   ]
  },
  {
   "cell_type": "markdown",
   "metadata": {},
   "source": [
    "_Distributional shape of variables in the full data_"
   ]
  },
  {
   "cell_type": "code",
   "execution_count": 10,
   "metadata": {},
   "outputs": [
    {
     "name": "stdout",
     "output_type": "stream",
     "text": [
      "<class 'pandas.core.frame.DataFrame'>\n",
      "RangeIndex: 34857 entries, 0 to 34856\n",
      "Data columns (total 21 columns):\n",
      "Suburb           34857 non-null object\n",
      "Address          34857 non-null object\n",
      "Rooms            34857 non-null int64\n",
      "Type             34857 non-null object\n",
      "Price            27247 non-null float64\n",
      "Method           34857 non-null object\n",
      "SellerG          34857 non-null object\n",
      "Date             34857 non-null object\n",
      "Distance         34856 non-null float64\n",
      "Postcode         34856 non-null float64\n",
      "Bedroom2         26640 non-null float64\n",
      "Bathroom         26631 non-null float64\n",
      "Car              26129 non-null float64\n",
      "Landsize         23047 non-null float64\n",
      "BuildingArea     13742 non-null float64\n",
      "YearBuilt        15551 non-null float64\n",
      "CouncilArea      34854 non-null object\n",
      "Lattitude        26881 non-null float64\n",
      "Longtitude       26881 non-null float64\n",
      "Regionname       34854 non-null object\n",
      "Propertycount    34854 non-null float64\n",
      "dtypes: float64(12), int64(1), object(8)\n",
      "memory usage: 5.6+ MB\n"
     ]
    }
   ],
   "source": [
    "housing.info()"
   ]
  },
  {
   "cell_type": "code",
   "execution_count": 11,
   "metadata": {
    "scrolled": false
   },
   "outputs": [
    {
     "name": "stdout",
     "output_type": "stream",
     "text": [
      "(34857, 21)\n"
     ]
    }
   ],
   "source": [
    "print(housing.shape)"
   ]
  },
  {
   "cell_type": "markdown",
   "metadata": {},
   "source": [
    "__2. Unusual features or outliers present in the data__"
   ]
  },
  {
   "cell_type": "markdown",
   "metadata": {},
   "source": [
    "_In this data, it have columns: Rooms, Bedrooms2, Bathroom. As usual, if we go to see the apartment or house, manager/officer always say the number of rooms and how many bedrooms and bathrooms inside one unit. However, in this data, when we tried to use \"Rooms\" minus \"Bedroom\", it appear few negative number, like, -6,-5,-4 and etc. That is not make sense. Hence, we believed \n",
    "\"Rooms\" and \"Bedrooms2\" and \"Bathroom\" is not well-organize in this data, it should have more specific or clear meaning, or else it would confuse people who interest this data._"
   ]
  },
  {
   "cell_type": "code",
   "execution_count": 12,
   "metadata": {},
   "outputs": [
    {
     "name": "stdout",
     "output_type": "stream",
     "text": [
      "Real Rooms\n",
      "-27.0        1\n",
      "-17.0        1\n",
      "-7.0         1\n",
      "-6.0         2\n",
      "-5.0         1\n",
      "-3.0         2\n",
      "-2.0        23\n",
      "-1.0       248\n",
      " 0.0     25683\n",
      " 1.0       569\n",
      " 2.0        77\n",
      " 3.0        18\n",
      " 4.0         4\n",
      " 8.0         1\n",
      "Name: Bathroom, dtype: int64\n"
     ]
    }
   ],
   "source": [
    "housing['Real Rooms'] = housing['Rooms'] - housing['Bedroom2']\n",
    "print(housing.groupby('Real Rooms')['Bathroom'].count())"
   ]
  },
  {
   "cell_type": "markdown",
   "metadata": {},
   "source": [
    "_From the below table, it easily to see that we got some negative number, even appeared -27. And we can see that mostly are equal to 0, but if \"Rooms\" are equal to \"Bedroom2\", why the data inputer would separate to two variables? That is only us guess, so we believed that these three variables is not well-organize._"
   ]
  },
  {
   "cell_type": "markdown",
   "metadata": {},
   "source": [
    "__3.Potential relationships that may exist in the data, including__"
   ]
  },
  {
   "cell_type": "markdown",
   "metadata": {},
   "source": [
    "_We were trying to figure the correlation with each variables. Here we made:_"
   ]
  },
  {
   "cell_type": "code",
   "execution_count": 13,
   "metadata": {
    "scrolled": false
   },
   "outputs": [
    {
     "data": {
      "text/html": [
       "<div>\n",
       "<style scoped>\n",
       "    .dataframe tbody tr th:only-of-type {\n",
       "        vertical-align: middle;\n",
       "    }\n",
       "\n",
       "    .dataframe tbody tr th {\n",
       "        vertical-align: top;\n",
       "    }\n",
       "\n",
       "    .dataframe thead th {\n",
       "        text-align: right;\n",
       "    }\n",
       "</style>\n",
       "<table border=\"1\" class=\"dataframe\">\n",
       "  <thead>\n",
       "    <tr style=\"text-align: right;\">\n",
       "      <th></th>\n",
       "      <th>Rooms</th>\n",
       "      <th>Price</th>\n",
       "      <th>Distance</th>\n",
       "      <th>Postcode</th>\n",
       "      <th>Bedroom2</th>\n",
       "      <th>Bathroom</th>\n",
       "      <th>Car</th>\n",
       "      <th>Landsize</th>\n",
       "      <th>BuildingArea</th>\n",
       "      <th>YearBuilt</th>\n",
       "      <th>Lattitude</th>\n",
       "      <th>Longtitude</th>\n",
       "      <th>Propertycount</th>\n",
       "      <th>Real Rooms</th>\n",
       "    </tr>\n",
       "  </thead>\n",
       "  <tbody>\n",
       "    <tr>\n",
       "      <th>Rooms</th>\n",
       "      <td>1.000000</td>\n",
       "      <td>0.465238</td>\n",
       "      <td>0.271511</td>\n",
       "      <td>0.085890</td>\n",
       "      <td>0.946755</td>\n",
       "      <td>0.611826</td>\n",
       "      <td>0.393878</td>\n",
       "      <td>0.037402</td>\n",
       "      <td>0.156229</td>\n",
       "      <td>-0.012749</td>\n",
       "      <td>0.004872</td>\n",
       "      <td>0.103235</td>\n",
       "      <td>-0.071677</td>\n",
       "      <td>0.099010</td>\n",
       "    </tr>\n",
       "    <tr>\n",
       "      <th>Price</th>\n",
       "      <td>0.465238</td>\n",
       "      <td>1.000000</td>\n",
       "      <td>-0.211384</td>\n",
       "      <td>0.044950</td>\n",
       "      <td>0.430275</td>\n",
       "      <td>0.429878</td>\n",
       "      <td>0.201803</td>\n",
       "      <td>0.032748</td>\n",
       "      <td>0.100754</td>\n",
       "      <td>-0.333306</td>\n",
       "      <td>-0.215607</td>\n",
       "      <td>0.197874</td>\n",
       "      <td>-0.059017</td>\n",
       "      <td>0.033768</td>\n",
       "    </tr>\n",
       "    <tr>\n",
       "      <th>Distance</th>\n",
       "      <td>0.271511</td>\n",
       "      <td>-0.211384</td>\n",
       "      <td>1.000000</td>\n",
       "      <td>0.481566</td>\n",
       "      <td>0.269524</td>\n",
       "      <td>0.126201</td>\n",
       "      <td>0.241835</td>\n",
       "      <td>0.060862</td>\n",
       "      <td>0.076301</td>\n",
       "      <td>0.323059</td>\n",
       "      <td>-0.100417</td>\n",
       "      <td>0.200946</td>\n",
       "      <td>-0.018140</td>\n",
       "      <td>-0.022770</td>\n",
       "    </tr>\n",
       "    <tr>\n",
       "      <th>Postcode</th>\n",
       "      <td>0.085890</td>\n",
       "      <td>0.044950</td>\n",
       "      <td>0.481566</td>\n",
       "      <td>1.000000</td>\n",
       "      <td>0.089292</td>\n",
       "      <td>0.120080</td>\n",
       "      <td>0.067886</td>\n",
       "      <td>0.040664</td>\n",
       "      <td>0.042437</td>\n",
       "      <td>0.089805</td>\n",
       "      <td>-0.231027</td>\n",
       "      <td>0.362895</td>\n",
       "      <td>0.017108</td>\n",
       "      <td>-0.010684</td>\n",
       "    </tr>\n",
       "    <tr>\n",
       "      <th>Bedroom2</th>\n",
       "      <td>0.946755</td>\n",
       "      <td>0.430275</td>\n",
       "      <td>0.269524</td>\n",
       "      <td>0.089292</td>\n",
       "      <td>1.000000</td>\n",
       "      <td>0.614892</td>\n",
       "      <td>0.388491</td>\n",
       "      <td>0.037019</td>\n",
       "      <td>0.154157</td>\n",
       "      <td>-0.002022</td>\n",
       "      <td>0.003447</td>\n",
       "      <td>0.106164</td>\n",
       "      <td>-0.053451</td>\n",
       "      <td>-0.226636</td>\n",
       "    </tr>\n",
       "    <tr>\n",
       "      <th>Bathroom</th>\n",
       "      <td>0.611826</td>\n",
       "      <td>0.429878</td>\n",
       "      <td>0.126201</td>\n",
       "      <td>0.120080</td>\n",
       "      <td>0.614892</td>\n",
       "      <td>1.000000</td>\n",
       "      <td>0.307518</td>\n",
       "      <td>0.036333</td>\n",
       "      <td>0.147558</td>\n",
       "      <td>0.167955</td>\n",
       "      <td>-0.059183</td>\n",
       "      <td>0.106531</td>\n",
       "      <td>-0.032887</td>\n",
       "      <td>-0.049595</td>\n",
       "    </tr>\n",
       "    <tr>\n",
       "      <th>Car</th>\n",
       "      <td>0.393878</td>\n",
       "      <td>0.201803</td>\n",
       "      <td>0.241835</td>\n",
       "      <td>0.067886</td>\n",
       "      <td>0.388491</td>\n",
       "      <td>0.307518</td>\n",
       "      <td>1.000000</td>\n",
       "      <td>0.037829</td>\n",
       "      <td>0.104373</td>\n",
       "      <td>0.128702</td>\n",
       "      <td>-0.009020</td>\n",
       "      <td>0.047213</td>\n",
       "      <td>-0.009617</td>\n",
       "      <td>-0.010382</td>\n",
       "    </tr>\n",
       "    <tr>\n",
       "      <th>Landsize</th>\n",
       "      <td>0.037402</td>\n",
       "      <td>0.032748</td>\n",
       "      <td>0.060862</td>\n",
       "      <td>0.040664</td>\n",
       "      <td>0.037019</td>\n",
       "      <td>0.036333</td>\n",
       "      <td>0.037829</td>\n",
       "      <td>1.000000</td>\n",
       "      <td>0.354530</td>\n",
       "      <td>0.044474</td>\n",
       "      <td>0.025318</td>\n",
       "      <td>-0.002582</td>\n",
       "      <td>-0.018195</td>\n",
       "      <td>-0.001563</td>\n",
       "    </tr>\n",
       "    <tr>\n",
       "      <th>BuildingArea</th>\n",
       "      <td>0.156229</td>\n",
       "      <td>0.100754</td>\n",
       "      <td>0.076301</td>\n",
       "      <td>0.042437</td>\n",
       "      <td>0.154157</td>\n",
       "      <td>0.147558</td>\n",
       "      <td>0.104373</td>\n",
       "      <td>0.354530</td>\n",
       "      <td>1.000000</td>\n",
       "      <td>0.067811</td>\n",
       "      <td>0.017155</td>\n",
       "      <td>-0.002143</td>\n",
       "      <td>-0.024523</td>\n",
       "      <td>0.007241</td>\n",
       "    </tr>\n",
       "    <tr>\n",
       "      <th>YearBuilt</th>\n",
       "      <td>-0.012749</td>\n",
       "      <td>-0.333306</td>\n",
       "      <td>0.323059</td>\n",
       "      <td>0.089805</td>\n",
       "      <td>-0.002022</td>\n",
       "      <td>0.167955</td>\n",
       "      <td>0.128702</td>\n",
       "      <td>0.044474</td>\n",
       "      <td>0.067811</td>\n",
       "      <td>1.000000</td>\n",
       "      <td>0.091592</td>\n",
       "      <td>-0.022175</td>\n",
       "      <td>0.022420</td>\n",
       "      <td>-0.032317</td>\n",
       "    </tr>\n",
       "    <tr>\n",
       "      <th>Lattitude</th>\n",
       "      <td>0.004872</td>\n",
       "      <td>-0.215607</td>\n",
       "      <td>-0.100417</td>\n",
       "      <td>-0.231027</td>\n",
       "      <td>0.003447</td>\n",
       "      <td>-0.059183</td>\n",
       "      <td>-0.009020</td>\n",
       "      <td>0.025318</td>\n",
       "      <td>0.017155</td>\n",
       "      <td>0.091592</td>\n",
       "      <td>1.000000</td>\n",
       "      <td>-0.345589</td>\n",
       "      <td>0.011112</td>\n",
       "      <td>-0.000367</td>\n",
       "    </tr>\n",
       "    <tr>\n",
       "      <th>Longtitude</th>\n",
       "      <td>0.103235</td>\n",
       "      <td>0.197874</td>\n",
       "      <td>0.200946</td>\n",
       "      <td>0.362895</td>\n",
       "      <td>0.106164</td>\n",
       "      <td>0.106531</td>\n",
       "      <td>0.047213</td>\n",
       "      <td>-0.002582</td>\n",
       "      <td>-0.002143</td>\n",
       "      <td>-0.022175</td>\n",
       "      <td>-0.345589</td>\n",
       "      <td>1.000000</td>\n",
       "      <td>0.016326</td>\n",
       "      <td>-0.011999</td>\n",
       "    </tr>\n",
       "    <tr>\n",
       "      <th>Propertycount</th>\n",
       "      <td>-0.071677</td>\n",
       "      <td>-0.059017</td>\n",
       "      <td>-0.018140</td>\n",
       "      <td>0.017108</td>\n",
       "      <td>-0.053451</td>\n",
       "      <td>-0.032887</td>\n",
       "      <td>-0.009617</td>\n",
       "      <td>-0.018195</td>\n",
       "      <td>-0.024523</td>\n",
       "      <td>0.022420</td>\n",
       "      <td>0.011112</td>\n",
       "      <td>0.016326</td>\n",
       "      <td>1.000000</td>\n",
       "      <td>0.003388</td>\n",
       "    </tr>\n",
       "    <tr>\n",
       "      <th>Real Rooms</th>\n",
       "      <td>0.099010</td>\n",
       "      <td>0.033768</td>\n",
       "      <td>-0.022770</td>\n",
       "      <td>-0.010684</td>\n",
       "      <td>-0.226636</td>\n",
       "      <td>-0.049595</td>\n",
       "      <td>-0.010382</td>\n",
       "      <td>-0.001563</td>\n",
       "      <td>0.007241</td>\n",
       "      <td>-0.032317</td>\n",
       "      <td>-0.000367</td>\n",
       "      <td>-0.011999</td>\n",
       "      <td>0.003388</td>\n",
       "      <td>1.000000</td>\n",
       "    </tr>\n",
       "  </tbody>\n",
       "</table>\n",
       "</div>"
      ],
      "text/plain": [
       "                  Rooms     Price  Distance  Postcode  Bedroom2  Bathroom  \\\n",
       "Rooms          1.000000  0.465238  0.271511  0.085890  0.946755  0.611826   \n",
       "Price          0.465238  1.000000 -0.211384  0.044950  0.430275  0.429878   \n",
       "Distance       0.271511 -0.211384  1.000000  0.481566  0.269524  0.126201   \n",
       "Postcode       0.085890  0.044950  0.481566  1.000000  0.089292  0.120080   \n",
       "Bedroom2       0.946755  0.430275  0.269524  0.089292  1.000000  0.614892   \n",
       "Bathroom       0.611826  0.429878  0.126201  0.120080  0.614892  1.000000   \n",
       "Car            0.393878  0.201803  0.241835  0.067886  0.388491  0.307518   \n",
       "Landsize       0.037402  0.032748  0.060862  0.040664  0.037019  0.036333   \n",
       "BuildingArea   0.156229  0.100754  0.076301  0.042437  0.154157  0.147558   \n",
       "YearBuilt     -0.012749 -0.333306  0.323059  0.089805 -0.002022  0.167955   \n",
       "Lattitude      0.004872 -0.215607 -0.100417 -0.231027  0.003447 -0.059183   \n",
       "Longtitude     0.103235  0.197874  0.200946  0.362895  0.106164  0.106531   \n",
       "Propertycount -0.071677 -0.059017 -0.018140  0.017108 -0.053451 -0.032887   \n",
       "Real Rooms     0.099010  0.033768 -0.022770 -0.010684 -0.226636 -0.049595   \n",
       "\n",
       "                    Car  Landsize  BuildingArea  YearBuilt  Lattitude  \\\n",
       "Rooms          0.393878  0.037402      0.156229  -0.012749   0.004872   \n",
       "Price          0.201803  0.032748      0.100754  -0.333306  -0.215607   \n",
       "Distance       0.241835  0.060862      0.076301   0.323059  -0.100417   \n",
       "Postcode       0.067886  0.040664      0.042437   0.089805  -0.231027   \n",
       "Bedroom2       0.388491  0.037019      0.154157  -0.002022   0.003447   \n",
       "Bathroom       0.307518  0.036333      0.147558   0.167955  -0.059183   \n",
       "Car            1.000000  0.037829      0.104373   0.128702  -0.009020   \n",
       "Landsize       0.037829  1.000000      0.354530   0.044474   0.025318   \n",
       "BuildingArea   0.104373  0.354530      1.000000   0.067811   0.017155   \n",
       "YearBuilt      0.128702  0.044474      0.067811   1.000000   0.091592   \n",
       "Lattitude     -0.009020  0.025318      0.017155   0.091592   1.000000   \n",
       "Longtitude     0.047213 -0.002582     -0.002143  -0.022175  -0.345589   \n",
       "Propertycount -0.009617 -0.018195     -0.024523   0.022420   0.011112   \n",
       "Real Rooms    -0.010382 -0.001563      0.007241  -0.032317  -0.000367   \n",
       "\n",
       "               Longtitude  Propertycount  Real Rooms  \n",
       "Rooms            0.103235      -0.071677    0.099010  \n",
       "Price            0.197874      -0.059017    0.033768  \n",
       "Distance         0.200946      -0.018140   -0.022770  \n",
       "Postcode         0.362895       0.017108   -0.010684  \n",
       "Bedroom2         0.106164      -0.053451   -0.226636  \n",
       "Bathroom         0.106531      -0.032887   -0.049595  \n",
       "Car              0.047213      -0.009617   -0.010382  \n",
       "Landsize        -0.002582      -0.018195   -0.001563  \n",
       "BuildingArea    -0.002143      -0.024523    0.007241  \n",
       "YearBuilt       -0.022175       0.022420   -0.032317  \n",
       "Lattitude       -0.345589       0.011112   -0.000367  \n",
       "Longtitude       1.000000       0.016326   -0.011999  \n",
       "Propertycount    0.016326       1.000000    0.003388  \n",
       "Real Rooms      -0.011999       0.003388    1.000000  "
      ]
     },
     "execution_count": 13,
     "metadata": {},
     "output_type": "execute_result"
    }
   ],
   "source": [
    "housing.corr()"
   ]
  },
  {
   "cell_type": "markdown",
   "metadata": {},
   "source": [
    "_Since our outcome variables is \"Price\", we tried to create the correlation table to see the list of the correlation with Price. After we made it, we can see that the most correlation with the price is \"Rooms\", later is \"Bedroom2\", then is \"Bathroom\", \"Car\" is following. And sicne those variables have the high correlation, we will use try to analusus these variables and after we do the explorary job, may use these useful variables in our model._"
   ]
  },
  {
   "cell_type": "code",
   "execution_count": 14,
   "metadata": {},
   "outputs": [
    {
     "name": "stdout",
     "output_type": "stream",
     "text": [
      "Price            1.000000\n",
      "Rooms            0.465238\n",
      "Bedroom2         0.430275\n",
      "Bathroom         0.429878\n",
      "Car              0.201803\n",
      "Longtitude       0.197874\n",
      "BuildingArea     0.100754\n",
      "Postcode         0.044950\n",
      "Real Rooms       0.033768\n",
      "Landsize         0.032748\n",
      "Propertycount   -0.059017\n",
      "Distance        -0.211384\n",
      "Lattitude       -0.215607\n",
      "YearBuilt       -0.333306\n",
      "Name: Price, dtype: float64\n"
     ]
    }
   ],
   "source": [
    "corr_matrix = housing.corr()\n",
    "print(corr_matrix[\"Price\"].sort_values(ascending=False))"
   ]
  },
  {
   "cell_type": "markdown",
   "metadata": {},
   "source": [
    "_Looking for the distribution of 'Price'_"
   ]
  },
  {
   "cell_type": "code",
   "execution_count": 15,
   "metadata": {},
   "outputs": [
    {
     "data": {
      "image/png": "[encoded data removed]",
      "text/plain": [
       "<matplotlib.figure.Figure at 0x1d6a7681240>"
      ]
     },
     "metadata": {},
     "output_type": "display_data"
    }
   ],
   "source": [
    "df = housing.loc[(housing['Price'].isnull() == False)]\n",
    "plt.figure(figsize=(13,6))\n",
    "sns.distplot(df['Price'], kde = True,hist_kws=dict(edgecolor=\"k\"))\n",
    "plt.title(\"Histogram of Price\")\n",
    "plt.xlabel(\"Price\")\n",
    "plt.show()"
   ]
  },
  {
   "cell_type": "markdown",
   "metadata": {},
   "source": [
    "__a. two-way tables and side-by-side bar charts for relationships between categorical data__"
   ]
  },
  {
   "cell_type": "markdown",
   "metadata": {},
   "source": [
    "_Create a new data frame by selecting useful variables._"
   ]
  },
  {
   "cell_type": "code",
   "execution_count": 16,
   "metadata": {},
   "outputs": [],
   "source": [
    "df = housing[['Rooms', 'Type', 'Price', 'BuildingArea',\n",
    "              'Method','Distance', 'Bedroom2', 'Bathroom', \n",
    "              'Car', 'CouncilArea','Regionname','YearBuilt']]"
   ]
  },
  {
   "cell_type": "markdown",
   "metadata": {},
   "source": [
    "__Creating a new variable: 'RangeofDistance'__"
   ]
  },
  {
   "cell_type": "markdown",
   "metadata": {},
   "source": [
    "_In data, distance are too many differnet number that hard to analysis. Hence, we used the \"pd.cut\" let \"Distance\" split into 5 group for eaiser to analysis its relationship with Price. The reason we use (0,60,10) is the min of distance is 0, and the maximum is 60. Besides, after we discussed, we believed 5 groups is better to do the explorary job._"
   ]
  },
  {
   "cell_type": "code",
   "execution_count": 17,
   "metadata": {},
   "outputs": [
    {
     "name": "stderr",
     "output_type": "stream",
     "text": [
      "C:\\Users\\yvonne\\Anaconda3\\lib\\site-packages\\ipykernel_launcher.py:1: SettingWithCopyWarning: \n",
      "A value is trying to be set on a copy of a slice from a DataFrame.\n",
      "Try using .loc[row_indexer,col_indexer] = value instead\n",
      "\n",
      "See the caveats in the documentation: http://pandas.pydata.org/pandas-docs/stable/indexing.html#indexing-view-versus-copy\n",
      "  \"\"\"Entry point for launching an IPython kernel.\n"
     ]
    }
   ],
   "source": [
    "df[\"RangeofDistance\"] =pd.cut(df.Distance,bins=np.arange(0,60,10),right=False)\n",
    "housing[\"RangeofDistance\"] =pd.cut(housing.Distance,bins=np.arange(0,60,10),right=False)"
   ]
  },
  {
   "cell_type": "markdown",
   "metadata": {},
   "source": [
    "_Here is how the data of distance looks like, after we split it into 5 group_"
   ]
  },
  {
   "cell_type": "code",
   "execution_count": 18,
   "metadata": {},
   "outputs": [
    {
     "name": "stdout",
     "output_type": "stream",
     "text": [
      "RangeofDistance\n",
      "[0, 10)     [nan, 1480000.0, 1035000.0, 1465000.0, 850000....\n",
      "[10, 20)    [840000.0, 730000.0, 770000.0, nan, 603000.0, ...\n",
      "[20, 30)    [640000.0, 500000.0, 825000.0, 642000.0, 66500...\n",
      "[30, 40)    [627500.0, 572000.0, nan, 400000.0, 640000.0, ...\n",
      "[40, 50)    [689000.0, 521000.0, 650000.0, 510000.0, 54000...\n",
      "Name: Price, dtype: object\n"
     ]
    }
   ],
   "source": [
    "#cant make the thing I want.....\n",
    "##From below, easily see that the most close to the Business Center.....\n",
    "print(df.groupby('RangeofDistance')['Price'].unique())"
   ]
  },
  {
   "cell_type": "markdown",
   "metadata": {},
   "source": [
    "_From below, we can see that as the distance far from Business Center, the number of rooms,bedroom and Bathrooms would increase which mean that if you want to buy a hourse to invest, like for renting the house out, and near the \"CBD\", that is not a good choice for some big family, it good to businessman or small family._"
   ]
  },
  {
   "cell_type": "code",
   "execution_count": 19,
   "metadata": {
    "scrolled": false
   },
   "outputs": [
    {
     "name": "stdout",
     "output_type": "stream",
     "text": [
      "RangeofDistance\n",
      "[0, 10)     2.774507\n",
      "[10, 20)    3.240573\n",
      "[20, 30)    3.381512\n",
      "[30, 40)    3.372385\n",
      "[40, 50)    3.649573\n",
      "Name: Rooms, dtype: float64\n",
      "RangeofDistance\n",
      "[0, 10)     2.825456\n",
      "[10, 20)    3.295725\n",
      "[20, 30)    3.459116\n",
      "[30, 40)    3.425987\n",
      "[40, 50)    3.688889\n",
      "Name: Bedroom2, dtype: float64\n",
      "RangeofDistance\n",
      "[0, 10)     1.537189\n",
      "[10, 20)    1.689553\n",
      "[20, 30)    1.789741\n",
      "[30, 40)    1.722039\n",
      "[40, 50)    1.922222\n",
      "Name: Bathroom, dtype: float64\n"
     ]
    }
   ],
   "source": [
    "print(df.groupby('RangeofDistance')['Rooms'].mean())\n",
    "print(df.groupby('RangeofDistance')['Bedroom2'].mean())\n",
    "print(df.groupby('RangeofDistance')['Bathroom'].mean())"
   ]
  },
  {
   "cell_type": "markdown",
   "metadata": {},
   "source": [
    "_In addition, as a adviser to help people to invest, we showed the relationship between the Distance to \"CBD\" and the distribution of house. We can conclude that mostly house like to live in the range from 0 to 20. That is the better range to invest hosue._"
   ]
  },
  {
   "cell_type": "code",
   "execution_count": 20,
   "metadata": {},
   "outputs": [
    {
     "data": {
      "image/png": "[encoded data removed]",
      "text/plain": [
       "<matplotlib.figure.Figure at 0x1d6a6e1def0>"
      ]
     },
     "metadata": {},
     "output_type": "display_data"
    }
   ],
   "source": [
    "sns.countplot(data = df, x = 'RangeofDistance')\n",
    "plt.title(\"RangeofDistance Bar plot\")\n",
    "plt.show()"
   ]
  },
  {
   "cell_type": "markdown",
   "metadata": {},
   "source": [
    "__Creating a new variable: 'yeargroup'__"
   ]
  },
  {
   "cell_type": "code",
   "execution_count": 21,
   "metadata": {},
   "outputs": [
    {
     "name": "stdout",
     "output_type": "stream",
     "text": [
      "                     Price\n",
      "yeargroup                 \n",
      "[1965, 1975)  7.894192e+05\n",
      "[1975, 1985)  8.578595e+05\n",
      "[1985, 1995)  9.233559e+05\n",
      "[1995, 2005)  9.456095e+05\n",
      "[2005, 2015)  9.229580e+05\n",
      "[2015, 2025)  1.225991e+06\n",
      "(6, 1)\n"
     ]
    }
   ],
   "source": [
    "# starting with the mean of YearBuilt\n",
    "housing[\"yeargroup\"] = pd.cut(housing.YearBuilt,bins=np.arange(1965,2050,10),right=False)\n",
    "summary = housing.groupby('yeargroup')[[\"Price\"]].mean()\n",
    "summary = summary.dropna()\n",
    "print(summary)\n",
    "print(summary.shape)"
   ]
  },
  {
   "cell_type": "markdown",
   "metadata": {},
   "source": [
    "The mean price increases as year increases"
   ]
  },
  {
   "cell_type": "code",
   "execution_count": 22,
   "metadata": {},
   "outputs": [
    {
     "name": "stdout",
     "output_type": "stream",
     "text": [
      "[1965 1975 1985 1995 2005 2015]\n",
      "             Price\n",
      "1965  7.894192e+05\n",
      "1975  8.578595e+05\n",
      "1985  9.233559e+05\n",
      "1995  9.456095e+05\n",
      "2005  9.229580e+05\n",
      "2015  1.225991e+06\n"
     ]
    }
   ],
   "source": [
    "index = np.array([1965,1975,1985,1995,2005,2015])\n",
    "print(index)\n",
    "summary.index = index\n",
    "print(summary)"
   ]
  },
  {
   "cell_type": "code",
   "execution_count": 23,
   "metadata": {},
   "outputs": [
    {
     "data": {
      "image/png": "[encoded data removed]",
      "text/plain": [
       "<matplotlib.figure.Figure at 0x1d6a6e1deb8>"
      ]
     },
     "metadata": {},
     "output_type": "display_data"
    }
   ],
   "source": [
    "#Plotting the line plot of price vs year\n",
    "plt.plot(summary)\n",
    "plt.title(\"Line plot of Price by year\")\n",
    "plt.xlabel(\"Year\")\n",
    "plt.ylabel(\"Price\")\n",
    "plt.show()"
   ]
  },
  {
   "cell_type": "markdown",
   "metadata": {},
   "source": [
    "Oeverlly, price increases as year increases, starting from 2005, the  price increases in a respectively large slope."
   ]
  },
  {
   "cell_type": "markdown",
   "metadata": {},
   "source": [
    "__Variable: 'Type'__"
   ]
  },
  {
   "cell_type": "code",
   "execution_count": 24,
   "metadata": {
    "scrolled": false
   },
   "outputs": [
    {
     "data": {
      "image/png": "[encoded data removed]",
      "text/plain": [
       "<matplotlib.figure.Figure at 0x1d6a7fe6e80>"
      ]
     },
     "metadata": {},
     "output_type": "display_data"
    }
   ],
   "source": [
    "#Type: h - house,cottage,villa, semi,terrace; \n",
    "# u - unit, duplex; \n",
    "# t - townhouse; dev site - development site; \n",
    "# o res - other residential\n",
    "sns.countplot(data = df,x = 'Type')\n",
    "plt.title(\"Bar plor of Type\")\n",
    "plt.show()"
   ]
  },
  {
   "cell_type": "markdown",
   "metadata": {},
   "source": [
    "The number of type-h housing is the most and type-t has the least."
   ]
  },
  {
   "cell_type": "markdown",
   "metadata": {},
   "source": [
    "_From the following summary table, we can see that...._"
   ]
  },
  {
   "cell_type": "code",
   "execution_count": 25,
   "metadata": {},
   "outputs": [
    {
     "name": "stdout",
     "output_type": "stream",
     "text": [
      "Type\n",
      "h    23980\n",
      "t     3580\n",
      "u     7297\n",
      "Name: Rooms, dtype: int64\n",
      "Type\n",
      "h    1.866697\n",
      "t    1.602782\n",
      "u    1.140742\n",
      "Name: Car, dtype: float64\n"
     ]
    }
   ],
   "source": [
    "print(housing.groupby('Type')['Rooms'].count())\n",
    "print(housing.groupby('Type')['Car'].mean())"
   ]
  },
  {
   "cell_type": "markdown",
   "metadata": {},
   "source": [
    "Averagely, type-h housing has 1.87 parking space, type-t has 1.60 parking space and type-u has 1.14 parking space."
   ]
  },
  {
   "cell_type": "markdown",
   "metadata": {},
   "source": [
    "__Variable: CouncilArea__"
   ]
  },
  {
   "cell_type": "code",
   "execution_count": 26,
   "metadata": {
    "scrolled": false
   },
   "outputs": [
    {
     "data": {
      "image/png": "[encoded data removed]",
      "text/plain": [
       "<matplotlib.figure.Figure at 0x1d6a7688080>"
      ]
     },
     "metadata": {},
     "output_type": "display_data"
    }
   ],
   "source": [
    "# plotting the CouncilArea countplot.\n",
    "plt.figure(figsize=(13,8))\n",
    "sns.countplot(data = df,x = 'CouncilArea')\n",
    "plt.show()"
   ]
  },
  {
   "cell_type": "code",
   "execution_count": 27,
   "metadata": {},
   "outputs": [
    {
     "name": "stdout",
     "output_type": "stream",
     "text": [
      "CouncilArea\n",
      "Boroondara City Council       2520\n",
      "Darebin City Council          2349\n",
      "Moreland City Council         1790\n",
      "Glen Eira City Council        1643\n",
      "Moonee Valley City Council    1584\n",
      "Name: Price, dtype: int64\n"
     ]
    }
   ],
   "source": [
    "print(housing.groupby('CouncilArea')['Price'].count().sort_values(ascending=False).head())"
   ]
  },
  {
   "cell_type": "markdown",
   "metadata": {},
   "source": [
    "Boroondara City Council, Darebin City Council, Moreland City Council, Glen Eira City Council\n",
    "and moonee Valley city Council are top five areas that have the most housing."
   ]
  },
  {
   "cell_type": "markdown",
   "metadata": {},
   "source": [
    "__Variable: Method__"
   ]
  },
  {
   "cell_type": "code",
   "execution_count": 28,
   "metadata": {},
   "outputs": [
    {
     "data": {
      "image/png": "[encoded data removed]",
      "text/plain": [
       "<matplotlib.figure.Figure at 0x1d6a7851f98>"
      ]
     },
     "metadata": {},
     "output_type": "display_data"
    }
   ],
   "source": [
    "# plotting bar plot of method\n",
    "sns.countplot(data = df,x = 'Method')\n",
    "plt.title(\"Bar plot of Method\")\n",
    "plt.show()"
   ]
  },
  {
   "cell_type": "markdown",
   "metadata": {},
   "source": [
    "_Method:_\n",
    "\n",
    "_S - property sold_\n",
    "\n",
    "_SP - property sold prior_\n",
    "\n",
    "_PI - property passed in_\n",
    "\n",
    "_PN - sold prior not disclosed_\n",
    "\n",
    "_SN - sold not disclosed_\n",
    "\n",
    "_NB - no bid_\n",
    "\n",
    "_VB - vendor bid_\n",
    "\n",
    "_W - withdrawn prior to auction_\n",
    "\n",
    "_SA - sold after auction_\n",
    "\n",
    "_SS - sold after auction price not disclosed_"
   ]
  },
  {
   "cell_type": "markdown",
   "metadata": {},
   "source": [
    "__b. scatter plots for relationships between numeric data__"
   ]
  },
  {
   "cell_type": "markdown",
   "metadata": {},
   "source": [
    "__Cleaning Data__\n",
    "\n",
    "_As usual, we delete the NA value in some variables, including 'Rooms','Price','Bedroom2','Bathroom','Landsize','Car','BuildingArea'_"
   ]
  },
  {
   "cell_type": "code",
   "execution_count": 29,
   "metadata": {
    "scrolled": false
   },
   "outputs": [],
   "source": [
    "df = housing.loc[((housing['Rooms'].isnull() == False) & \n",
    "                  (housing['Price'].isnull() == False) &  \n",
    "                  (housing['Bedroom2'].isnull() == False) & \n",
    "                  (housing['Bathroom'].isnull() == False) & \n",
    "                  (housing['Car'].isnull() == False) & \n",
    "                 (housing['Landsize'].isnull() == False) & \n",
    "                 (housing['BuildingArea'].isnull() == False))]"
   ]
  },
  {
   "cell_type": "code",
   "execution_count": 30,
   "metadata": {},
   "outputs": [
    {
     "name": "stdout",
     "output_type": "stream",
     "text": [
      "<class 'pandas.core.frame.DataFrame'>\n",
      "Int64Index: 9244 entries, 2 to 34856\n",
      "Data columns (total 24 columns):\n",
      "Suburb             9244 non-null object\n",
      "Address            9244 non-null object\n",
      "Rooms              9244 non-null int64\n",
      "Type               9244 non-null object\n",
      "Price              9244 non-null float64\n",
      "Method             9244 non-null object\n",
      "SellerG            9244 non-null object\n",
      "Date               9244 non-null object\n",
      "Distance           9244 non-null float64\n",
      "Postcode           9244 non-null float64\n",
      "Bedroom2           9244 non-null float64\n",
      "Bathroom           9244 non-null float64\n",
      "Car                9244 non-null float64\n",
      "Landsize           9244 non-null float64\n",
      "BuildingArea       9244 non-null float64\n",
      "YearBuilt          8895 non-null float64\n",
      "CouncilArea        9244 non-null object\n",
      "Lattitude          9235 non-null float64\n",
      "Longtitude         9235 non-null float64\n",
      "Regionname         9244 non-null object\n",
      "Propertycount      9244 non-null float64\n",
      "Real Rooms         9244 non-null float64\n",
      "RangeofDistance    9244 non-null category\n",
      "yeargroup          5024 non-null category\n",
      "dtypes: category(2), float64(13), int64(1), object(8)\n",
      "memory usage: 1.6+ MB\n"
     ]
    }
   ],
   "source": [
    "df.info()"
   ]
  },
  {
   "cell_type": "markdown",
   "metadata": {},
   "source": [
    "_After cleaning data, there are 8513 observations, 24 variables._"
   ]
  },
  {
   "cell_type": "code",
   "execution_count": 31,
   "metadata": {},
   "outputs": [
    {
     "name": "stdout",
     "output_type": "stream",
     "text": [
      "(9244, 24)\n"
     ]
    }
   ],
   "source": [
    "print(df.shape)"
   ]
  },
  {
   "cell_type": "code",
   "execution_count": 32,
   "metadata": {},
   "outputs": [
    {
     "data": {
      "text/html": [
       "<div>\n",
       "<style scoped>\n",
       "    .dataframe tbody tr th:only-of-type {\n",
       "        vertical-align: middle;\n",
       "    }\n",
       "\n",
       "    .dataframe tbody tr th {\n",
       "        vertical-align: top;\n",
       "    }\n",
       "\n",
       "    .dataframe thead th {\n",
       "        text-align: right;\n",
       "    }\n",
       "</style>\n",
       "<table border=\"1\" class=\"dataframe\">\n",
       "  <thead>\n",
       "    <tr style=\"text-align: right;\">\n",
       "      <th></th>\n",
       "      <th>count</th>\n",
       "      <th>mean</th>\n",
       "      <th>std</th>\n",
       "      <th>min</th>\n",
       "      <th>25%</th>\n",
       "      <th>50%</th>\n",
       "      <th>75%</th>\n",
       "      <th>max</th>\n",
       "    </tr>\n",
       "  </thead>\n",
       "  <tbody>\n",
       "    <tr>\n",
       "      <th>Rooms</th>\n",
       "      <td>9244.0</td>\n",
       "      <td>3.098118e+00</td>\n",
       "      <td>0.964029</td>\n",
       "      <td>1.00000</td>\n",
       "      <td>2.0000</td>\n",
       "      <td>3.0000</td>\n",
       "      <td>4.000000e+00</td>\n",
       "      <td>1.200000e+01</td>\n",
       "    </tr>\n",
       "    <tr>\n",
       "      <th>Price</th>\n",
       "      <td>9244.0</td>\n",
       "      <td>1.092329e+06</td>\n",
       "      <td>679621.207086</td>\n",
       "      <td>131000.00000</td>\n",
       "      <td>641000.0000</td>\n",
       "      <td>900000.0000</td>\n",
       "      <td>1.341250e+06</td>\n",
       "      <td>9.000000e+06</td>\n",
       "    </tr>\n",
       "    <tr>\n",
       "      <th>Distance</th>\n",
       "      <td>9244.0</td>\n",
       "      <td>1.124115e+01</td>\n",
       "      <td>6.882570</td>\n",
       "      <td>0.00000</td>\n",
       "      <td>6.4000</td>\n",
       "      <td>10.3000</td>\n",
       "      <td>1.390000e+01</td>\n",
       "      <td>4.810000e+01</td>\n",
       "    </tr>\n",
       "    <tr>\n",
       "      <th>Postcode</th>\n",
       "      <td>9244.0</td>\n",
       "      <td>3.112417e+03</td>\n",
       "      <td>115.001476</td>\n",
       "      <td>3000.00000</td>\n",
       "      <td>3044.0000</td>\n",
       "      <td>3083.0000</td>\n",
       "      <td>3.150250e+03</td>\n",
       "      <td>3.977000e+03</td>\n",
       "    </tr>\n",
       "    <tr>\n",
       "      <th>Bedroom2</th>\n",
       "      <td>9244.0</td>\n",
       "      <td>3.077347e+00</td>\n",
       "      <td>0.966366</td>\n",
       "      <td>0.00000</td>\n",
       "      <td>2.0000</td>\n",
       "      <td>3.0000</td>\n",
       "      <td>4.000000e+00</td>\n",
       "      <td>1.200000e+01</td>\n",
       "    </tr>\n",
       "    <tr>\n",
       "      <th>Bathroom</th>\n",
       "      <td>9244.0</td>\n",
       "      <td>1.652423e+00</td>\n",
       "      <td>0.724991</td>\n",
       "      <td>1.00000</td>\n",
       "      <td>1.0000</td>\n",
       "      <td>2.0000</td>\n",
       "      <td>2.000000e+00</td>\n",
       "      <td>9.000000e+00</td>\n",
       "    </tr>\n",
       "    <tr>\n",
       "      <th>Car</th>\n",
       "      <td>9244.0</td>\n",
       "      <td>1.695370e+00</td>\n",
       "      <td>0.975529</td>\n",
       "      <td>0.00000</td>\n",
       "      <td>1.0000</td>\n",
       "      <td>2.0000</td>\n",
       "      <td>2.000000e+00</td>\n",
       "      <td>1.000000e+01</td>\n",
       "    </tr>\n",
       "    <tr>\n",
       "      <th>Landsize</th>\n",
       "      <td>9244.0</td>\n",
       "      <td>5.288338e+02</td>\n",
       "      <td>1212.965090</td>\n",
       "      <td>0.00000</td>\n",
       "      <td>210.0000</td>\n",
       "      <td>474.0000</td>\n",
       "      <td>6.510000e+02</td>\n",
       "      <td>4.450000e+04</td>\n",
       "    </tr>\n",
       "    <tr>\n",
       "      <th>BuildingArea</th>\n",
       "      <td>9244.0</td>\n",
       "      <td>1.569946e+02</td>\n",
       "      <td>480.976260</td>\n",
       "      <td>0.00000</td>\n",
       "      <td>100.0000</td>\n",
       "      <td>132.0000</td>\n",
       "      <td>1.810000e+02</td>\n",
       "      <td>4.451500e+04</td>\n",
       "    </tr>\n",
       "    <tr>\n",
       "      <th>YearBuilt</th>\n",
       "      <td>8895.0</td>\n",
       "      <td>1.965777e+03</td>\n",
       "      <td>37.055054</td>\n",
       "      <td>1196.00000</td>\n",
       "      <td>1945.0000</td>\n",
       "      <td>1970.0000</td>\n",
       "      <td>2.000000e+03</td>\n",
       "      <td>2.019000e+03</td>\n",
       "    </tr>\n",
       "    <tr>\n",
       "      <th>Lattitude</th>\n",
       "      <td>9235.0</td>\n",
       "      <td>-3.780447e+01</td>\n",
       "      <td>0.091151</td>\n",
       "      <td>-38.17436</td>\n",
       "      <td>-37.8588</td>\n",
       "      <td>-37.7988</td>\n",
       "      <td>-3.774862e+01</td>\n",
       "      <td>-3.739946e+01</td>\n",
       "    </tr>\n",
       "    <tr>\n",
       "      <th>Longtitude</th>\n",
       "      <td>9235.0</td>\n",
       "      <td>1.449912e+02</td>\n",
       "      <td>0.119210</td>\n",
       "      <td>144.42379</td>\n",
       "      <td>144.9197</td>\n",
       "      <td>144.9986</td>\n",
       "      <td>1.450646e+02</td>\n",
       "      <td>1.455264e+02</td>\n",
       "    </tr>\n",
       "    <tr>\n",
       "      <th>Propertycount</th>\n",
       "      <td>9244.0</td>\n",
       "      <td>7.463867e+03</td>\n",
       "      <td>4369.422310</td>\n",
       "      <td>249.00000</td>\n",
       "      <td>4380.0000</td>\n",
       "      <td>6543.0000</td>\n",
       "      <td>1.033100e+04</td>\n",
       "      <td>2.165000e+04</td>\n",
       "    </tr>\n",
       "    <tr>\n",
       "      <th>Real Rooms</th>\n",
       "      <td>9244.0</td>\n",
       "      <td>2.077023e-02</td>\n",
       "      <td>0.257320</td>\n",
       "      <td>-6.00000</td>\n",
       "      <td>0.0000</td>\n",
       "      <td>0.0000</td>\n",
       "      <td>0.000000e+00</td>\n",
       "      <td>4.000000e+00</td>\n",
       "    </tr>\n",
       "  </tbody>\n",
       "</table>\n",
       "</div>"
      ],
      "text/plain": [
       "                count          mean            std           min          25%  \\\n",
       "Rooms          9244.0  3.098118e+00       0.964029       1.00000       2.0000   \n",
       "Price          9244.0  1.092329e+06  679621.207086  131000.00000  641000.0000   \n",
       "Distance       9244.0  1.124115e+01       6.882570       0.00000       6.4000   \n",
       "Postcode       9244.0  3.112417e+03     115.001476    3000.00000    3044.0000   \n",
       "Bedroom2       9244.0  3.077347e+00       0.966366       0.00000       2.0000   \n",
       "Bathroom       9244.0  1.652423e+00       0.724991       1.00000       1.0000   \n",
       "Car            9244.0  1.695370e+00       0.975529       0.00000       1.0000   \n",
       "Landsize       9244.0  5.288338e+02    1212.965090       0.00000     210.0000   \n",
       "BuildingArea   9244.0  1.569946e+02     480.976260       0.00000     100.0000   \n",
       "YearBuilt      8895.0  1.965777e+03      37.055054    1196.00000    1945.0000   \n",
       "Lattitude      9235.0 -3.780447e+01       0.091151     -38.17436     -37.8588   \n",
       "Longtitude     9235.0  1.449912e+02       0.119210     144.42379     144.9197   \n",
       "Propertycount  9244.0  7.463867e+03    4369.422310     249.00000    4380.0000   \n",
       "Real Rooms     9244.0  2.077023e-02       0.257320      -6.00000       0.0000   \n",
       "\n",
       "                       50%           75%           max  \n",
       "Rooms               3.0000  4.000000e+00  1.200000e+01  \n",
       "Price          900000.0000  1.341250e+06  9.000000e+06  \n",
       "Distance           10.3000  1.390000e+01  4.810000e+01  \n",
       "Postcode         3083.0000  3.150250e+03  3.977000e+03  \n",
       "Bedroom2            3.0000  4.000000e+00  1.200000e+01  \n",
       "Bathroom            2.0000  2.000000e+00  9.000000e+00  \n",
       "Car                 2.0000  2.000000e+00  1.000000e+01  \n",
       "Landsize          474.0000  6.510000e+02  4.450000e+04  \n",
       "BuildingArea      132.0000  1.810000e+02  4.451500e+04  \n",
       "YearBuilt        1970.0000  2.000000e+03  2.019000e+03  \n",
       "Lattitude         -37.7988 -3.774862e+01 -3.739946e+01  \n",
       "Longtitude        144.9986  1.450646e+02  1.455264e+02  \n",
       "Propertycount    6543.0000  1.033100e+04  2.165000e+04  \n",
       "Real Rooms          0.0000  0.000000e+00  4.000000e+00  "
      ]
     },
     "execution_count": 32,
     "metadata": {},
     "output_type": "execute_result"
    }
   ],
   "source": [
    "df.describe().transpose()"
   ]
  },
  {
   "cell_type": "markdown",
   "metadata": {},
   "source": [
    "_Creating a new data frame only with numeric variables, which strong correlate with 'Price'_"
   ]
  },
  {
   "cell_type": "code",
   "execution_count": 33,
   "metadata": {
    "scrolled": false
   },
   "outputs": [
    {
     "name": "stdout",
     "output_type": "stream",
     "text": [
      "<class 'pandas.core.frame.DataFrame'>\n",
      "Int64Index: 9244 entries, 2 to 34856\n",
      "Data columns (total 5 columns):\n",
      "Price       9244 non-null float64\n",
      "Rooms       9244 non-null int64\n",
      "Bathroom    9244 non-null float64\n",
      "Bedroom2    9244 non-null float64\n",
      "Car         9244 non-null float64\n",
      "dtypes: float64(4), int64(1)\n",
      "memory usage: 433.3 KB\n"
     ]
    }
   ],
   "source": [
    "df = df.loc[:,[\"Price\",\"Rooms\",\"Bathroom\",\"Bedroom2\",\"Car\"]]\n",
    "df.info()"
   ]
  },
  {
   "cell_type": "markdown",
   "metadata": {},
   "source": [
    "__Pairplot__"
   ]
  },
  {
   "cell_type": "code",
   "execution_count": 34,
   "metadata": {
    "scrolled": false
   },
   "outputs": [
    {
     "data": {
      "image/png": "[encoded data removed]",
      "text/plain": [
       "<matplotlib.figure.Figure at 0x1d6a7928908>"
      ]
     },
     "metadata": {},
     "output_type": "display_data"
    }
   ],
   "source": [
    "sns.pairplot(df)\n",
    "plt.show()"
   ]
  },
  {
   "cell_type": "markdown",
   "metadata": {},
   "source": [
    "Through the pair plot, we have a basic understanding of our data. \n",
    "\n"
   ]
  },
  {
   "cell_type": "markdown",
   "metadata": {},
   "source": [
    "__Linear Regression scatter plot__"
   ]
  },
  {
   "cell_type": "code",
   "execution_count": 35,
   "metadata": {},
   "outputs": [
    {
     "data": {
      "image/png": "[encoded data removed]",
      "text/plain": [
       "<matplotlib.figure.Figure at 0x1d6a7e6fdd8>"
      ]
     },
     "metadata": {},
     "output_type": "display_data"
    }
   ],
   "source": [
    "#regreesion plot between price and predictors.\n",
    "fig, axs = plt.subplots(ncols=4)\n",
    "fig.set_size_inches(25, 6.78)\n",
    "\n",
    "sns.regplot(df.Rooms,df.Price,color=\"red\",ax=axs[0])\n",
    "\n",
    "sns.regplot(df.Bathroom,df.Price,color=\"yellow\",ax=axs[1])\n",
    "\n",
    "sns.regplot(df.Bedroom2,df.Price,color=\"blue\",ax=axs[2])\n",
    "\n",
    "sns.regplot(df.Car,df.Price,color=\"green\",ax=axs[3])\n",
    "\n",
    "plt.show()"
   ]
  },
  {
   "cell_type": "markdown",
   "metadata": {},
   "source": [
    "There are linear relationship between price and rooms, bathroom, bedrooms and car.\n",
    "But slope between car and price is the smallest."
   ]
  },
  {
   "cell_type": "markdown",
   "metadata": {},
   "source": [
    "__Comparing the correlation coefficient among the variables 'Rooms'; 'Bathroom'; 'Bedroom'__"
   ]
  },
  {
   "cell_type": "code",
   "execution_count": 36,
   "metadata": {},
   "outputs": [
    {
     "name": "stdout",
     "output_type": "stream",
     "text": [
      "<class 'pandas.core.frame.DataFrame'>\n",
      "RangeIndex: 34857 entries, 0 to 34856\n",
      "Data columns (total 4 columns):\n",
      "Price       27247 non-null float64\n",
      "Rooms       34857 non-null int64\n",
      "Bathroom    26631 non-null float64\n",
      "Bedroom2    26640 non-null float64\n",
      "dtypes: float64(3), int64(1)\n",
      "memory usage: 1.1 MB\n"
     ]
    }
   ],
   "source": [
    "df = housing.loc[:,[\"Price\",\"Rooms\",\"Bathroom\",\"Bedroom2\"]]\n",
    "df.info()"
   ]
  },
  {
   "cell_type": "code",
   "execution_count": 37,
   "metadata": {},
   "outputs": [
    {
     "name": "stdout",
     "output_type": "stream",
     "text": [
      "             Price     Rooms  Bathroom  Bedroom2\n",
      "Price     1.000000  0.465238  0.429878  0.430275\n",
      "Rooms     0.465238  1.000000  0.611826  0.946755\n",
      "Bathroom  0.429878  0.611826  1.000000  0.614892\n",
      "Bedroom2  0.430275  0.946755  0.614892  1.000000\n"
     ]
    }
   ],
   "source": [
    "corr = df.corr()\n",
    "print(corr)"
   ]
  },
  {
   "cell_type": "markdown",
   "metadata": {},
   "source": [
    "_Based on the scatter plots and correlation coefficient table above, we found that there are collinearity among the predictors \"Rooms\"; \"Bathroom\"; and \"Bedroom\". Thus, we may only pick one of them in the model._"
   ]
  },
  {
   "cell_type": "markdown",
   "metadata": {},
   "source": [
    "__c. side-by-side histograms or boxplots for relationships between numeric and categorical data__"
   ]
  },
  {
   "cell_type": "markdown",
   "metadata": {},
   "source": [
    "_Boxplot between ('Type'; 'Method'; 'RangeofDistance'; 'yeargroup') and 'Price'_"
   ]
  },
  {
   "cell_type": "code",
   "execution_count": 38,
   "metadata": {
    "scrolled": false
   },
   "outputs": [
    {
     "name": "stdout",
     "output_type": "stream",
     "text": [
      "<class 'pandas.core.frame.DataFrame'>\n",
      "Int64Index: 27247 entries, 1 to 34856\n",
      "Data columns (total 5 columns):\n",
      "Price              27247 non-null float64\n",
      "Method             27247 non-null object\n",
      "RangeofDistance    27246 non-null category\n",
      "yeargroup          7015 non-null category\n",
      "Type               27247 non-null object\n",
      "dtypes: category(2), float64(1), object(2)\n",
      "memory usage: 904.9+ KB\n"
     ]
    },
    {
     "data": {
      "image/png": "[encoded data removed]",
      "text/plain": [
       "<matplotlib.figure.Figure at 0x1d6a965da20>"
      ]
     },
     "metadata": {},
     "output_type": "display_data"
    }
   ],
   "source": [
    "df = housing.loc[(housing['Price'].isnull() == False),[\"Price\",\"Method\",\"RangeofDistance\",\"yeargroup\",\"Type\"]]\n",
    "df.info()\n",
    "\n",
    "plt.figure(figsize=(16,12))\n",
    "plt.subplot(2,2,1)\n",
    "sns.boxplot(x=\"Type\", y=\"Price\", data = df)\n",
    "plt.title(\"Box plot with Type & Price\")\n",
    "\n",
    "plt.subplot(2,2,2)\n",
    "sns.boxplot(x=\"Method\", y=\"Price\", data = df)\n",
    "plt.title(\"Box plot with Method & Price\")\n",
    "\n",
    "plt.subplot(2,2,3)\n",
    "sns.boxplot(x=\"RangeofDistance\", y=\"Price\", data = df)\n",
    "plt.title(\"Box plot with RangeofDistance & Price\")\n",
    "\n",
    "plt.subplot(2,2,4)\n",
    "sns.boxplot(x=\"yeargroup\", y=\"Price\", data = df)\n",
    "plt.title(\"Box plot with yeargroup & Price\")\n",
    "\n",
    "plt.show()"
   ]
  },
  {
   "cell_type": "markdown",
   "metadata": {},
   "source": [
    "The above boxplot of price between four categorical variable: Type, Method, RangeDistance, yeargroup.\n",
    "The price mean for different methods has very slight difference. However, type, distance and year should be main predictors of price "
   ]
  },
  {
   "cell_type": "markdown",
   "metadata": {},
   "source": [
    "# Model\n",
    "\n"
   ]
  },
  {
   "cell_type": "markdown",
   "metadata": {},
   "source": [
    "__Split cleaning data into training and testing date set__ "
   ]
  },
  {
   "cell_type": "code",
   "execution_count": 39,
   "metadata": {},
   "outputs": [
    {
     "name": "stdout",
     "output_type": "stream",
     "text": [
      "<class 'pandas.core.frame.DataFrame'>\n",
      "Int64Index: 6970 entries, 6 to 34854\n",
      "Data columns (total 10 columns):\n",
      "Price              6970 non-null float64\n",
      "Rooms              6970 non-null int64\n",
      "Bathroom           6970 non-null float64\n",
      "Bedroom2           6970 non-null float64\n",
      "Car                6970 non-null float64\n",
      "RangeofDistance    6970 non-null category\n",
      "yeargroup          6970 non-null category\n",
      "Type               6970 non-null object\n",
      "Method             6970 non-null object\n",
      "YearBuilt          6970 non-null float64\n",
      "dtypes: category(2), float64(5), int64(1), object(2)\n",
      "memory usage: 503.9+ KB\n"
     ]
    }
   ],
   "source": [
    "df = housing.loc[:,[\"Price\",\"Rooms\",\"Bathroom\",\"Bedroom2\",\"Car\", \"RangeofDistance\", \"yeargroup\", \"Type\", \"Method\", \"YearBuilt\"]]\n",
    "df = df.loc[((df['yeargroup'].isnull() == False) & \n",
    "             (df['Price'].isnull() == False) &\n",
    "             (df['Car'].isnull() == False))]\n",
    "df.info()"
   ]
  },
  {
   "cell_type": "markdown",
   "metadata": {},
   "source": [
    "Cross Validation:"
   ]
  },
  {
   "cell_type": "code",
   "execution_count": 40,
   "metadata": {},
   "outputs": [
    {
     "name": "stdout",
     "output_type": "stream",
     "text": [
      "<class 'pandas.core.frame.DataFrame'>\n",
      "Int64Index: 5576 entries, 19944 to 13886\n",
      "Data columns (total 10 columns):\n",
      "Rooms              5576 non-null int64\n",
      "Bathroom           5576 non-null float64\n",
      "Bedroom2           5576 non-null float64\n",
      "Car                5576 non-null float64\n",
      "RangeofDistance    5576 non-null category\n",
      "yeargroup          5576 non-null category\n",
      "Type               5576 non-null object\n",
      "Method             5576 non-null object\n",
      "YearBuilt          5576 non-null float64\n",
      "Price              5576 non-null float64\n",
      "dtypes: category(2), float64(5), int64(1), object(2)\n",
      "memory usage: 403.2+ KB\n"
     ]
    },
    {
     "name": "stderr",
     "output_type": "stream",
     "text": [
      "C:\\Users\\yvonne\\Anaconda3\\lib\\site-packages\\ipykernel_launcher.py:6: SettingWithCopyWarning: \n",
      "A value is trying to be set on a copy of a slice from a DataFrame.\n",
      "Try using .loc[row_indexer,col_indexer] = value instead\n",
      "\n",
      "See the caveats in the documentation: http://pandas.pydata.org/pandas-docs/stable/indexing.html#indexing-view-versus-copy\n",
      "  \n"
     ]
    }
   ],
   "source": [
    "X = df[['Rooms', 'Bathroom', 'Bedroom2', 'Car', 'RangeofDistance', 'yeargroup', 'Type', 'Method', \"YearBuilt\"]]\n",
    "y = df['Price']\n",
    "X_train, X_test, y_train, y_test = train_test_split(X,y, test_size = .20, random_state= 0)\n",
    "\n",
    "train = X_train\n",
    "train[\"Price\"] = pd.Series(y_train, index = train.index)\n",
    "train.info()"
   ]
  },
  {
   "cell_type": "markdown",
   "metadata": {},
   "source": [
    "### Model1 (numerical & categorical)"
   ]
  },
  {
   "cell_type": "markdown",
   "metadata": {},
   "source": [
    "__Construct model with training data (numerical & categorical)__"
   ]
  },
  {
   "cell_type": "code",
   "execution_count": 41,
   "metadata": {},
   "outputs": [],
   "source": [
    "model1 = smf.ols('Price ~ Rooms + Bathroom + Car + YearBuilt + C(RangeofDistance) + C(Type)', \n",
    "                 data = train) \n",
    "results1 = model1.fit()"
   ]
  },
  {
   "cell_type": "markdown",
   "metadata": {},
   "source": [
    "__Summary table (numerical & categorical)__"
   ]
  },
  {
   "cell_type": "code",
   "execution_count": 42,
   "metadata": {},
   "outputs": [
    {
     "name": "stdout",
     "output_type": "stream",
     "text": [
      "                            OLS Regression Results                            \n",
      "==============================================================================\n",
      "Dep. Variable:                  Price   R-squared:                       0.444\n",
      "Model:                            OLS   Adj. R-squared:                  0.443\n",
      "Method:                 Least Squares   F-statistic:                     444.4\n",
      "Date:                Tue, 12 Jun 2018   Prob (F-statistic):               0.00\n",
      "Time:                        15:33:49   Log-Likelihood:                -80219.\n",
      "No. Observations:                5576   AIC:                         1.605e+05\n",
      "Df Residuals:                    5565   BIC:                         1.605e+05\n",
      "Df Model:                          10                                         \n",
      "Covariance Type:            nonrobust                                         \n",
      "=========================================================================================================================\n",
      "                                                            coef    std err          t      P>|t|      [0.025      0.975]\n",
      "-------------------------------------------------------------------------------------------------------------------------\n",
      "Intercept                                              3.105e+06   7.69e+05      4.038      0.000     1.6e+06    4.61e+06\n",
      "C(RangeofDistance)[T.Interval(10, 20, closed='left')]  -3.07e+05   1.37e+04    -22.377      0.000   -3.34e+05    -2.8e+05\n",
      "C(RangeofDistance)[T.Interval(20, 30, closed='left')] -5.802e+05   2.07e+04    -28.034      0.000   -6.21e+05    -5.4e+05\n",
      "C(RangeofDistance)[T.Interval(30, 40, closed='left')] -6.955e+05   3.33e+04    -20.883      0.000   -7.61e+05    -6.3e+05\n",
      "C(RangeofDistance)[T.Interval(40, 50, closed='left')] -7.492e+05   7.81e+04     -9.588      0.000   -9.02e+05   -5.96e+05\n",
      "C(Type)[T.t]                                          -9.787e+04   1.87e+04     -5.226      0.000   -1.35e+05   -6.12e+04\n",
      "C(Type)[T.u]                                           -1.92e+05   1.87e+04    -10.252      0.000   -2.29e+05   -1.55e+05\n",
      "Rooms                                                  1.473e+05   9596.104     15.351      0.000    1.28e+05    1.66e+05\n",
      "Bathroom                                               2.911e+05   1.17e+04     24.965      0.000    2.68e+05    3.14e+05\n",
      "Car                                                    3.441e+04   7420.951      4.637      0.000    1.99e+04     4.9e+04\n",
      "YearBuilt                                             -1460.7511    387.992     -3.765      0.000   -2221.368    -700.135\n",
      "==============================================================================\n",
      "Omnibus:                     3223.743   Durbin-Watson:                   1.998\n",
      "Prob(Omnibus):                  0.000   Jarque-Bera (JB):            50750.938\n",
      "Skew:                           2.448   Prob(JB):                         0.00\n",
      "Kurtosis:                      16.945   Cond. No.                     2.67e+05\n",
      "==============================================================================\n",
      "\n",
      "Warnings:\n",
      "[1] Standard Errors assume that the covariance matrix of the errors is correctly specified.\n",
      "[2] The condition number is large, 2.67e+05. This might indicate that there are\n",
      "strong multicollinearity or other numerical problems.\n"
     ]
    }
   ],
   "source": [
    "print(results1.summary())"
   ]
  },
  {
   "cell_type": "markdown",
   "metadata": {},
   "source": [
    "_Based on the summary table, we will drop variable \"Bedroom2\" because its p-value is larger than 0.05. It is not significant._"
   ]
  },
  {
   "cell_type": "markdown",
   "metadata": {},
   "source": [
    "__ANOVA table (numerical & categorical)__"
   ]
  },
  {
   "cell_type": "code",
   "execution_count": 43,
   "metadata": {},
   "outputs": [
    {
     "name": "stdout",
     "output_type": "stream",
     "text": [
      "                        df        sum_sq       mean_sq            F  \\\n",
      "C(RangeofDistance)     4.0  5.369327e+13  1.342332e+13    73.027212   \n",
      "C(Type)                2.0  3.471583e+14  1.735792e+14   944.326974   \n",
      "Rooms                  1.0  2.893695e+14  2.893695e+14  1574.263943   \n",
      "Bathroom               1.0  1.198421e+14  1.198421e+14   651.979861   \n",
      "Car                    1.0  4.274719e+12  4.274719e+12    23.255860   \n",
      "YearBuilt              1.0  2.605441e+12  2.605441e+12    14.174445   \n",
      "Residual            5565.0  1.022917e+15  1.838126e+11          NaN   \n",
      "\n",
      "                           PR(>F)  \n",
      "C(RangeofDistance)   2.106098e-60  \n",
      "C(Type)              0.000000e+00  \n",
      "Rooms               2.105427e-303  \n",
      "Bathroom            4.366969e-136  \n",
      "Car                  1.455941e-06  \n",
      "YearBuilt            1.683354e-04  \n",
      "Residual                      NaN  \n"
     ]
    },
    {
     "name": "stderr",
     "output_type": "stream",
     "text": [
      "C:\\Users\\yvonne\\Anaconda3\\lib\\site-packages\\scipy\\stats\\_distn_infrastructure.py:879: RuntimeWarning: invalid value encountered in greater\n",
      "  return (self.a < x) & (x < self.b)\n",
      "C:\\Users\\yvonne\\Anaconda3\\lib\\site-packages\\scipy\\stats\\_distn_infrastructure.py:879: RuntimeWarning: invalid value encountered in less\n",
      "  return (self.a < x) & (x < self.b)\n",
      "C:\\Users\\yvonne\\Anaconda3\\lib\\site-packages\\scipy\\stats\\_distn_infrastructure.py:1821: RuntimeWarning: invalid value encountered in less_equal\n",
      "  cond2 = cond0 & (x <= self.a)\n"
     ]
    }
   ],
   "source": [
    "table = sm.stats.anova_lm(results1)\n",
    "print(table)"
   ]
  },
  {
   "cell_type": "markdown",
   "metadata": {},
   "source": [
    "__Prediction with testing data (numerical & categorical)__"
   ]
  },
  {
   "cell_type": "code",
   "execution_count": 44,
   "metadata": {
    "scrolled": true
   },
   "outputs": [
    {
     "name": "stdout",
     "output_type": "stream",
     "text": [
      "33873    6.860507e+05\n",
      "6580     1.164428e+06\n",
      "25612    1.142819e+06\n",
      "31672    7.675950e+05\n",
      "2834     1.245417e+06\n",
      "dtype: float64\n"
     ]
    }
   ],
   "source": [
    "y_pred = results1.predict(X_test)\n",
    "print(y_pred.head())"
   ]
  },
  {
   "cell_type": "markdown",
   "metadata": {},
   "source": [
    "__Compute mean squared error between y in testing data and prediction__"
   ]
  },
  {
   "cell_type": "code",
   "execution_count": 45,
   "metadata": {},
   "outputs": [
    {
     "name": "stdout",
     "output_type": "stream",
     "text": [
      "154504501092.9267\n"
     ]
    }
   ],
   "source": [
    "mse = mean_squared_error(y_test, y_pred)\n",
    "print(mse)"
   ]
  },
  {
   "cell_type": "markdown",
   "metadata": {},
   "source": [
    "### Model2 (only with numerical)"
   ]
  },
  {
   "cell_type": "markdown",
   "metadata": {},
   "source": [
    "__Construct model (only with numerical)__"
   ]
  },
  {
   "cell_type": "code",
   "execution_count": 46,
   "metadata": {},
   "outputs": [],
   "source": [
    "model2 = smf.ols('Price ~ Rooms + Bathroom + Car + YearBuilt', data = train) \n",
    "results2 = model2.fit()"
   ]
  },
  {
   "cell_type": "markdown",
   "metadata": {},
   "source": [
    "__Summary table (only with numerical)__"
   ]
  },
  {
   "cell_type": "code",
   "execution_count": 47,
   "metadata": {},
   "outputs": [
    {
     "name": "stdout",
     "output_type": "stream",
     "text": [
      "                            OLS Regression Results                            \n",
      "==============================================================================\n",
      "Dep. Variable:                  Price   R-squared:                       0.332\n",
      "Model:                            OLS   Adj. R-squared:                  0.331\n",
      "Method:                 Least Squares   F-statistic:                     691.2\n",
      "Date:                Tue, 12 Jun 2018   Prob (F-statistic):               0.00\n",
      "Time:                        15:33:49   Log-Likelihood:                -80732.\n",
      "No. Observations:                5576   AIC:                         1.615e+05\n",
      "Df Residuals:                    5571   BIC:                         1.615e+05\n",
      "Df Model:                           4                                         \n",
      "Covariance Type:            nonrobust                                         \n",
      "==============================================================================\n",
      "                 coef    std err          t      P>|t|      [0.025      0.975]\n",
      "------------------------------------------------------------------------------\n",
      "Intercept   2.376e+06   8.08e+05      2.942      0.003    7.93e+05    3.96e+06\n",
      "Rooms       1.124e+05   8897.385     12.638      0.000     9.5e+04     1.3e+05\n",
      "Bathroom    3.357e+05   1.27e+04     26.504      0.000    3.11e+05    3.61e+05\n",
      "Car         1.766e+04   7985.384      2.211      0.027    2000.663    3.33e+04\n",
      "YearBuilt  -1216.3738    406.964     -2.989      0.003   -2014.182    -418.565\n",
      "==============================================================================\n",
      "Omnibus:                     3208.926   Durbin-Watson:                   2.014\n",
      "Prob(Omnibus):                  0.000   Jarque-Bera (JB):            45665.353\n",
      "Skew:                           2.471   Prob(JB):                         0.00\n",
      "Kurtosis:                      16.120   Cond. No.                     2.56e+05\n",
      "==============================================================================\n",
      "\n",
      "Warnings:\n",
      "[1] Standard Errors assume that the covariance matrix of the errors is correctly specified.\n",
      "[2] The condition number is large, 2.56e+05. This might indicate that there are\n",
      "strong multicollinearity or other numerical problems.\n"
     ]
    }
   ],
   "source": [
    "print(results2.summary())"
   ]
  },
  {
   "cell_type": "markdown",
   "metadata": {},
   "source": [
    "__ANOVA table (only with numerical)__"
   ]
  },
  {
   "cell_type": "code",
   "execution_count": 48,
   "metadata": {},
   "outputs": [
    {
     "name": "stdout",
     "output_type": "stream",
     "text": [
      "               df        sum_sq       mean_sq            F         PR(>F)\n",
      "Rooms         1.0  4.423679e+14  4.423679e+14  2004.235073   0.000000e+00\n",
      "Bathroom      1.0  1.646200e+14  1.646200e+14   745.843101  3.134098e-154\n",
      "Car           1.0  1.288317e+12  1.288317e+12     5.836972   1.572477e-02\n",
      "YearBuilt     1.0  1.971771e+12  1.971771e+12     8.933499   2.812098e-03\n",
      "Residual   5571.0  1.229612e+15  2.207166e+11          NaN            NaN\n"
     ]
    },
    {
     "name": "stderr",
     "output_type": "stream",
     "text": [
      "C:\\Users\\yvonne\\Anaconda3\\lib\\site-packages\\scipy\\stats\\_distn_infrastructure.py:879: RuntimeWarning: invalid value encountered in greater\n",
      "  return (self.a < x) & (x < self.b)\n",
      "C:\\Users\\yvonne\\Anaconda3\\lib\\site-packages\\scipy\\stats\\_distn_infrastructure.py:879: RuntimeWarning: invalid value encountered in less\n",
      "  return (self.a < x) & (x < self.b)\n",
      "C:\\Users\\yvonne\\Anaconda3\\lib\\site-packages\\scipy\\stats\\_distn_infrastructure.py:1821: RuntimeWarning: invalid value encountered in less_equal\n",
      "  cond2 = cond0 & (x <= self.a)\n"
     ]
    }
   ],
   "source": [
    "table = sm.stats.anova_lm(results2)\n",
    "print(table)"
   ]
  },
  {
   "cell_type": "markdown",
   "metadata": {},
   "source": [
    "__Prediction with testing data (only with numerical)__"
   ]
  },
  {
   "cell_type": "code",
   "execution_count": 49,
   "metadata": {},
   "outputs": [
    {
     "name": "stdout",
     "output_type": "stream",
     "text": [
      "33873    6.577052e+05\n",
      "6580     9.751886e+05\n",
      "25612    1.110155e+06\n",
      "31672    1.035417e+06\n",
      "2834     9.721300e+05\n",
      "dtype: float64\n"
     ]
    }
   ],
   "source": [
    "y_pred = results2.predict(X_test)\n",
    "print(y_pred.head())"
   ]
  },
  {
   "cell_type": "markdown",
   "metadata": {},
   "source": [
    "__Prediction with testing data (only with numerical)__"
   ]
  },
  {
   "cell_type": "code",
   "execution_count": 50,
   "metadata": {},
   "outputs": [
    {
     "name": "stdout",
     "output_type": "stream",
     "text": [
      "182985781375.05118\n"
     ]
    }
   ],
   "source": [
    "mse = mean_squared_error(y_test, y_pred)\n",
    "print(mse)"
   ]
  },
  {
   "cell_type": "markdown",
   "metadata": {},
   "source": [
    "_model 2 is not better than model 1 because mse1 = 155558942885.9952 is smaller than mse2 = 183580890847.54102_"
   ]
  },
  {
   "cell_type": "code",
   "execution_count": null,
   "metadata": {},
   "outputs": [],
   "source": []
  }
 ],
 "metadata": {
  "kernelspec": {
   "display_name": "Python 3",
   "language": "python",
   "name": "python3"
  },
  "language_info": {
   "codemirror_mode": {
    "name": "ipython",
    "version": 3
   },
   "file_extension": ".py",
   "mimetype": "text/x-python",
   "name": "python",
   "nbconvert_exporter": "python",
   "pygments_lexer": "ipython3",
   "version": "3.6.4"
  }
 },
 "nbformat": 4,
 "nbformat_minor": 2
}
