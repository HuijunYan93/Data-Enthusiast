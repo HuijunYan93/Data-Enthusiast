{
 "cells": [
  {
   "cell_type": "code",
   "execution_count": 1,
   "metadata": {},
   "outputs": [
    {
     "name": "stderr",
     "output_type": "stream",
     "text": [
      "C:\\Users\\yvonne\\Anaconda3\\lib\\site-packages\\statsmodels\\compat\\pandas.py:56: FutureWarning: The pandas.core.datetools module is deprecated and will be removed in a future version. Please use the pandas.tseries module instead.\n",
      "  from pandas.core import datetools\n"
     ]
    }
   ],
   "source": [
    "import pandas as pd\n",
    "import numpy as np\n",
    "import seaborn as sns\n",
    "import matplotlib.pyplot as plt\n",
    "from sklearn import linear_model\n",
    "from pandas.tools.plotting import scatter_matrix\n",
    "from sklearn.linear_model import LinearRegression\n",
    "from sklearn.model_selection import train_test_split\n",
    "import statsmodels.api as sm\n",
    "import statsmodels.formula.api as smf\n",
    "from sklearn.metrics import mean_squared_error"
   ]
  },
  {
   "cell_type": "markdown",
   "metadata": {},
   "source": [
    "# Context and description of the data\n",
    "\n",
    "1. Background information on the subject and field of study\n",
    "\n",
    "2. Information about data collection:\n",
    "\n",
    "    a. Who collected the data\n",
    "    \n",
    "    b. When the data was collected\n",
    "    \n",
    "    c. How the data was collected\n",
    "    \n",
    "    d. Any implications this may have on analysis"
   ]
  },
  {
   "cell_type": "markdown",
   "metadata": {},
   "source": [
    "__1. Background information on the subject and field of study.__"
   ]
  },
  {
   "cell_type": "markdown",
   "metadata": {},
   "source": [
    "The data explores the detailed information of housing located in 351 suburbs in Melhourne. Melbourne is the second-most populous city in Australia, which has prosperous education, economy, entertainment, tourism and etc. Usually, the price of housing varies in a large range, especially in a big city like Melbourne, depends on furnishment, sqft, distance to CBD and neighborhood. We are interested in what partern of housing characteristics will affect the price at different suburbs in Melbourne ciy."
   ]
  },
  {
   "cell_type": "markdown",
   "metadata": {},
   "source": [
    "__2. Information about data collection:__"
   ]
  },
  {
   "cell_type": "markdown",
   "metadata": {},
   "source": [
    "Tony Pino collected the data starting from 2016. This data was scraped from publicly available results posted every week from Domain.com.au, I've cleaned it as best I can, now it's up to you to make data analysis magic. The dataset includes Address, Type of Real estate, Suburb, Method of Selling, Rooms, Price, Real Estate Agent, Date of Sale and distance from C.B.D."
   ]
  },
  {
   "cell_type": "markdown",
   "metadata": {},
   "source": [
    "# Exploratory Analysis of the Data\n",
    "\n",
    "1.Summary statistics and the distributional shape of variables in the data\n",
    "\n",
    "2.Unusual features or outliers present in the data\n",
    "\n",
    "3.Potential relationships that may exist in the data, including, but not limited to:\n",
    "   \n",
    "    a. two-way tables and side-by-side bar charts for relationships between categorical data\n",
    "    \n",
    "    b. scatter plots for relationships between numeric data\n",
    "    \n",
    "    c. side-by-side histograms or boxplots for relationships between numeric and categorical data\n",
    "\n",
    "4.Findings should be reported with readable tables or clearly labeled graphs.\n",
    "\n",
    "5.There must also be text to explain the findings and the included tables."
   ]
  },
  {
   "cell_type": "markdown",
   "metadata": {},
   "source": [
    "__1. Summary statistics and the distributional shape of variables in the data__"
   ]
  },
  {
   "cell_type": "markdown",
   "metadata": {},
   "source": [
    "_Summary statistics of full data_"
   ]
  },
  {
   "cell_type": "code",
   "execution_count": 43,
   "metadata": {},
   "outputs": [
    {
     "data": {
      "text/html": [
       "<div>\n",
       "<style scoped>\n",
       "    .dataframe tbody tr th:only-of-type {\n",
       "        vertical-align: middle;\n",
       "    }\n",
       "\n",
       "    .dataframe tbody tr th {\n",
       "        vertical-align: top;\n",
       "    }\n",
       "\n",
       "    .dataframe thead th {\n",
       "        text-align: right;\n",
       "    }\n",
       "</style>\n",
       "<table border=\"1\" class=\"dataframe\">\n",
       "  <thead>\n",
       "    <tr style=\"text-align: right;\">\n",
       "      <th></th>\n",
       "      <th>Suburb</th>\n",
       "      <th>Address</th>\n",
       "      <th>Rooms</th>\n",
       "      <th>Type</th>\n",
       "      <th>Price</th>\n",
       "      <th>Method</th>\n",
       "      <th>SellerG</th>\n",
       "      <th>Date</th>\n",
       "      <th>Distance</th>\n",
       "      <th>Postcode</th>\n",
       "      <th>...</th>\n",
       "      <th>Bathroom</th>\n",
       "      <th>Car</th>\n",
       "      <th>Landsize</th>\n",
       "      <th>BuildingArea</th>\n",
       "      <th>YearBuilt</th>\n",
       "      <th>CouncilArea</th>\n",
       "      <th>Lattitude</th>\n",
       "      <th>Longtitude</th>\n",
       "      <th>Regionname</th>\n",
       "      <th>Propertycount</th>\n",
       "    </tr>\n",
       "  </thead>\n",
       "  <tbody>\n",
       "    <tr>\n",
       "      <th>0</th>\n",
       "      <td>Abbotsford</td>\n",
       "      <td>68 Studley St</td>\n",
       "      <td>2</td>\n",
       "      <td>h</td>\n",
       "      <td>NaN</td>\n",
       "      <td>SS</td>\n",
       "      <td>Jellis</td>\n",
       "      <td>3/09/2016</td>\n",
       "      <td>2.5</td>\n",
       "      <td>3067.0</td>\n",
       "      <td>...</td>\n",
       "      <td>1.0</td>\n",
       "      <td>1.0</td>\n",
       "      <td>126.0</td>\n",
       "      <td>NaN</td>\n",
       "      <td>NaN</td>\n",
       "      <td>Yarra City Council</td>\n",
       "      <td>-37.8014</td>\n",
       "      <td>144.9958</td>\n",
       "      <td>Northern Metropolitan</td>\n",
       "      <td>4019.0</td>\n",
       "    </tr>\n",
       "    <tr>\n",
       "      <th>1</th>\n",
       "      <td>Abbotsford</td>\n",
       "      <td>85 Turner St</td>\n",
       "      <td>2</td>\n",
       "      <td>h</td>\n",
       "      <td>1480000.0</td>\n",
       "      <td>S</td>\n",
       "      <td>Biggin</td>\n",
       "      <td>3/12/2016</td>\n",
       "      <td>2.5</td>\n",
       "      <td>3067.0</td>\n",
       "      <td>...</td>\n",
       "      <td>1.0</td>\n",
       "      <td>1.0</td>\n",
       "      <td>202.0</td>\n",
       "      <td>NaN</td>\n",
       "      <td>NaN</td>\n",
       "      <td>Yarra City Council</td>\n",
       "      <td>-37.7996</td>\n",
       "      <td>144.9984</td>\n",
       "      <td>Northern Metropolitan</td>\n",
       "      <td>4019.0</td>\n",
       "    </tr>\n",
       "    <tr>\n",
       "      <th>2</th>\n",
       "      <td>Abbotsford</td>\n",
       "      <td>25 Bloomburg St</td>\n",
       "      <td>2</td>\n",
       "      <td>h</td>\n",
       "      <td>1035000.0</td>\n",
       "      <td>S</td>\n",
       "      <td>Biggin</td>\n",
       "      <td>4/02/2016</td>\n",
       "      <td>2.5</td>\n",
       "      <td>3067.0</td>\n",
       "      <td>...</td>\n",
       "      <td>1.0</td>\n",
       "      <td>0.0</td>\n",
       "      <td>156.0</td>\n",
       "      <td>79.0</td>\n",
       "      <td>1900.0</td>\n",
       "      <td>Yarra City Council</td>\n",
       "      <td>-37.8079</td>\n",
       "      <td>144.9934</td>\n",
       "      <td>Northern Metropolitan</td>\n",
       "      <td>4019.0</td>\n",
       "    </tr>\n",
       "    <tr>\n",
       "      <th>3</th>\n",
       "      <td>Abbotsford</td>\n",
       "      <td>18/659 Victoria St</td>\n",
       "      <td>3</td>\n",
       "      <td>u</td>\n",
       "      <td>NaN</td>\n",
       "      <td>VB</td>\n",
       "      <td>Rounds</td>\n",
       "      <td>4/02/2016</td>\n",
       "      <td>2.5</td>\n",
       "      <td>3067.0</td>\n",
       "      <td>...</td>\n",
       "      <td>2.0</td>\n",
       "      <td>1.0</td>\n",
       "      <td>0.0</td>\n",
       "      <td>NaN</td>\n",
       "      <td>NaN</td>\n",
       "      <td>Yarra City Council</td>\n",
       "      <td>-37.8114</td>\n",
       "      <td>145.0116</td>\n",
       "      <td>Northern Metropolitan</td>\n",
       "      <td>4019.0</td>\n",
       "    </tr>\n",
       "    <tr>\n",
       "      <th>4</th>\n",
       "      <td>Abbotsford</td>\n",
       "      <td>5 Charles St</td>\n",
       "      <td>3</td>\n",
       "      <td>h</td>\n",
       "      <td>1465000.0</td>\n",
       "      <td>SP</td>\n",
       "      <td>Biggin</td>\n",
       "      <td>4/03/2017</td>\n",
       "      <td>2.5</td>\n",
       "      <td>3067.0</td>\n",
       "      <td>...</td>\n",
       "      <td>2.0</td>\n",
       "      <td>0.0</td>\n",
       "      <td>134.0</td>\n",
       "      <td>150.0</td>\n",
       "      <td>1900.0</td>\n",
       "      <td>Yarra City Council</td>\n",
       "      <td>-37.8093</td>\n",
       "      <td>144.9944</td>\n",
       "      <td>Northern Metropolitan</td>\n",
       "      <td>4019.0</td>\n",
       "    </tr>\n",
       "  </tbody>\n",
       "</table>\n",
       "<p>5 rows × 21 columns</p>\n",
       "</div>"
      ],
      "text/plain": [
       "       Suburb             Address  Rooms Type      Price Method SellerG  \\\n",
       "0  Abbotsford       68 Studley St      2    h        NaN     SS  Jellis   \n",
       "1  Abbotsford        85 Turner St      2    h  1480000.0      S  Biggin   \n",
       "2  Abbotsford     25 Bloomburg St      2    h  1035000.0      S  Biggin   \n",
       "3  Abbotsford  18/659 Victoria St      3    u        NaN     VB  Rounds   \n",
       "4  Abbotsford        5 Charles St      3    h  1465000.0     SP  Biggin   \n",
       "\n",
       "        Date  Distance  Postcode      ...       Bathroom  Car  Landsize  \\\n",
       "0  3/09/2016       2.5    3067.0      ...            1.0  1.0     126.0   \n",
       "1  3/12/2016       2.5    3067.0      ...            1.0  1.0     202.0   \n",
       "2  4/02/2016       2.5    3067.0      ...            1.0  0.0     156.0   \n",
       "3  4/02/2016       2.5    3067.0      ...            2.0  1.0       0.0   \n",
       "4  4/03/2017       2.5    3067.0      ...            2.0  0.0     134.0   \n",
       "\n",
       "   BuildingArea  YearBuilt         CouncilArea Lattitude  Longtitude  \\\n",
       "0           NaN        NaN  Yarra City Council  -37.8014    144.9958   \n",
       "1           NaN        NaN  Yarra City Council  -37.7996    144.9984   \n",
       "2          79.0     1900.0  Yarra City Council  -37.8079    144.9934   \n",
       "3           NaN        NaN  Yarra City Council  -37.8114    145.0116   \n",
       "4         150.0     1900.0  Yarra City Council  -37.8093    144.9944   \n",
       "\n",
       "              Regionname Propertycount  \n",
       "0  Northern Metropolitan        4019.0  \n",
       "1  Northern Metropolitan        4019.0  \n",
       "2  Northern Metropolitan        4019.0  \n",
       "3  Northern Metropolitan        4019.0  \n",
       "4  Northern Metropolitan        4019.0  \n",
       "\n",
       "[5 rows x 21 columns]"
      ]
     },
     "execution_count": 43,
     "metadata": {},
     "output_type": "execute_result"
    }
   ],
   "source": [
    "housing = pd.read_csv(\"Melbourne_housing_FULL.csv\")\n",
    "housing.head()"
   ]
  },
  {
   "cell_type": "code",
   "execution_count": 44,
   "metadata": {},
   "outputs": [
    {
     "data": {
      "text/html": [
       "<div>\n",
       "<style scoped>\n",
       "    .dataframe tbody tr th:only-of-type {\n",
       "        vertical-align: middle;\n",
       "    }\n",
       "\n",
       "    .dataframe tbody tr th {\n",
       "        vertical-align: top;\n",
       "    }\n",
       "\n",
       "    .dataframe thead th {\n",
       "        text-align: right;\n",
       "    }\n",
       "</style>\n",
       "<table border=\"1\" class=\"dataframe\">\n",
       "  <thead>\n",
       "    <tr style=\"text-align: right;\">\n",
       "      <th></th>\n",
       "      <th>count</th>\n",
       "      <th>mean</th>\n",
       "      <th>std</th>\n",
       "      <th>min</th>\n",
       "      <th>25%</th>\n",
       "      <th>50%</th>\n",
       "      <th>75%</th>\n",
       "      <th>max</th>\n",
       "    </tr>\n",
       "  </thead>\n",
       "  <tbody>\n",
       "    <tr>\n",
       "      <th>Rooms</th>\n",
       "      <td>34857.0</td>\n",
       "      <td>3.031012e+00</td>\n",
       "      <td>0.969933</td>\n",
       "      <td>1.00000</td>\n",
       "      <td>2.00000</td>\n",
       "      <td>3.0000</td>\n",
       "      <td>4.000000e+00</td>\n",
       "      <td>1.600000e+01</td>\n",
       "    </tr>\n",
       "    <tr>\n",
       "      <th>Price</th>\n",
       "      <td>27247.0</td>\n",
       "      <td>1.050173e+06</td>\n",
       "      <td>641467.130105</td>\n",
       "      <td>85000.00000</td>\n",
       "      <td>635000.00000</td>\n",
       "      <td>870000.0000</td>\n",
       "      <td>1.295000e+06</td>\n",
       "      <td>1.120000e+07</td>\n",
       "    </tr>\n",
       "    <tr>\n",
       "      <th>Distance</th>\n",
       "      <td>34856.0</td>\n",
       "      <td>1.118493e+01</td>\n",
       "      <td>6.788892</td>\n",
       "      <td>0.00000</td>\n",
       "      <td>6.40000</td>\n",
       "      <td>10.3000</td>\n",
       "      <td>1.400000e+01</td>\n",
       "      <td>4.810000e+01</td>\n",
       "    </tr>\n",
       "    <tr>\n",
       "      <th>Postcode</th>\n",
       "      <td>34856.0</td>\n",
       "      <td>3.116063e+03</td>\n",
       "      <td>109.023903</td>\n",
       "      <td>3000.00000</td>\n",
       "      <td>3051.00000</td>\n",
       "      <td>3103.0000</td>\n",
       "      <td>3.156000e+03</td>\n",
       "      <td>3.978000e+03</td>\n",
       "    </tr>\n",
       "    <tr>\n",
       "      <th>Bedroom2</th>\n",
       "      <td>26640.0</td>\n",
       "      <td>3.084647e+00</td>\n",
       "      <td>0.980690</td>\n",
       "      <td>0.00000</td>\n",
       "      <td>2.00000</td>\n",
       "      <td>3.0000</td>\n",
       "      <td>4.000000e+00</td>\n",
       "      <td>3.000000e+01</td>\n",
       "    </tr>\n",
       "    <tr>\n",
       "      <th>Bathroom</th>\n",
       "      <td>26631.0</td>\n",
       "      <td>1.624798e+00</td>\n",
       "      <td>0.724212</td>\n",
       "      <td>0.00000</td>\n",
       "      <td>1.00000</td>\n",
       "      <td>2.0000</td>\n",
       "      <td>2.000000e+00</td>\n",
       "      <td>1.200000e+01</td>\n",
       "    </tr>\n",
       "    <tr>\n",
       "      <th>Car</th>\n",
       "      <td>26129.0</td>\n",
       "      <td>1.728845e+00</td>\n",
       "      <td>1.010771</td>\n",
       "      <td>0.00000</td>\n",
       "      <td>1.00000</td>\n",
       "      <td>2.0000</td>\n",
       "      <td>2.000000e+00</td>\n",
       "      <td>2.600000e+01</td>\n",
       "    </tr>\n",
       "    <tr>\n",
       "      <th>Landsize</th>\n",
       "      <td>23047.0</td>\n",
       "      <td>5.935990e+02</td>\n",
       "      <td>3398.841946</td>\n",
       "      <td>0.00000</td>\n",
       "      <td>224.00000</td>\n",
       "      <td>521.0000</td>\n",
       "      <td>6.700000e+02</td>\n",
       "      <td>4.330140e+05</td>\n",
       "    </tr>\n",
       "    <tr>\n",
       "      <th>BuildingArea</th>\n",
       "      <td>13742.0</td>\n",
       "      <td>1.602564e+02</td>\n",
       "      <td>401.267060</td>\n",
       "      <td>0.00000</td>\n",
       "      <td>102.00000</td>\n",
       "      <td>136.0000</td>\n",
       "      <td>1.880000e+02</td>\n",
       "      <td>4.451500e+04</td>\n",
       "    </tr>\n",
       "    <tr>\n",
       "      <th>YearBuilt</th>\n",
       "      <td>15551.0</td>\n",
       "      <td>1.965290e+03</td>\n",
       "      <td>37.328178</td>\n",
       "      <td>1196.00000</td>\n",
       "      <td>1940.00000</td>\n",
       "      <td>1970.0000</td>\n",
       "      <td>2.000000e+03</td>\n",
       "      <td>2.106000e+03</td>\n",
       "    </tr>\n",
       "    <tr>\n",
       "      <th>Lattitude</th>\n",
       "      <td>26881.0</td>\n",
       "      <td>-3.781063e+01</td>\n",
       "      <td>0.090279</td>\n",
       "      <td>-38.19043</td>\n",
       "      <td>-37.86295</td>\n",
       "      <td>-37.8076</td>\n",
       "      <td>-3.775410e+01</td>\n",
       "      <td>-3.739020e+01</td>\n",
       "    </tr>\n",
       "    <tr>\n",
       "      <th>Longtitude</th>\n",
       "      <td>26881.0</td>\n",
       "      <td>1.450019e+02</td>\n",
       "      <td>0.120169</td>\n",
       "      <td>144.42379</td>\n",
       "      <td>144.93350</td>\n",
       "      <td>145.0078</td>\n",
       "      <td>1.450719e+02</td>\n",
       "      <td>1.455264e+02</td>\n",
       "    </tr>\n",
       "    <tr>\n",
       "      <th>Propertycount</th>\n",
       "      <td>34854.0</td>\n",
       "      <td>7.572888e+03</td>\n",
       "      <td>4428.090313</td>\n",
       "      <td>83.00000</td>\n",
       "      <td>4385.00000</td>\n",
       "      <td>6763.0000</td>\n",
       "      <td>1.041200e+04</td>\n",
       "      <td>2.165000e+04</td>\n",
       "    </tr>\n",
       "  </tbody>\n",
       "</table>\n",
       "</div>"
      ],
      "text/plain": [
       "                 count          mean            std          min  \\\n",
       "Rooms          34857.0  3.031012e+00       0.969933      1.00000   \n",
       "Price          27247.0  1.050173e+06  641467.130105  85000.00000   \n",
       "Distance       34856.0  1.118493e+01       6.788892      0.00000   \n",
       "Postcode       34856.0  3.116063e+03     109.023903   3000.00000   \n",
       "Bedroom2       26640.0  3.084647e+00       0.980690      0.00000   \n",
       "Bathroom       26631.0  1.624798e+00       0.724212      0.00000   \n",
       "Car            26129.0  1.728845e+00       1.010771      0.00000   \n",
       "Landsize       23047.0  5.935990e+02    3398.841946      0.00000   \n",
       "BuildingArea   13742.0  1.602564e+02     401.267060      0.00000   \n",
       "YearBuilt      15551.0  1.965290e+03      37.328178   1196.00000   \n",
       "Lattitude      26881.0 -3.781063e+01       0.090279    -38.19043   \n",
       "Longtitude     26881.0  1.450019e+02       0.120169    144.42379   \n",
       "Propertycount  34854.0  7.572888e+03    4428.090313     83.00000   \n",
       "\n",
       "                        25%          50%           75%           max  \n",
       "Rooms               2.00000       3.0000  4.000000e+00  1.600000e+01  \n",
       "Price          635000.00000  870000.0000  1.295000e+06  1.120000e+07  \n",
       "Distance            6.40000      10.3000  1.400000e+01  4.810000e+01  \n",
       "Postcode         3051.00000    3103.0000  3.156000e+03  3.978000e+03  \n",
       "Bedroom2            2.00000       3.0000  4.000000e+00  3.000000e+01  \n",
       "Bathroom            1.00000       2.0000  2.000000e+00  1.200000e+01  \n",
       "Car                 1.00000       2.0000  2.000000e+00  2.600000e+01  \n",
       "Landsize          224.00000     521.0000  6.700000e+02  4.330140e+05  \n",
       "BuildingArea      102.00000     136.0000  1.880000e+02  4.451500e+04  \n",
       "YearBuilt        1940.00000    1970.0000  2.000000e+03  2.106000e+03  \n",
       "Lattitude         -37.86295     -37.8076 -3.775410e+01 -3.739020e+01  \n",
       "Longtitude        144.93350     145.0078  1.450719e+02  1.455264e+02  \n",
       "Propertycount    4385.00000    6763.0000  1.041200e+04  2.165000e+04  "
      ]
     },
     "execution_count": 44,
     "metadata": {},
     "output_type": "execute_result"
    }
   ],
   "source": [
    "housing.describe().transpose()"
   ]
  },
  {
   "cell_type": "markdown",
   "metadata": {},
   "source": [
    "_Distributional shape of variables in the full data_"
   ]
  },
  {
   "cell_type": "code",
   "execution_count": 45,
   "metadata": {},
   "outputs": [
    {
     "name": "stdout",
     "output_type": "stream",
     "text": [
      "<class 'pandas.core.frame.DataFrame'>\n",
      "RangeIndex: 34857 entries, 0 to 34856\n",
      "Data columns (total 21 columns):\n",
      "Suburb           34857 non-null object\n",
      "Address          34857 non-null object\n",
      "Rooms            34857 non-null int64\n",
      "Type             34857 non-null object\n",
      "Price            27247 non-null float64\n",
      "Method           34857 non-null object\n",
      "SellerG          34857 non-null object\n",
      "Date             34857 non-null object\n",
      "Distance         34856 non-null float64\n",
      "Postcode         34856 non-null float64\n",
      "Bedroom2         26640 non-null float64\n",
      "Bathroom         26631 non-null float64\n",
      "Car              26129 non-null float64\n",
      "Landsize         23047 non-null float64\n",
      "BuildingArea     13742 non-null float64\n",
      "YearBuilt        15551 non-null float64\n",
      "CouncilArea      34854 non-null object\n",
      "Lattitude        26881 non-null float64\n",
      "Longtitude       26881 non-null float64\n",
      "Regionname       34854 non-null object\n",
      "Propertycount    34854 non-null float64\n",
      "dtypes: float64(12), int64(1), object(8)\n",
      "memory usage: 5.6+ MB\n"
     ]
    }
   ],
   "source": [
    "housing.info()"
   ]
  },
  {
   "cell_type": "code",
   "execution_count": 46,
   "metadata": {
    "scrolled": false
   },
   "outputs": [
    {
     "name": "stdout",
     "output_type": "stream",
     "text": [
      "(34857, 21)\n"
     ]
    }
   ],
   "source": [
    "print(housing.shape)"
   ]
  },
  {
   "cell_type": "markdown",
   "metadata": {},
   "source": [
    "__2. Unusual features or outliers present in the data__"
   ]
  },
  {
   "cell_type": "markdown",
   "metadata": {},
   "source": [
    "_In this data, it have columns: Rooms, Bedrooms2, Bathroom. However, in fact, Rooms should including the bedroom and bathroom and here is the unusual thing:_"
   ]
  },
  {
   "cell_type": "code",
   "execution_count": 48,
   "metadata": {},
   "outputs": [
    {
     "name": "stdout",
     "output_type": "stream",
     "text": [
      "Real Rooms\n",
      "-27.0        1\n",
      "-17.0        1\n",
      "-7.0         1\n",
      "-6.0         2\n",
      "-5.0         1\n",
      "-3.0         2\n",
      "-2.0        23\n",
      "-1.0       248\n",
      " 0.0     25683\n",
      " 1.0       569\n",
      " 2.0        77\n",
      " 3.0        18\n",
      " 4.0         4\n",
      " 8.0         1\n",
      "Name: Bathroom, dtype: int64\n"
     ]
    }
   ],
   "source": [
    "housing['Real Rooms'] = housing['Rooms'] - housing['Bedroom2']\n",
    "print(housing.groupby('Real Rooms')['Bathroom'].count())"
   ]
  },
  {
   "cell_type": "markdown",
   "metadata": {},
   "source": [
    "_As table, it easily to see that after we use the number of rooms minus bedrooms, we got the negative number and it is not make sense, also 0. We believed that these three variables is not well-organize._"
   ]
  },
  {
   "cell_type": "markdown",
   "metadata": {},
   "source": [
    "__3.Potential relationships that may exist in the data, including__"
   ]
  },
  {
   "cell_type": "markdown",
   "metadata": {},
   "source": [
    "_From the correlation table we can see that the most correlation with the price is \"Rooms\"; \"Bedroom2\"; \"Bathroom\"; \"Car\"; \"BuildingArea\"; \"Distance\"; and \"YearBuilt\"."
   ]
  },
  {
   "cell_type": "code",
   "execution_count": 50,
   "metadata": {},
   "outputs": [
    {
     "name": "stdout",
     "output_type": "stream",
     "text": [
      "Price            1.000000\n",
      "Rooms            0.465238\n",
      "Bedroom2         0.430275\n",
      "Bathroom         0.429878\n",
      "Car              0.201803\n",
      "Longtitude       0.197874\n",
      "BuildingArea     0.100754\n",
      "Postcode         0.044950\n",
      "Real Rooms       0.033768\n",
      "Landsize         0.032748\n",
      "Propertycount   -0.059017\n",
      "Distance        -0.211384\n",
      "Lattitude       -0.215607\n",
      "YearBuilt       -0.333306\n",
      "Name: Price, dtype: float64\n"
     ]
    }
   ],
   "source": [
    "corr_matrix = housing.corr()\n",
    "print(corr_matrix[\"Price\"].sort_values(ascending=False))"
   ]
  },
  {
   "cell_type": "markdown",
   "metadata": {},
   "source": [
    "_Besides, we also explore the correlation between each predictors._"
   ]
  },
  {
   "cell_type": "code",
   "execution_count": 51,
   "metadata": {
    "scrolled": false
   },
   "outputs": [
    {
     "data": {
      "text/html": [
       "<div>\n",
       "<style scoped>\n",
       "    .dataframe tbody tr th:only-of-type {\n",
       "        vertical-align: middle;\n",
       "    }\n",
       "\n",
       "    .dataframe tbody tr th {\n",
       "        vertical-align: top;\n",
       "    }\n",
       "\n",
       "    .dataframe thead th {\n",
       "        text-align: right;\n",
       "    }\n",
       "</style>\n",
       "<table border=\"1\" class=\"dataframe\">\n",
       "  <thead>\n",
       "    <tr style=\"text-align: right;\">\n",
       "      <th></th>\n",
       "      <th>Rooms</th>\n",
       "      <th>Price</th>\n",
       "      <th>Distance</th>\n",
       "      <th>Postcode</th>\n",
       "      <th>Bedroom2</th>\n",
       "      <th>Bathroom</th>\n",
       "      <th>Car</th>\n",
       "      <th>Landsize</th>\n",
       "      <th>BuildingArea</th>\n",
       "      <th>YearBuilt</th>\n",
       "      <th>Lattitude</th>\n",
       "      <th>Longtitude</th>\n",
       "      <th>Propertycount</th>\n",
       "      <th>Real Rooms</th>\n",
       "    </tr>\n",
       "  </thead>\n",
       "  <tbody>\n",
       "    <tr>\n",
       "      <th>Rooms</th>\n",
       "      <td>1.000000</td>\n",
       "      <td>0.465238</td>\n",
       "      <td>0.271511</td>\n",
       "      <td>0.085890</td>\n",
       "      <td>0.946755</td>\n",
       "      <td>0.611826</td>\n",
       "      <td>0.393878</td>\n",
       "      <td>0.037402</td>\n",
       "      <td>0.156229</td>\n",
       "      <td>-0.012749</td>\n",
       "      <td>0.004872</td>\n",
       "      <td>0.103235</td>\n",
       "      <td>-0.071677</td>\n",
       "      <td>0.099010</td>\n",
       "    </tr>\n",
       "    <tr>\n",
       "      <th>Price</th>\n",
       "      <td>0.465238</td>\n",
       "      <td>1.000000</td>\n",
       "      <td>-0.211384</td>\n",
       "      <td>0.044950</td>\n",
       "      <td>0.430275</td>\n",
       "      <td>0.429878</td>\n",
       "      <td>0.201803</td>\n",
       "      <td>0.032748</td>\n",
       "      <td>0.100754</td>\n",
       "      <td>-0.333306</td>\n",
       "      <td>-0.215607</td>\n",
       "      <td>0.197874</td>\n",
       "      <td>-0.059017</td>\n",
       "      <td>0.033768</td>\n",
       "    </tr>\n",
       "    <tr>\n",
       "      <th>Distance</th>\n",
       "      <td>0.271511</td>\n",
       "      <td>-0.211384</td>\n",
       "      <td>1.000000</td>\n",
       "      <td>0.481566</td>\n",
       "      <td>0.269524</td>\n",
       "      <td>0.126201</td>\n",
       "      <td>0.241835</td>\n",
       "      <td>0.060862</td>\n",
       "      <td>0.076301</td>\n",
       "      <td>0.323059</td>\n",
       "      <td>-0.100417</td>\n",
       "      <td>0.200946</td>\n",
       "      <td>-0.018140</td>\n",
       "      <td>-0.022770</td>\n",
       "    </tr>\n",
       "    <tr>\n",
       "      <th>Postcode</th>\n",
       "      <td>0.085890</td>\n",
       "      <td>0.044950</td>\n",
       "      <td>0.481566</td>\n",
       "      <td>1.000000</td>\n",
       "      <td>0.089292</td>\n",
       "      <td>0.120080</td>\n",
       "      <td>0.067886</td>\n",
       "      <td>0.040664</td>\n",
       "      <td>0.042437</td>\n",
       "      <td>0.089805</td>\n",
       "      <td>-0.231027</td>\n",
       "      <td>0.362895</td>\n",
       "      <td>0.017108</td>\n",
       "      <td>-0.010684</td>\n",
       "    </tr>\n",
       "    <tr>\n",
       "      <th>Bedroom2</th>\n",
       "      <td>0.946755</td>\n",
       "      <td>0.430275</td>\n",
       "      <td>0.269524</td>\n",
       "      <td>0.089292</td>\n",
       "      <td>1.000000</td>\n",
       "      <td>0.614892</td>\n",
       "      <td>0.388491</td>\n",
       "      <td>0.037019</td>\n",
       "      <td>0.154157</td>\n",
       "      <td>-0.002022</td>\n",
       "      <td>0.003447</td>\n",
       "      <td>0.106164</td>\n",
       "      <td>-0.053451</td>\n",
       "      <td>-0.226636</td>\n",
       "    </tr>\n",
       "    <tr>\n",
       "      <th>Bathroom</th>\n",
       "      <td>0.611826</td>\n",
       "      <td>0.429878</td>\n",
       "      <td>0.126201</td>\n",
       "      <td>0.120080</td>\n",
       "      <td>0.614892</td>\n",
       "      <td>1.000000</td>\n",
       "      <td>0.307518</td>\n",
       "      <td>0.036333</td>\n",
       "      <td>0.147558</td>\n",
       "      <td>0.167955</td>\n",
       "      <td>-0.059183</td>\n",
       "      <td>0.106531</td>\n",
       "      <td>-0.032887</td>\n",
       "      <td>-0.049595</td>\n",
       "    </tr>\n",
       "    <tr>\n",
       "      <th>Car</th>\n",
       "      <td>0.393878</td>\n",
       "      <td>0.201803</td>\n",
       "      <td>0.241835</td>\n",
       "      <td>0.067886</td>\n",
       "      <td>0.388491</td>\n",
       "      <td>0.307518</td>\n",
       "      <td>1.000000</td>\n",
       "      <td>0.037829</td>\n",
       "      <td>0.104373</td>\n",
       "      <td>0.128702</td>\n",
       "      <td>-0.009020</td>\n",
       "      <td>0.047213</td>\n",
       "      <td>-0.009617</td>\n",
       "      <td>-0.010382</td>\n",
       "    </tr>\n",
       "    <tr>\n",
       "      <th>Landsize</th>\n",
       "      <td>0.037402</td>\n",
       "      <td>0.032748</td>\n",
       "      <td>0.060862</td>\n",
       "      <td>0.040664</td>\n",
       "      <td>0.037019</td>\n",
       "      <td>0.036333</td>\n",
       "      <td>0.037829</td>\n",
       "      <td>1.000000</td>\n",
       "      <td>0.354530</td>\n",
       "      <td>0.044474</td>\n",
       "      <td>0.025318</td>\n",
       "      <td>-0.002582</td>\n",
       "      <td>-0.018195</td>\n",
       "      <td>-0.001563</td>\n",
       "    </tr>\n",
       "    <tr>\n",
       "      <th>BuildingArea</th>\n",
       "      <td>0.156229</td>\n",
       "      <td>0.100754</td>\n",
       "      <td>0.076301</td>\n",
       "      <td>0.042437</td>\n",
       "      <td>0.154157</td>\n",
       "      <td>0.147558</td>\n",
       "      <td>0.104373</td>\n",
       "      <td>0.354530</td>\n",
       "      <td>1.000000</td>\n",
       "      <td>0.067811</td>\n",
       "      <td>0.017155</td>\n",
       "      <td>-0.002143</td>\n",
       "      <td>-0.024523</td>\n",
       "      <td>0.007241</td>\n",
       "    </tr>\n",
       "    <tr>\n",
       "      <th>YearBuilt</th>\n",
       "      <td>-0.012749</td>\n",
       "      <td>-0.333306</td>\n",
       "      <td>0.323059</td>\n",
       "      <td>0.089805</td>\n",
       "      <td>-0.002022</td>\n",
       "      <td>0.167955</td>\n",
       "      <td>0.128702</td>\n",
       "      <td>0.044474</td>\n",
       "      <td>0.067811</td>\n",
       "      <td>1.000000</td>\n",
       "      <td>0.091592</td>\n",
       "      <td>-0.022175</td>\n",
       "      <td>0.022420</td>\n",
       "      <td>-0.032317</td>\n",
       "    </tr>\n",
       "    <tr>\n",
       "      <th>Lattitude</th>\n",
       "      <td>0.004872</td>\n",
       "      <td>-0.215607</td>\n",
       "      <td>-0.100417</td>\n",
       "      <td>-0.231027</td>\n",
       "      <td>0.003447</td>\n",
       "      <td>-0.059183</td>\n",
       "      <td>-0.009020</td>\n",
       "      <td>0.025318</td>\n",
       "      <td>0.017155</td>\n",
       "      <td>0.091592</td>\n",
       "      <td>1.000000</td>\n",
       "      <td>-0.345589</td>\n",
       "      <td>0.011112</td>\n",
       "      <td>-0.000367</td>\n",
       "    </tr>\n",
       "    <tr>\n",
       "      <th>Longtitude</th>\n",
       "      <td>0.103235</td>\n",
       "      <td>0.197874</td>\n",
       "      <td>0.200946</td>\n",
       "      <td>0.362895</td>\n",
       "      <td>0.106164</td>\n",
       "      <td>0.106531</td>\n",
       "      <td>0.047213</td>\n",
       "      <td>-0.002582</td>\n",
       "      <td>-0.002143</td>\n",
       "      <td>-0.022175</td>\n",
       "      <td>-0.345589</td>\n",
       "      <td>1.000000</td>\n",
       "      <td>0.016326</td>\n",
       "      <td>-0.011999</td>\n",
       "    </tr>\n",
       "    <tr>\n",
       "      <th>Propertycount</th>\n",
       "      <td>-0.071677</td>\n",
       "      <td>-0.059017</td>\n",
       "      <td>-0.018140</td>\n",
       "      <td>0.017108</td>\n",
       "      <td>-0.053451</td>\n",
       "      <td>-0.032887</td>\n",
       "      <td>-0.009617</td>\n",
       "      <td>-0.018195</td>\n",
       "      <td>-0.024523</td>\n",
       "      <td>0.022420</td>\n",
       "      <td>0.011112</td>\n",
       "      <td>0.016326</td>\n",
       "      <td>1.000000</td>\n",
       "      <td>0.003388</td>\n",
       "    </tr>\n",
       "    <tr>\n",
       "      <th>Real Rooms</th>\n",
       "      <td>0.099010</td>\n",
       "      <td>0.033768</td>\n",
       "      <td>-0.022770</td>\n",
       "      <td>-0.010684</td>\n",
       "      <td>-0.226636</td>\n",
       "      <td>-0.049595</td>\n",
       "      <td>-0.010382</td>\n",
       "      <td>-0.001563</td>\n",
       "      <td>0.007241</td>\n",
       "      <td>-0.032317</td>\n",
       "      <td>-0.000367</td>\n",
       "      <td>-0.011999</td>\n",
       "      <td>0.003388</td>\n",
       "      <td>1.000000</td>\n",
       "    </tr>\n",
       "  </tbody>\n",
       "</table>\n",
       "</div>"
      ],
      "text/plain": [
       "                  Rooms     Price  Distance  Postcode  Bedroom2  Bathroom  \\\n",
       "Rooms          1.000000  0.465238  0.271511  0.085890  0.946755  0.611826   \n",
       "Price          0.465238  1.000000 -0.211384  0.044950  0.430275  0.429878   \n",
       "Distance       0.271511 -0.211384  1.000000  0.481566  0.269524  0.126201   \n",
       "Postcode       0.085890  0.044950  0.481566  1.000000  0.089292  0.120080   \n",
       "Bedroom2       0.946755  0.430275  0.269524  0.089292  1.000000  0.614892   \n",
       "Bathroom       0.611826  0.429878  0.126201  0.120080  0.614892  1.000000   \n",
       "Car            0.393878  0.201803  0.241835  0.067886  0.388491  0.307518   \n",
       "Landsize       0.037402  0.032748  0.060862  0.040664  0.037019  0.036333   \n",
       "BuildingArea   0.156229  0.100754  0.076301  0.042437  0.154157  0.147558   \n",
       "YearBuilt     -0.012749 -0.333306  0.323059  0.089805 -0.002022  0.167955   \n",
       "Lattitude      0.004872 -0.215607 -0.100417 -0.231027  0.003447 -0.059183   \n",
       "Longtitude     0.103235  0.197874  0.200946  0.362895  0.106164  0.106531   \n",
       "Propertycount -0.071677 -0.059017 -0.018140  0.017108 -0.053451 -0.032887   \n",
       "Real Rooms     0.099010  0.033768 -0.022770 -0.010684 -0.226636 -0.049595   \n",
       "\n",
       "                    Car  Landsize  BuildingArea  YearBuilt  Lattitude  \\\n",
       "Rooms          0.393878  0.037402      0.156229  -0.012749   0.004872   \n",
       "Price          0.201803  0.032748      0.100754  -0.333306  -0.215607   \n",
       "Distance       0.241835  0.060862      0.076301   0.323059  -0.100417   \n",
       "Postcode       0.067886  0.040664      0.042437   0.089805  -0.231027   \n",
       "Bedroom2       0.388491  0.037019      0.154157  -0.002022   0.003447   \n",
       "Bathroom       0.307518  0.036333      0.147558   0.167955  -0.059183   \n",
       "Car            1.000000  0.037829      0.104373   0.128702  -0.009020   \n",
       "Landsize       0.037829  1.000000      0.354530   0.044474   0.025318   \n",
       "BuildingArea   0.104373  0.354530      1.000000   0.067811   0.017155   \n",
       "YearBuilt      0.128702  0.044474      0.067811   1.000000   0.091592   \n",
       "Lattitude     -0.009020  0.025318      0.017155   0.091592   1.000000   \n",
       "Longtitude     0.047213 -0.002582     -0.002143  -0.022175  -0.345589   \n",
       "Propertycount -0.009617 -0.018195     -0.024523   0.022420   0.011112   \n",
       "Real Rooms    -0.010382 -0.001563      0.007241  -0.032317  -0.000367   \n",
       "\n",
       "               Longtitude  Propertycount  Real Rooms  \n",
       "Rooms            0.103235      -0.071677    0.099010  \n",
       "Price            0.197874      -0.059017    0.033768  \n",
       "Distance         0.200946      -0.018140   -0.022770  \n",
       "Postcode         0.362895       0.017108   -0.010684  \n",
       "Bedroom2         0.106164      -0.053451   -0.226636  \n",
       "Bathroom         0.106531      -0.032887   -0.049595  \n",
       "Car              0.047213      -0.009617   -0.010382  \n",
       "Landsize        -0.002582      -0.018195   -0.001563  \n",
       "BuildingArea    -0.002143      -0.024523    0.007241  \n",
       "YearBuilt       -0.022175       0.022420   -0.032317  \n",
       "Lattitude       -0.345589       0.011112   -0.000367  \n",
       "Longtitude       1.000000       0.016326   -0.011999  \n",
       "Propertycount    0.016326       1.000000    0.003388  \n",
       "Real Rooms      -0.011999       0.003388    1.000000  "
      ]
     },
     "execution_count": 51,
     "metadata": {},
     "output_type": "execute_result"
    }
   ],
   "source": [
    "housing.corr()"
   ]
  },
  {
   "cell_type": "markdown",
   "metadata": {},
   "source": [
    "_Looking for the distribution of 'Price'_"
   ]
  },
  {
   "cell_type": "code",
   "execution_count": 93,
   "metadata": {},
   "outputs": [
    {
     "data": {
      "image/png": "[encoded data removed]",
      "text/plain": [
       "<matplotlib.figure.Figure at 0x1471a626dd8>"
      ]
     },
     "metadata": {},
     "output_type": "display_data"
    }
   ],
   "source": [
    "df = housing.loc[(housing['Price'].isnull() == False)]\n",
    "plt.figure(figsize=(13,6))\n",
    "sns.distplot(df['Price'], kde = True,hist_kws=dict(edgecolor=\"k\"))\n",
    "plt.title(\"Histogram of Price\")\n",
    "plt.xlabel(\"Price\")\n",
    "plt.show()"
   ]
  },
  {
   "cell_type": "markdown",
   "metadata": {},
   "source": [
    "__a. two-way tables and side-by-side bar charts for relationships between categorical data__"
   ]
  },
  {
   "cell_type": "code",
   "execution_count": 83,
   "metadata": {},
   "outputs": [],
   "source": [
    "df = housing[['Rooms', 'Type', 'Price', 'BuildingArea',\n",
    "              'Method','Distance', 'Bedroom2', 'Bathroom', \n",
    "              'Car', 'CouncilArea','Regionname','YearBuilt']]"
   ]
  },
  {
   "cell_type": "markdown",
   "metadata": {},
   "source": [
    "_Creating a new variable: 'RangeofDistance'_"
   ]
  },
  {
   "cell_type": "code",
   "execution_count": 69,
   "metadata": {},
   "outputs": [
    {
     "name": "stderr",
     "output_type": "stream",
     "text": [
      "C:\\Users\\yvonne\\Anaconda3\\lib\\site-packages\\ipykernel_launcher.py:1: SettingWithCopyWarning: \n",
      "A value is trying to be set on a copy of a slice from a DataFrame.\n",
      "Try using .loc[row_indexer,col_indexer] = value instead\n",
      "\n",
      "See the caveats in the documentation: http://pandas.pydata.org/pandas-docs/stable/indexing.html#indexing-view-versus-copy\n",
      "  \"\"\"Entry point for launching an IPython kernel.\n",
      "C:\\Users\\yvonne\\Anaconda3\\lib\\site-packages\\ipykernel_launcher.py:2: SettingWithCopyWarning: \n",
      "A value is trying to be set on a copy of a slice from a DataFrame.\n",
      "Try using .loc[row_indexer,col_indexer] = value instead\n",
      "\n",
      "See the caveats in the documentation: http://pandas.pydata.org/pandas-docs/stable/indexing.html#indexing-view-versus-copy\n",
      "  \n"
     ]
    }
   ],
   "source": [
    "df[\"RangeofDistance\"] =pd.cut(df.Distance,bins=np.arange(0,60,10),right=False)\n",
    "housing[\"RangeofDistance\"] =pd.cut(housing.Distance,bins=np.arange(0,60,10),right=False)"
   ]
  },
  {
   "cell_type": "code",
   "execution_count": 70,
   "metadata": {},
   "outputs": [
    {
     "name": "stdout",
     "output_type": "stream",
     "text": [
      "RangeofDistance\n",
      "[0, 10)     [1035000.0, 1465000.0, 1600000.0, nan, 1876000...\n",
      "[10, 20)    [840000.0, 730000.0, 770000.0, nan, 603000.0, ...\n",
      "[20, 30)    [640000.0, 500000.0, 665000.0, 515500.0, 66000...\n",
      "[30, 40)    [nan, 611000.0, 755000.0, 320000.0, 480000.0, ...\n",
      "[40, 50)    [521000.0, 650000.0, 540000.0, nan, 400000.0, ...\n",
      "Name: Price, dtype: object\n"
     ]
    }
   ],
   "source": [
    "#cant make the thing I want.....\n",
    "##From below, easily see that the most close to the Business Center.....\n",
    "print(df.groupby('RangeofDistance')['Price'].unique())"
   ]
  },
  {
   "cell_type": "markdown",
   "metadata": {},
   "source": [
    "_From below can see that as the distance far from Business Center,  the number of rooms,bedroom and Bathrooms would increase. Which mean that if you be want to buy a hourse to invest like for rent the house out, that is not a good choice for some big family._"
   ]
  },
  {
   "cell_type": "code",
   "execution_count": 71,
   "metadata": {
    "scrolled": false
   },
   "outputs": [
    {
     "name": "stdout",
     "output_type": "stream",
     "text": [
      "RangeofDistance\n",
      "[0, 10)     2.834065\n",
      "[10, 20)    3.326551\n",
      "[20, 30)    3.492911\n",
      "[30, 40)    3.419890\n",
      "[40, 50)    3.720000\n",
      "Name: Rooms, dtype: float64\n",
      "RangeofDistance\n",
      "[0, 10)     2.807142\n",
      "[10, 20)    3.315969\n",
      "[20, 30)    3.490409\n",
      "[30, 40)    3.417127\n",
      "[40, 50)    3.720000\n",
      "Name: Bedroom2, dtype: float64\n",
      "RangeofDistance\n",
      "[0, 10)     1.576389\n",
      "[10, 20)    1.741169\n",
      "[20, 30)    1.842369\n",
      "[30, 40)    1.754144\n",
      "[40, 50)    1.960000\n",
      "Name: Bathroom, dtype: float64\n"
     ]
    }
   ],
   "source": [
    "print(df.groupby('RangeofDistance')['Rooms'].mean())\n",
    "print(df.groupby('RangeofDistance')['Bedroom2'].mean())\n",
    "print(df.groupby('RangeofDistance')['Bathroom'].mean())"
   ]
  },
  {
   "cell_type": "code",
   "execution_count": 72,
   "metadata": {},
   "outputs": [
    {
     "data": {
      "image/png": "[encoded data removed]",
      "text/plain": [
       "<matplotlib.figure.Figure at 0x1471f2d2128>"
      ]
     },
     "metadata": {},
     "output_type": "display_data"
    }
   ],
   "source": [
    "sns.countplot(data = df, x = 'RangeofDistance')\n",
    "plt.title(\"RangeofDistance Bar plot\")\n",
    "plt.show()"
   ]
  },
  {
   "cell_type": "markdown",
   "metadata": {},
   "source": [
    "_Creating a new variable: 'yeargroup'_"
   ]
  },
  {
   "cell_type": "code",
   "execution_count": 73,
   "metadata": {
    "scrolled": false
   },
   "outputs": [
    {
     "name": "stdout",
     "output_type": "stream",
     "text": [
      "                     Price\n",
      "yeargroup                 \n",
      "[1900, 1920)  1.538395e+06\n",
      "[1920, 1940)  1.579489e+06\n",
      "[1940, 1960)  1.159349e+06\n",
      "[1960, 1980)  8.277452e+05\n",
      "[1980, 2000)  9.316475e+05\n",
      "[2000, 2020)  9.537998e+05\n",
      "(6, 1)\n"
     ]
    },
    {
     "name": "stderr",
     "output_type": "stream",
     "text": [
      "C:\\Users\\yvonne\\Anaconda3\\lib\\site-packages\\ipykernel_launcher.py:1: SettingWithCopyWarning: \n",
      "A value is trying to be set on a copy of a slice from a DataFrame.\n",
      "Try using .loc[row_indexer,col_indexer] = value instead\n",
      "\n",
      "See the caveats in the documentation: http://pandas.pydata.org/pandas-docs/stable/indexing.html#indexing-view-versus-copy\n",
      "  \"\"\"Entry point for launching an IPython kernel.\n"
     ]
    }
   ],
   "source": [
    "housing[\"yeargroup\"] = pd.cut(housing.YearBuilt,bins=np.arange(1900,2030,20),right=False)\n",
    "housing = housing.loc[(housing['yeargroup'].isnull() == False)]\n",
    "summary = housing.groupby('yeargroup')[[\"Price\"]].mean()\n",
    "summary = summary.dropna()\n",
    "print(summary)\n",
    "print(summary.shape)"
   ]
  },
  {
   "cell_type": "code",
   "execution_count": 74,
   "metadata": {},
   "outputs": [
    {
     "name": "stdout",
     "output_type": "stream",
     "text": [
      "[1900 1920 1940 1960 1980 2000]\n",
      "             Price\n",
      "1900  1.538395e+06\n",
      "1920  1.579489e+06\n",
      "1940  1.159349e+06\n",
      "1960  8.277452e+05\n",
      "1980  9.316475e+05\n",
      "2000  9.537998e+05\n"
     ]
    }
   ],
   "source": [
    "index = np.arange(1900,2020,20)\n",
    "print(index)\n",
    "summary.index = index\n",
    "print(summary)"
   ]
  },
  {
   "cell_type": "code",
   "execution_count": 75,
   "metadata": {
    "scrolled": true
   },
   "outputs": [
    {
     "data": {
      "image/png": "[encoded data removed]",
      "text/plain": [
       "<matplotlib.figure.Figure at 0x1471f2a7b00>"
      ]
     },
     "metadata": {},
     "output_type": "display_data"
    }
   ],
   "source": [
    "plt.plot(summary)\n",
    "plt.title(\"Line plot of Price by year\")\n",
    "plt.xlabel(\"Year\")\n",
    "plt.ylabel(\"Price\")\n",
    "plt.show()"
   ]
  },
  {
   "cell_type": "markdown",
   "metadata": {},
   "source": [
    "_Variable: 'Type'_"
   ]
  },
  {
   "cell_type": "code",
   "execution_count": 76,
   "metadata": {
    "scrolled": false
   },
   "outputs": [
    {
     "data": {
      "image/png": "[encoded data removed]",
      "text/plain": [
       "<matplotlib.figure.Figure at 0x1471f254c88>"
      ]
     },
     "metadata": {},
     "output_type": "display_data"
    }
   ],
   "source": [
    "sns.countplot(data = df,x = 'Type')\n",
    "plt.title(\"Bar plor of Type\")\n",
    "plt.show()"
   ]
  },
  {
   "cell_type": "markdown",
   "metadata": {},
   "source": [
    "_From the following summary table, we can see that...._"
   ]
  },
  {
   "cell_type": "code",
   "execution_count": 77,
   "metadata": {},
   "outputs": [
    {
     "name": "stdout",
     "output_type": "stream",
     "text": [
      "Type\n",
      "h    10749\n",
      "t     1265\n",
      "u     2797\n",
      "Name: Rooms, dtype: int64\n",
      "Type\n",
      "h    1.901182\n",
      "t    1.600950\n",
      "u    1.131059\n",
      "Name: Car, dtype: float64\n"
     ]
    }
   ],
   "source": [
    "print(housing.groupby('Type')['Rooms'].count())\n",
    "print(housing.groupby('Type')['Car'].mean())"
   ]
  },
  {
   "cell_type": "markdown",
   "metadata": {},
   "source": [
    "_Variable: CouncilArea_"
   ]
  },
  {
   "cell_type": "code",
   "execution_count": 78,
   "metadata": {
    "scrolled": false
   },
   "outputs": [
    {
     "data": {
      "image/png": "[encoded data removed]",
      "text/plain": [
       "<matplotlib.figure.Figure at 0x1471f2a7e80>"
      ]
     },
     "metadata": {},
     "output_type": "display_data"
    }
   ],
   "source": [
    "plt.figure(figsize=(13,8))\n",
    "sns.countplot(data = df,x = 'CouncilArea')\n",
    "plt.show()"
   ]
  },
  {
   "cell_type": "code",
   "execution_count": 80,
   "metadata": {},
   "outputs": [
    {
     "name": "stdout",
     "output_type": "stream",
     "text": [
      "CouncilArea\n",
      "Boroondara City Council       1048\n",
      "Darebin City Council           943\n",
      "Moreland City Council          761\n",
      "Glen Eira City Council         692\n",
      "Moonee Valley City Council     677\n",
      "Name: Price, dtype: int64\n"
     ]
    }
   ],
   "source": [
    "print(housing.groupby('CouncilArea')['Price'].count().sort_values(ascending=False).head())"
   ]
  },
  {
   "cell_type": "markdown",
   "metadata": {},
   "source": [
    "_In this plot, we can see that Most of the houses/Apartment are concentrated in less than 10km from CBD(\"Central Business District \"). And if the distance more than 40km, it barely not house/department exist._"
   ]
  },
  {
   "cell_type": "markdown",
   "metadata": {},
   "source": [
    "    need explantation"
   ]
  },
  {
   "cell_type": "markdown",
   "metadata": {},
   "source": [
    "_Variable: Method_"
   ]
  },
  {
   "cell_type": "code",
   "execution_count": 85,
   "metadata": {},
   "outputs": [
    {
     "data": {
      "image/png": "[encoded data removed]",
      "text/plain": [
       "<matplotlib.figure.Figure at 0x1471c7e6eb8>"
      ]
     },
     "metadata": {},
     "output_type": "display_data"
    }
   ],
   "source": [
    "sns.countplot(data = df,x = 'Method')\n",
    "plt.title(\"Bar plot of Method\")\n",
    "plt.show()"
   ]
  },
  {
   "cell_type": "markdown",
   "metadata": {},
   "source": [
    "_Method:_\n",
    "\n",
    "_S - property sold_\n",
    "\n",
    "_SP - property sold prior_\n",
    "\n",
    "_PI - property passed in_\n",
    "\n",
    "_PN - sold prior not disclosed_\n",
    "\n",
    "_SN - sold not disclosed_\n",
    "\n",
    "_NB - no bid_\n",
    "\n",
    "_VB - vendor bid_\n",
    "\n",
    "_W - withdrawn prior to auction_\n",
    "\n",
    "_SA - sold after auction_\n",
    "\n",
    "_SS - sold after auction price not disclosed_"
   ]
  },
  {
   "cell_type": "markdown",
   "metadata": {},
   "source": [
    "__b. scatter plots for relationships between numeric data__"
   ]
  },
  {
   "cell_type": "markdown",
   "metadata": {},
   "source": [
    "__Cleaning Data__\n",
    "\n",
    "_As usual, we delete the NA value in some variables, including 'Rooms','Price','Bedroom2','Bathroom','Landsize','Car','BuildingArea'_"
   ]
  },
  {
   "cell_type": "code",
   "execution_count": 109,
   "metadata": {
    "scrolled": false
   },
   "outputs": [],
   "source": [
    "df = housing.loc[((housing['Rooms'].isnull() == False) & \n",
    "                  (housing['Price'].isnull() == False) &  \n",
    "                  (housing['Bedroom2'].isnull() == False) & \n",
    "                  (housing['Bathroom'].isnull() == False) & \n",
    "                  (housing['Car'].isnull() == False) & \n",
    "                 (housing['Landsize'].isnull() == False) & \n",
    "                 (housing['BuildingArea'].isnull() == False))]"
   ]
  },
  {
   "cell_type": "code",
   "execution_count": 110,
   "metadata": {},
   "outputs": [
    {
     "name": "stdout",
     "output_type": "stream",
     "text": [
      "<class 'pandas.core.frame.DataFrame'>\n",
      "Int64Index: 8513 entries, 2 to 34856\n",
      "Data columns (total 24 columns):\n",
      "Suburb             8513 non-null object\n",
      "Address            8513 non-null object\n",
      "Rooms              8513 non-null int64\n",
      "Type               8513 non-null object\n",
      "Price              8513 non-null float64\n",
      "Method             8513 non-null object\n",
      "SellerG            8513 non-null object\n",
      "Date               8513 non-null object\n",
      "Distance           8513 non-null float64\n",
      "Postcode           8513 non-null float64\n",
      "Bedroom2           8513 non-null float64\n",
      "Bathroom           8513 non-null float64\n",
      "Car                8513 non-null float64\n",
      "Landsize           8513 non-null float64\n",
      "BuildingArea       8513 non-null float64\n",
      "YearBuilt          8513 non-null float64\n",
      "CouncilArea        8513 non-null object\n",
      "Lattitude          8506 non-null float64\n",
      "Longtitude         8506 non-null float64\n",
      "Regionname         8513 non-null object\n",
      "Propertycount      8513 non-null float64\n",
      "Real Rooms         8513 non-null float64\n",
      "RangeofDistance    8513 non-null category\n",
      "yeargroup          8513 non-null category\n",
      "dtypes: category(2), float64(13), int64(1), object(8)\n",
      "memory usage: 1.5+ MB\n"
     ]
    }
   ],
   "source": [
    "df.info()"
   ]
  },
  {
   "cell_type": "markdown",
   "metadata": {},
   "source": [
    "_After cleaning data, there are 8513 observations, 24 variables._"
   ]
  },
  {
   "cell_type": "code",
   "execution_count": 111,
   "metadata": {},
   "outputs": [
    {
     "name": "stdout",
     "output_type": "stream",
     "text": [
      "(8513, 24)\n"
     ]
    }
   ],
   "source": [
    "print(df.shape)"
   ]
  },
  {
   "cell_type": "code",
   "execution_count": 112,
   "metadata": {},
   "outputs": [
    {
     "data": {
      "text/html": [
       "<div>\n",
       "<style scoped>\n",
       "    .dataframe tbody tr th:only-of-type {\n",
       "        vertical-align: middle;\n",
       "    }\n",
       "\n",
       "    .dataframe tbody tr th {\n",
       "        vertical-align: top;\n",
       "    }\n",
       "\n",
       "    .dataframe thead th {\n",
       "        text-align: right;\n",
       "    }\n",
       "</style>\n",
       "<table border=\"1\" class=\"dataframe\">\n",
       "  <thead>\n",
       "    <tr style=\"text-align: right;\">\n",
       "      <th></th>\n",
       "      <th>count</th>\n",
       "      <th>mean</th>\n",
       "      <th>std</th>\n",
       "      <th>min</th>\n",
       "      <th>25%</th>\n",
       "      <th>50%</th>\n",
       "      <th>75%</th>\n",
       "      <th>max</th>\n",
       "    </tr>\n",
       "  </thead>\n",
       "  <tbody>\n",
       "    <tr>\n",
       "      <th>Rooms</th>\n",
       "      <td>8513.0</td>\n",
       "      <td>3.100670e+00</td>\n",
       "      <td>0.964643</td>\n",
       "      <td>1.00000</td>\n",
       "      <td>2.000000</td>\n",
       "      <td>3.000000</td>\n",
       "      <td>4.000000e+00</td>\n",
       "      <td>1.200000e+01</td>\n",
       "    </tr>\n",
       "    <tr>\n",
       "      <th>Price</th>\n",
       "      <td>8513.0</td>\n",
       "      <td>1.064023e+06</td>\n",
       "      <td>648245.757270</td>\n",
       "      <td>131000.00000</td>\n",
       "      <td>630000.000000</td>\n",
       "      <td>877500.000000</td>\n",
       "      <td>1.310000e+06</td>\n",
       "      <td>9.000000e+06</td>\n",
       "    </tr>\n",
       "    <tr>\n",
       "      <th>Distance</th>\n",
       "      <td>8513.0</td>\n",
       "      <td>1.149550e+01</td>\n",
       "      <td>6.803366</td>\n",
       "      <td>0.00000</td>\n",
       "      <td>6.800000</td>\n",
       "      <td>10.500000</td>\n",
       "      <td>1.400000e+01</td>\n",
       "      <td>4.740000e+01</td>\n",
       "    </tr>\n",
       "    <tr>\n",
       "      <th>Postcode</th>\n",
       "      <td>8513.0</td>\n",
       "      <td>3.112093e+03</td>\n",
       "      <td>114.482828</td>\n",
       "      <td>3000.00000</td>\n",
       "      <td>3044.000000</td>\n",
       "      <td>3084.000000</td>\n",
       "      <td>3.150000e+03</td>\n",
       "      <td>3.977000e+03</td>\n",
       "    </tr>\n",
       "    <tr>\n",
       "      <th>Bedroom2</th>\n",
       "      <td>8513.0</td>\n",
       "      <td>3.080348e+00</td>\n",
       "      <td>0.967217</td>\n",
       "      <td>0.00000</td>\n",
       "      <td>2.000000</td>\n",
       "      <td>3.000000</td>\n",
       "      <td>4.000000e+00</td>\n",
       "      <td>1.200000e+01</td>\n",
       "    </tr>\n",
       "    <tr>\n",
       "      <th>Bathroom</th>\n",
       "      <td>8513.0</td>\n",
       "      <td>1.648185e+00</td>\n",
       "      <td>0.720383</td>\n",
       "      <td>1.00000</td>\n",
       "      <td>1.000000</td>\n",
       "      <td>2.000000</td>\n",
       "      <td>2.000000e+00</td>\n",
       "      <td>9.000000e+00</td>\n",
       "    </tr>\n",
       "    <tr>\n",
       "      <th>Car</th>\n",
       "      <td>8513.0</td>\n",
       "      <td>1.718078e+00</td>\n",
       "      <td>0.966873</td>\n",
       "      <td>0.00000</td>\n",
       "      <td>1.000000</td>\n",
       "      <td>2.000000</td>\n",
       "      <td>2.000000e+00</td>\n",
       "      <td>1.000000e+01</td>\n",
       "    </tr>\n",
       "    <tr>\n",
       "      <th>Landsize</th>\n",
       "      <td>8513.0</td>\n",
       "      <td>5.307871e+02</td>\n",
       "      <td>1068.639571</td>\n",
       "      <td>0.00000</td>\n",
       "      <td>221.000000</td>\n",
       "      <td>500.000000</td>\n",
       "      <td>6.550000e+02</td>\n",
       "      <td>4.280000e+04</td>\n",
       "    </tr>\n",
       "    <tr>\n",
       "      <th>BuildingArea</th>\n",
       "      <td>8513.0</td>\n",
       "      <td>1.492362e+02</td>\n",
       "      <td>88.102205</td>\n",
       "      <td>0.00000</td>\n",
       "      <td>100.000000</td>\n",
       "      <td>132.000000</td>\n",
       "      <td>1.800000e+02</td>\n",
       "      <td>3.112000e+03</td>\n",
       "    </tr>\n",
       "    <tr>\n",
       "      <th>YearBuilt</th>\n",
       "      <td>8513.0</td>\n",
       "      <td>1.969400e+03</td>\n",
       "      <td>32.723682</td>\n",
       "      <td>1900.00000</td>\n",
       "      <td>1950.000000</td>\n",
       "      <td>1970.000000</td>\n",
       "      <td>2.000000e+03</td>\n",
       "      <td>2.019000e+03</td>\n",
       "    </tr>\n",
       "    <tr>\n",
       "      <th>Lattitude</th>\n",
       "      <td>8506.0</td>\n",
       "      <td>-3.780408e+01</td>\n",
       "      <td>0.092244</td>\n",
       "      <td>-38.17436</td>\n",
       "      <td>-37.860488</td>\n",
       "      <td>-37.797560</td>\n",
       "      <td>-3.774592e+01</td>\n",
       "      <td>-3.740720e+01</td>\n",
       "    </tr>\n",
       "    <tr>\n",
       "      <th>Longtitude</th>\n",
       "      <td>8506.0</td>\n",
       "      <td>1.449920e+02</td>\n",
       "      <td>0.121128</td>\n",
       "      <td>144.42379</td>\n",
       "      <td>144.917203</td>\n",
       "      <td>145.000165</td>\n",
       "      <td>1.450676e+02</td>\n",
       "      <td>1.455264e+02</td>\n",
       "    </tr>\n",
       "    <tr>\n",
       "      <th>Propertycount</th>\n",
       "      <td>8513.0</td>\n",
       "      <td>7.487568e+03</td>\n",
       "      <td>4398.877816</td>\n",
       "      <td>249.00000</td>\n",
       "      <td>4380.000000</td>\n",
       "      <td>6567.000000</td>\n",
       "      <td>1.033100e+04</td>\n",
       "      <td>2.165000e+04</td>\n",
       "    </tr>\n",
       "    <tr>\n",
       "      <th>Real Rooms</th>\n",
       "      <td>8513.0</td>\n",
       "      <td>2.032186e-02</td>\n",
       "      <td>0.256376</td>\n",
       "      <td>-6.00000</td>\n",
       "      <td>0.000000</td>\n",
       "      <td>0.000000</td>\n",
       "      <td>0.000000e+00</td>\n",
       "      <td>4.000000e+00</td>\n",
       "    </tr>\n",
       "  </tbody>\n",
       "</table>\n",
       "</div>"
      ],
      "text/plain": [
       "                count          mean            std           min  \\\n",
       "Rooms          8513.0  3.100670e+00       0.964643       1.00000   \n",
       "Price          8513.0  1.064023e+06  648245.757270  131000.00000   \n",
       "Distance       8513.0  1.149550e+01       6.803366       0.00000   \n",
       "Postcode       8513.0  3.112093e+03     114.482828    3000.00000   \n",
       "Bedroom2       8513.0  3.080348e+00       0.967217       0.00000   \n",
       "Bathroom       8513.0  1.648185e+00       0.720383       1.00000   \n",
       "Car            8513.0  1.718078e+00       0.966873       0.00000   \n",
       "Landsize       8513.0  5.307871e+02    1068.639571       0.00000   \n",
       "BuildingArea   8513.0  1.492362e+02      88.102205       0.00000   \n",
       "YearBuilt      8513.0  1.969400e+03      32.723682    1900.00000   \n",
       "Lattitude      8506.0 -3.780408e+01       0.092244     -38.17436   \n",
       "Longtitude     8506.0  1.449920e+02       0.121128     144.42379   \n",
       "Propertycount  8513.0  7.487568e+03    4398.877816     249.00000   \n",
       "Real Rooms     8513.0  2.032186e-02       0.256376      -6.00000   \n",
       "\n",
       "                         25%            50%           75%           max  \n",
       "Rooms               2.000000       3.000000  4.000000e+00  1.200000e+01  \n",
       "Price          630000.000000  877500.000000  1.310000e+06  9.000000e+06  \n",
       "Distance            6.800000      10.500000  1.400000e+01  4.740000e+01  \n",
       "Postcode         3044.000000    3084.000000  3.150000e+03  3.977000e+03  \n",
       "Bedroom2            2.000000       3.000000  4.000000e+00  1.200000e+01  \n",
       "Bathroom            1.000000       2.000000  2.000000e+00  9.000000e+00  \n",
       "Car                 1.000000       2.000000  2.000000e+00  1.000000e+01  \n",
       "Landsize          221.000000     500.000000  6.550000e+02  4.280000e+04  \n",
       "BuildingArea      100.000000     132.000000  1.800000e+02  3.112000e+03  \n",
       "YearBuilt        1950.000000    1970.000000  2.000000e+03  2.019000e+03  \n",
       "Lattitude         -37.860488     -37.797560 -3.774592e+01 -3.740720e+01  \n",
       "Longtitude        144.917203     145.000165  1.450676e+02  1.455264e+02  \n",
       "Propertycount    4380.000000    6567.000000  1.033100e+04  2.165000e+04  \n",
       "Real Rooms          0.000000       0.000000  0.000000e+00  4.000000e+00  "
      ]
     },
     "execution_count": 112,
     "metadata": {},
     "output_type": "execute_result"
    }
   ],
   "source": [
    "df.describe().transpose()"
   ]
  },
  {
   "cell_type": "markdown",
   "metadata": {},
   "source": [
    "_Creating a new data frame only with numeric variables, which strong correlate with 'Price'_"
   ]
  },
  {
   "cell_type": "code",
   "execution_count": 113,
   "metadata": {
    "scrolled": false
   },
   "outputs": [
    {
     "name": "stdout",
     "output_type": "stream",
     "text": [
      "<class 'pandas.core.frame.DataFrame'>\n",
      "Int64Index: 8513 entries, 2 to 34856\n",
      "Data columns (total 5 columns):\n",
      "Price       8513 non-null float64\n",
      "Rooms       8513 non-null int64\n",
      "Bathroom    8513 non-null float64\n",
      "Bedroom2    8513 non-null float64\n",
      "Car         8513 non-null float64\n",
      "dtypes: float64(4), int64(1)\n",
      "memory usage: 399.0 KB\n"
     ]
    }
   ],
   "source": [
    "df = df.loc[:,[\"Price\",\"Rooms\",\"Bathroom\",\"Bedroom2\",\"Car\"]]\n",
    "df.info()"
   ]
  },
  {
   "cell_type": "markdown",
   "metadata": {},
   "source": [
    "__Pairplot__"
   ]
  },
  {
   "cell_type": "code",
   "execution_count": 114,
   "metadata": {
    "scrolled": false
   },
   "outputs": [
    {
     "data": {
      "image/png": "[encoded data removed]",
      "text/plain": [
       "<matplotlib.figure.Figure at 0x1471ac18f60>"
      ]
     },
     "metadata": {},
     "output_type": "display_data"
    }
   ],
   "source": [
    "sns.pairplot(df)\n",
    "plt.show()"
   ]
  },
  {
   "cell_type": "markdown",
   "metadata": {},
   "source": [
    "__Linear Regression scatter plot__"
   ]
  },
  {
   "cell_type": "code",
   "execution_count": 124,
   "metadata": {},
   "outputs": [
    {
     "data": {
      "image/png": "[encoded data removed]",
      "text/plain": [
       "<matplotlib.figure.Figure at 0x1471ae6bf28>"
      ]
     },
     "metadata": {},
     "output_type": "display_data"
    }
   ],
   "source": [
    "fig, axs = plt.subplots(ncols=4)\n",
    "fig.set_size_inches(25, 6.78)\n",
    "\n",
    "sns.regplot(df.Rooms,df.Price,color=\"red\",ax=axs[0])\n",
    "\n",
    "sns.regplot(df.Bathroom,df.Price,color=\"yellow\",ax=axs[1])\n",
    "\n",
    "sns.regplot(df.Bedroom2,df.Price,color=\"blue\",ax=axs[2])\n",
    "\n",
    "sns.regplot(df.Car,df.Price,color=\"green\",ax=axs[3])\n",
    "\n",
    "plt.show()"
   ]
  },
  {
   "cell_type": "markdown",
   "metadata": {},
   "source": [
    "__Comparing the correlation coefficient among the variables 'Rooms'; 'Bathroom'; 'Bedroom'__"
   ]
  },
  {
   "cell_type": "code",
   "execution_count": 125,
   "metadata": {},
   "outputs": [
    {
     "name": "stdout",
     "output_type": "stream",
     "text": [
      "<class 'pandas.core.frame.DataFrame'>\n",
      "Int64Index: 14811 entries, 2 to 34856\n",
      "Data columns (total 4 columns):\n",
      "Price       11568 non-null float64\n",
      "Rooms       14811 non-null int64\n",
      "Bathroom    14810 non-null float64\n",
      "Bedroom2    14811 non-null float64\n",
      "dtypes: float64(3), int64(1)\n",
      "memory usage: 1.2 MB\n"
     ]
    }
   ],
   "source": [
    "df = housing.loc[:,[\"Price\",\"Rooms\",\"Bathroom\",\"Bedroom2\"]]\n",
    "df.info()"
   ]
  },
  {
   "cell_type": "code",
   "execution_count": 126,
   "metadata": {},
   "outputs": [
    {
     "name": "stdout",
     "output_type": "stream",
     "text": [
      "             Price     Rooms  Bathroom  Bedroom2\n",
      "Price     1.000000  0.485254  0.468264  0.472288\n",
      "Rooms     0.485254  1.000000  0.630056  0.946628\n",
      "Bathroom  0.468264  0.630056  1.000000  0.638901\n",
      "Bedroom2  0.472288  0.946628  0.638901  1.000000\n"
     ]
    }
   ],
   "source": [
    "corr = df.corr()\n",
    "print(corr)"
   ]
  },
  {
   "cell_type": "markdown",
   "metadata": {},
   "source": [
    "_Based on the scatter plots and correlation coefficient table above, we found that there are collinearity among the predictors \"Rooms\"; \"Bathroom\"; and \"Bedroom\". Thus, we may only pick one of them in the model._"
   ]
  },
  {
   "cell_type": "markdown",
   "metadata": {},
   "source": [
    "__c. side-by-side histograms or boxplots for relationships between numeric and categorical data__"
   ]
  },
  {
   "cell_type": "markdown",
   "metadata": {},
   "source": [
    "_Boxplot between ('Type'; 'Method'; 'RangeofDistance'; 'yeargroup') and 'Price'_"
   ]
  },
  {
   "cell_type": "code",
   "execution_count": 128,
   "metadata": {
    "scrolled": false
   },
   "outputs": [
    {
     "name": "stdout",
     "output_type": "stream",
     "text": [
      "<class 'pandas.core.frame.DataFrame'>\n",
      "Int64Index: 11568 entries, 2 to 34856\n",
      "Data columns (total 5 columns):\n",
      "Price              11568 non-null float64\n",
      "Method             11568 non-null object\n",
      "RangeofDistance    11568 non-null category\n",
      "yeargroup          11568 non-null category\n",
      "Type               11568 non-null object\n",
      "dtypes: category(2), float64(1), object(2)\n",
      "memory usage: 384.3+ KB\n"
     ]
    },
    {
     "data": {
      "image/png": "[encoded data removed]",
      "text/plain": [
       "<matplotlib.figure.Figure at 0x1471d1c6518>"
      ]
     },
     "metadata": {},
     "output_type": "display_data"
    }
   ],
   "source": [
    "df = housing.loc[(housing['Price'].isnull() == False),[\"Price\",\"Method\",\"RangeofDistance\",\"yeargroup\",\"Type\"]]\n",
    "df.info()\n",
    "\n",
    "plt.figure(figsize=(16,12))\n",
    "plt.subplot(2,2,1)\n",
    "sns.boxplot(x=\"Type\", y=\"Price\", data = df)\n",
    "plt.title(\"Box plot with Type & Price\")\n",
    "\n",
    "plt.subplot(2,2,2)\n",
    "sns.boxplot(x=\"Method\", y=\"Price\", data = df)\n",
    "plt.title(\"Box plot with Method & Price\")\n",
    "\n",
    "plt.subplot(2,2,3)\n",
    "sns.boxplot(x=\"RangeofDistance\", y=\"Price\", data = df)\n",
    "plt.title(\"Box plot with RangeofDistance & Price\")\n",
    "\n",
    "plt.subplot(2,2,4)\n",
    "sns.boxplot(x=\"yeargroup\", y=\"Price\", data = df)\n",
    "plt.title(\"Box plot with yeargroup & Price\")\n",
    "\n",
    "plt.show()"
   ]
  },
  {
   "cell_type": "markdown",
   "metadata": {},
   "source": [
    "# Model\n",
    "\n"
   ]
  },
  {
   "cell_type": "markdown",
   "metadata": {},
   "source": [
    "__Split cleaning data into training and testing date set__ "
   ]
  },
  {
   "cell_type": "code",
   "execution_count": 129,
   "metadata": {},
   "outputs": [
    {
     "name": "stdout",
     "output_type": "stream",
     "text": [
      "<class 'pandas.core.frame.DataFrame'>\n",
      "Int64Index: 11421 entries, 2 to 34856\n",
      "Data columns (total 7 columns):\n",
      "Price              11421 non-null float64\n",
      "Rooms              11421 non-null int64\n",
      "Bathroom           11421 non-null float64\n",
      "Bedroom2           11421 non-null float64\n",
      "Car                11421 non-null float64\n",
      "RangeofDistance    11421 non-null category\n",
      "yeargroup          11421 non-null category\n",
      "dtypes: category(2), float64(4), int64(1)\n",
      "memory usage: 557.8 KB\n"
     ]
    }
   ],
   "source": [
    "df = housing.loc[:,[\"Price\",\"Rooms\",\"Bathroom\",\"Bedroom2\",\"Car\", \"RangeofDistance\", \"yeargroup\"]]\n",
    "df = df.loc[((df['yeargroup'].isnull() == False) & \n",
    "             (df['Price'].isnull() == False) &\n",
    "             (df['Car'].isnull() == False))]\n",
    "df.info()"
   ]
  },
  {
   "cell_type": "code",
   "execution_count": 130,
   "metadata": {},
   "outputs": [
    {
     "name": "stdout",
     "output_type": "stream",
     "text": [
      "<class 'pandas.core.frame.DataFrame'>\n",
      "Int64Index: 9136 entries, 32061 to 7348\n",
      "Data columns (total 7 columns):\n",
      "Rooms              9136 non-null int64\n",
      "Bathroom           9136 non-null float64\n",
      "Bedroom2           9136 non-null float64\n",
      "Car                9136 non-null float64\n",
      "RangeofDistance    9136 non-null category\n",
      "yeargroup          9136 non-null category\n",
      "Price              9136 non-null float64\n",
      "dtypes: category(2), float64(4), int64(1)\n",
      "memory usage: 446.3 KB\n"
     ]
    },
    {
     "name": "stderr",
     "output_type": "stream",
     "text": [
      "C:\\Users\\yvonne\\Anaconda3\\lib\\site-packages\\ipykernel_launcher.py:6: SettingWithCopyWarning: \n",
      "A value is trying to be set on a copy of a slice from a DataFrame.\n",
      "Try using .loc[row_indexer,col_indexer] = value instead\n",
      "\n",
      "See the caveats in the documentation: http://pandas.pydata.org/pandas-docs/stable/indexing.html#indexing-view-versus-copy\n",
      "  \n"
     ]
    }
   ],
   "source": [
    "X = df[['Rooms', 'Bathroom', 'Bedroom2', 'Car', 'RangeofDistance', 'yeargroup']]\n",
    "y = df['Price']\n",
    "X_train, X_test, y_train, y_test = train_test_split(X,y, test_size = .20, random_state= 0)\n",
    "\n",
    "train = X_train\n",
    "train[\"Price\"] = pd.Series(y_train, index = train.index)\n",
    "train.info()"
   ]
  },
  {
   "cell_type": "markdown",
   "metadata": {},
   "source": [
    "### Model1 (numerical & categorical)"
   ]
  },
  {
   "cell_type": "markdown",
   "metadata": {},
   "source": [
    "__Construct model with training data (numerical & categorical)__"
   ]
  },
  {
   "cell_type": "code",
   "execution_count": 131,
   "metadata": {},
   "outputs": [],
   "source": [
    "model1 = smf.ols('Price ~ Rooms + Bathroom + Car + Bedroom2 + C(RangeofDistance) + C(yeargroup)', data = train) \n",
    "results1 = model1.fit()"
   ]
  },
  {
   "cell_type": "markdown",
   "metadata": {},
   "source": [
    "__Summary table (numerical & categorical)__"
   ]
  },
  {
   "cell_type": "code",
   "execution_count": 132,
   "metadata": {},
   "outputs": [
    {
     "name": "stdout",
     "output_type": "stream",
     "text": [
      "                            OLS Regression Results                            \n",
      "==============================================================================\n",
      "Dep. Variable:                  Price   R-squared:                       0.487\n",
      "Model:                            OLS   Adj. R-squared:                  0.486\n",
      "Method:                 Least Squares   F-statistic:                     666.2\n",
      "Date:                Tue, 12 Jun 2018   Prob (F-statistic):               0.00\n",
      "Time:                        11:46:10   Log-Likelihood:            -1.3209e+05\n",
      "No. Observations:                9136   AIC:                         2.642e+05\n",
      "Df Residuals:                    9122   BIC:                         2.643e+05\n",
      "Df Model:                          13                                         \n",
      "Covariance Type:            nonrobust                                         \n",
      "=========================================================================================================================\n",
      "                                                            coef    std err          t      P>|t|      [0.025      0.975]\n",
      "-------------------------------------------------------------------------------------------------------------------------\n",
      "Intercept                                              4.562e+05   2.35e+04     19.436      0.000     4.1e+05    5.02e+05\n",
      "C(RangeofDistance)[T.Interval(10, 20, closed='left')] -2.039e+05   1.13e+04    -17.991      0.000   -2.26e+05   -1.82e+05\n",
      "C(RangeofDistance)[T.Interval(20, 30, closed='left')] -4.847e+05   1.93e+04    -25.176      0.000   -5.22e+05   -4.47e+05\n",
      "C(RangeofDistance)[T.Interval(30, 40, closed='left')] -5.796e+05   3.16e+04    -18.362      0.000   -6.41e+05   -5.18e+05\n",
      "C(RangeofDistance)[T.Interval(40, 50, closed='left')] -6.651e+05   7.97e+04     -8.345      0.000   -8.21e+05   -5.09e+05\n",
      "C(yeargroup)[T.Interval(1920, 1940, closed='left')]   -5.484e+04   2.38e+04     -2.300      0.021   -1.02e+05   -8109.055\n",
      "C(yeargroup)[T.Interval(1940, 1960, closed='left')]   -3.196e+05   2.26e+04    -14.121      0.000   -3.64e+05   -2.75e+05\n",
      "C(yeargroup)[T.Interval(1960, 1980, closed='left')]   -5.075e+05   2.08e+04    -24.377      0.000   -5.48e+05   -4.67e+05\n",
      "C(yeargroup)[T.Interval(1980, 2000, closed='left')]    -5.64e+05   2.23e+04    -25.240      0.000   -6.08e+05    -5.2e+05\n",
      "C(yeargroup)[T.Interval(2000, 2020, closed='left')]   -6.003e+05   2.08e+04    -28.851      0.000   -6.41e+05    -5.6e+05\n",
      "Rooms                                                  1.986e+05   2.05e+04      9.706      0.000    1.59e+05    2.39e+05\n",
      "Bathroom                                               2.955e+05   9468.135     31.215      0.000    2.77e+05    3.14e+05\n",
      "Car                                                    5.633e+04   5563.496     10.125      0.000    4.54e+04    6.72e+04\n",
      "Bedroom2                                              -5589.7980   2.05e+04     -0.272      0.786   -4.59e+04    3.47e+04\n",
      "==============================================================================\n",
      "Omnibus:                     5812.046   Durbin-Watson:                   1.998\n",
      "Prob(Omnibus):                  0.000   Jarque-Bera (JB):           199305.316\n",
      "Skew:                           2.528   Prob(JB):                         0.00\n",
      "Kurtosis:                      25.316   Cond. No.                         87.5\n",
      "==============================================================================\n",
      "\n",
      "Warnings:\n",
      "[1] Standard Errors assume that the covariance matrix of the errors is correctly specified.\n"
     ]
    }
   ],
   "source": [
    "print(results1.summary())"
   ]
  },
  {
   "cell_type": "markdown",
   "metadata": {},
   "source": [
    "_Based on the summary table, we will drop variable \"Bedroom2\" because its p-value is larger than 0.05. It is not significant._\n",
    "\n",
    "_Actually, we found that the adjust R-squareds are the same with or without variable 'Bedroom2' in the model._"
   ]
  },
  {
   "cell_type": "markdown",
   "metadata": {},
   "source": [
    "__ANOVA table (numerical & categorical)__"
   ]
  },
  {
   "cell_type": "code",
   "execution_count": 133,
   "metadata": {},
   "outputs": [
    {
     "name": "stdout",
     "output_type": "stream",
     "text": [
      "                        df        sum_sq       mean_sq            F  \\\n",
      "C(RangeofDistance)     4.0  1.744204e+14  4.360511e+13   205.614688   \n",
      "C(yeargroup)           5.0  4.727460e+14  9.454920e+13   445.835470   \n",
      "Rooms                  1.0  9.419800e+14  9.419800e+14  4441.794226   \n",
      "Bathroom               1.0  2.257577e+14  2.257577e+14  1064.533471   \n",
      "Car                    1.0  2.175551e+13  2.175551e+13   102.585534   \n",
      "Bedroom2               1.0  1.570096e+10  1.570096e+10     0.074036   \n",
      "Residual            9122.0  1.934520e+15  2.120719e+11          NaN   \n",
      "\n",
      "                           PR(>F)  \n",
      "C(RangeofDistance)  3.809903e-169  \n",
      "C(yeargroup)         0.000000e+00  \n",
      "Rooms                0.000000e+00  \n",
      "Bathroom            5.945984e-221  \n",
      "Car                  5.531474e-24  \n",
      "Bedroom2             7.855547e-01  \n",
      "Residual                      NaN  \n"
     ]
    },
    {
     "name": "stderr",
     "output_type": "stream",
     "text": [
      "C:\\Users\\yvonne\\Anaconda3\\lib\\site-packages\\scipy\\stats\\_distn_infrastructure.py:879: RuntimeWarning: invalid value encountered in greater\n",
      "  return (self.a < x) & (x < self.b)\n",
      "C:\\Users\\yvonne\\Anaconda3\\lib\\site-packages\\scipy\\stats\\_distn_infrastructure.py:879: RuntimeWarning: invalid value encountered in less\n",
      "  return (self.a < x) & (x < self.b)\n",
      "C:\\Users\\yvonne\\Anaconda3\\lib\\site-packages\\scipy\\stats\\_distn_infrastructure.py:1821: RuntimeWarning: invalid value encountered in less_equal\n",
      "  cond2 = cond0 & (x <= self.a)\n"
     ]
    }
   ],
   "source": [
    "table = sm.stats.anova_lm(results1)\n",
    "print(table)"
   ]
  },
  {
   "cell_type": "markdown",
   "metadata": {},
   "source": [
    "__Prediction with testing data (numerical & categorical)__"
   ]
  },
  {
   "cell_type": "code",
   "execution_count": 134,
   "metadata": {
    "scrolled": true
   },
   "outputs": [
    {
     "name": "stdout",
     "output_type": "stream",
     "text": [
      "34847    6.539236e+05\n",
      "7183     8.635647e+05\n",
      "25369    8.469502e+05\n",
      "24419    6.192380e+05\n",
      "9817     1.127759e+06\n",
      "dtype: float64\n"
     ]
    }
   ],
   "source": [
    "y_pred = results1.predict(X_test)\n",
    "print(y_pred.head())"
   ]
  },
  {
   "cell_type": "markdown",
   "metadata": {},
   "source": [
    "__Compute mean squared error between y in testing data and prediction__"
   ]
  },
  {
   "cell_type": "code",
   "execution_count": 135,
   "metadata": {},
   "outputs": [
    {
     "name": "stdout",
     "output_type": "stream",
     "text": [
      "208638499736.74542\n"
     ]
    }
   ],
   "source": [
    "mse = mean_squared_error(y_test, y_pred)\n",
    "print(mse)"
   ]
  },
  {
   "cell_type": "markdown",
   "metadata": {},
   "source": [
    "### Model2 (only with numerical)"
   ]
  },
  {
   "cell_type": "markdown",
   "metadata": {},
   "source": [
    "__Construct model (only with numerical)__"
   ]
  },
  {
   "cell_type": "code",
   "execution_count": 136,
   "metadata": {},
   "outputs": [],
   "source": [
    "model2 = smf.ols('Price ~ Rooms + Bathroom + Car + Bedroom2', data = train) \n",
    "results2 = model2.fit()"
   ]
  },
  {
   "cell_type": "markdown",
   "metadata": {},
   "source": [
    "__Summary table (only with numerical)__"
   ]
  },
  {
   "cell_type": "code",
   "execution_count": 137,
   "metadata": {},
   "outputs": [
    {
     "name": "stdout",
     "output_type": "stream",
     "text": [
      "                            OLS Regression Results                            \n",
      "==============================================================================\n",
      "Dep. Variable:                  Price   R-squared:                       0.285\n",
      "Model:                            OLS   Adj. R-squared:                  0.285\n",
      "Method:                 Least Squares   F-statistic:                     910.2\n",
      "Date:                Tue, 12 Jun 2018   Prob (F-statistic):               0.00\n",
      "Time:                        11:46:41   Log-Likelihood:            -1.3361e+05\n",
      "No. Observations:                9136   AIC:                         2.672e+05\n",
      "Df Residuals:                    9131   BIC:                         2.673e+05\n",
      "Df Model:                           4                                         \n",
      "Covariance Type:            nonrobust                                         \n",
      "==============================================================================\n",
      "                 coef    std err          t      P>|t|      [0.025      0.975]\n",
      "------------------------------------------------------------------------------\n",
      "Intercept   4077.9875   1.91e+04      0.214      0.831   -3.33e+04    4.15e+04\n",
      "Rooms       2.617e+05    2.4e+04     10.894      0.000    2.15e+05    3.09e+05\n",
      "Bathroom     2.49e+05   1.05e+04     23.818      0.000    2.29e+05     2.7e+05\n",
      "Car         8964.3191   6431.505      1.394      0.163   -3642.871    2.16e+04\n",
      "Bedroom2   -5.969e+04   2.42e+04     -2.469      0.014   -1.07e+05   -1.23e+04\n",
      "==============================================================================\n",
      "Omnibus:                     4629.194   Durbin-Watson:                   1.990\n",
      "Prob(Omnibus):                  0.000   Jarque-Bera (JB):            67914.951\n",
      "Skew:                           2.076   Prob(JB):                         0.00\n",
      "Kurtosis:                      15.696   Cond. No.                         31.1\n",
      "==============================================================================\n",
      "\n",
      "Warnings:\n",
      "[1] Standard Errors assume that the covariance matrix of the errors is correctly specified.\n"
     ]
    }
   ],
   "source": [
    "print(results2.summary())"
   ]
  },
  {
   "cell_type": "markdown",
   "metadata": {},
   "source": [
    "__ANOVA table (only with numerical)__"
   ]
  },
  {
   "cell_type": "code",
   "execution_count": 138,
   "metadata": {},
   "outputs": [
    {
     "name": "stdout",
     "output_type": "stream",
     "text": [
      "              df        sum_sq       mean_sq            F         PR(>F)\n",
      "Rooms        1.0  9.040134e+14  9.040134e+14  3061.620901   0.000000e+00\n",
      "Bathroom     1.0  1.688115e+14  1.688115e+14   571.713763  1.322118e-122\n",
      "Car          1.0  4.349114e+11  4.349114e+11     1.472914   2.249179e-01\n",
      "Bedroom2     1.0  1.799843e+12  1.799843e+12     6.095525   1.357064e-02\n",
      "Residual  9131.0  2.696136e+15  2.952728e+11          NaN            NaN\n"
     ]
    },
    {
     "name": "stderr",
     "output_type": "stream",
     "text": [
      "C:\\Users\\yvonne\\Anaconda3\\lib\\site-packages\\scipy\\stats\\_distn_infrastructure.py:879: RuntimeWarning: invalid value encountered in greater\n",
      "  return (self.a < x) & (x < self.b)\n",
      "C:\\Users\\yvonne\\Anaconda3\\lib\\site-packages\\scipy\\stats\\_distn_infrastructure.py:879: RuntimeWarning: invalid value encountered in less\n",
      "  return (self.a < x) & (x < self.b)\n",
      "C:\\Users\\yvonne\\Anaconda3\\lib\\site-packages\\scipy\\stats\\_distn_infrastructure.py:1821: RuntimeWarning: invalid value encountered in less_equal\n",
      "  cond2 = cond0 & (x <= self.a)\n"
     ]
    }
   ],
   "source": [
    "table = sm.stats.anova_lm(results2)\n",
    "print(table)"
   ]
  },
  {
   "cell_type": "markdown",
   "metadata": {},
   "source": [
    "__Prediction with testing data (only with numerical)__"
   ]
  },
  {
   "cell_type": "code",
   "execution_count": 139,
   "metadata": {},
   "outputs": [
    {
     "name": "stdout",
     "output_type": "stream",
     "text": [
      "34847    1.126217e+06\n",
      "7183     8.682038e+05\n",
      "25369    1.328254e+06\n",
      "24419    8.682038e+05\n",
      "9817     1.328254e+06\n",
      "dtype: float64\n"
     ]
    }
   ],
   "source": [
    "y_pred = results2.predict(X_test)\n",
    "print(y_pred.head())"
   ]
  },
  {
   "cell_type": "markdown",
   "metadata": {},
   "source": [
    "__Prediction with testing data (only with numerical)__"
   ]
  },
  {
   "cell_type": "code",
   "execution_count": 140,
   "metadata": {},
   "outputs": [
    {
     "name": "stdout",
     "output_type": "stream",
     "text": [
      "303546361549.2424\n"
     ]
    }
   ],
   "source": [
    "mse = mean_squared_error(y_test, y_pred)\n",
    "print(mse)"
   ]
  },
  {
   "cell_type": "markdown",
   "metadata": {},
   "source": [
    "_model 2 is not better than model 1 because mse1 = 208638499736.74542 is smaller than mse2 = 303546361549.2424_"
   ]
  },
  {
   "cell_type": "markdown",
   "metadata": {},
   "source": [
    "### Model3 (using model1 but resplit the data set)"
   ]
  },
  {
   "cell_type": "markdown",
   "metadata": {},
   "source": [
    "_Try to resplit the data set_\n",
    "\n",
    "_model 3 is not better than model 1_\n",
    "\n",
    "_mse3 = 218247129612.31937_"
   ]
  },
  {
   "cell_type": "code",
   "execution_count": 141,
   "metadata": {},
   "outputs": [
    {
     "name": "stdout",
     "output_type": "stream",
     "text": [
      "<class 'pandas.core.frame.DataFrame'>\n",
      "Int64Index: 7423 entries, 24073 to 15539\n",
      "Data columns (total 7 columns):\n",
      "Rooms              7423 non-null int64\n",
      "Bathroom           7423 non-null float64\n",
      "Bedroom2           7423 non-null float64\n",
      "Car                7423 non-null float64\n",
      "RangeofDistance    7423 non-null category\n",
      "yeargroup          7423 non-null category\n",
      "Price              7423 non-null float64\n",
      "dtypes: category(2), float64(4), int64(1)\n",
      "memory usage: 362.6 KB\n"
     ]
    },
    {
     "name": "stderr",
     "output_type": "stream",
     "text": [
      "C:\\Users\\yvonne\\Anaconda3\\lib\\site-packages\\ipykernel_launcher.py:6: SettingWithCopyWarning: \n",
      "A value is trying to be set on a copy of a slice from a DataFrame.\n",
      "Try using .loc[row_indexer,col_indexer] = value instead\n",
      "\n",
      "See the caveats in the documentation: http://pandas.pydata.org/pandas-docs/stable/indexing.html#indexing-view-versus-copy\n",
      "  \n"
     ]
    }
   ],
   "source": [
    "X = df[['Rooms', 'Bathroom', 'Bedroom2', 'Car', 'RangeofDistance', 'yeargroup']]\n",
    "y = df['Price']\n",
    "X_train, X_test, y_train, y_test = train_test_split(X,y, test_size = 0.35, random_state= 50)\n",
    "\n",
    "train = X_train\n",
    "train[\"Price\"] = pd.Series(y_train, index = train.index)\n",
    "train.info()"
   ]
  },
  {
   "cell_type": "code",
   "execution_count": 284,
   "metadata": {},
   "outputs": [
    {
     "name": "stdout",
     "output_type": "stream",
     "text": [
      "                            OLS Regression Results                            \n",
      "==============================================================================\n",
      "Dep. Variable:                  Price   R-squared:                       0.495\n",
      "Model:                            OLS   Adj. R-squared:                  0.494\n",
      "Method:                 Least Squares   F-statistic:                     605.0\n",
      "Date:                Tue, 12 Jun 2018   Prob (F-statistic):               0.00\n",
      "Time:                        00:26:58   Log-Likelihood:            -1.0725e+05\n",
      "No. Observations:                7423   AIC:                         2.145e+05\n",
      "Df Residuals:                    7410   BIC:                         2.146e+05\n",
      "Df Model:                          12                                         \n",
      "Covariance Type:            nonrobust                                         \n",
      "=========================================================================================================================\n",
      "                                                            coef    std err          t      P>|t|      [0.025      0.975]\n",
      "-------------------------------------------------------------------------------------------------------------------------\n",
      "Intercept                                              4.448e+05   2.62e+04     16.972      0.000    3.93e+05    4.96e+05\n",
      "C(yeargroup)[T.Interval(1920, 1940, closed='left')]   -5.426e+04   2.64e+04     -2.059      0.040   -1.06e+05   -2608.153\n",
      "C(yeargroup)[T.Interval(1940, 1960, closed='left')]   -3.549e+05   2.54e+04    -14.000      0.000   -4.05e+05   -3.05e+05\n",
      "C(yeargroup)[T.Interval(1960, 1980, closed='left')]   -5.211e+05   2.33e+04    -22.404      0.000   -5.67e+05   -4.75e+05\n",
      "C(yeargroup)[T.Interval(1980, 2000, closed='left')]   -5.922e+05   2.48e+04    -23.838      0.000   -6.41e+05   -5.43e+05\n",
      "C(yeargroup)[T.Interval(2000, 2020, closed='left')]   -6.175e+05   2.32e+04    -26.562      0.000   -6.63e+05   -5.72e+05\n",
      "C(RangeofDistance)[T.Interval(10, 20, closed='left')] -1.992e+05   1.24e+04    -16.005      0.000   -2.24e+05   -1.75e+05\n",
      "C(RangeofDistance)[T.Interval(20, 30, closed='left')] -4.766e+05   2.12e+04    -22.449      0.000   -5.18e+05   -4.35e+05\n",
      "C(RangeofDistance)[T.Interval(30, 40, closed='left')] -5.735e+05   3.48e+04    -16.482      0.000   -6.42e+05   -5.05e+05\n",
      "C(RangeofDistance)[T.Interval(40, 50, closed='left')] -6.271e+05   8.54e+04     -7.343      0.000   -7.94e+05    -4.6e+05\n",
      "Rooms                                                  2.003e+05   7822.713     25.610      0.000    1.85e+05    2.16e+05\n",
      "Bathroom                                               2.869e+05   1.04e+04     27.548      0.000    2.66e+05    3.07e+05\n",
      "Car                                                    6.613e+04   6233.836     10.609      0.000    5.39e+04    7.84e+04\n",
      "==============================================================================\n",
      "Omnibus:                     4885.771   Durbin-Watson:                   2.013\n",
      "Prob(Omnibus):                  0.000   Jarque-Bera (JB):           188083.244\n",
      "Skew:                           2.616   Prob(JB):                         0.00\n",
      "Kurtosis:                      27.099   Cond. No.                         68.1\n",
      "==============================================================================\n",
      "\n",
      "Warnings:\n",
      "[1] Standard Errors assume that the covariance matrix of the errors is correctly specified.\n",
      "                        df        sum_sq       mean_sq            F  \\\n",
      "C(yeargroup)           5.0  4.848129e+14  9.696258e+13   466.703744   \n",
      "C(RangeofDistance)     4.0  4.372284e+13  1.093071e+13    52.612083   \n",
      "Rooms                  1.0  7.841946e+14  7.841946e+14  3774.513271   \n",
      "Bathroom               1.0  1.722455e+14  1.722455e+14   829.058363   \n",
      "Car                    1.0  2.338340e+13  2.338340e+13   112.549796   \n",
      "Residual            7410.0  1.539505e+15  2.077605e+11          NaN   \n",
      "\n",
      "                           PR(>F)  \n",
      "C(yeargroup)         0.000000e+00  \n",
      "C(RangeofDistance)   8.970161e-44  \n",
      "Rooms                0.000000e+00  \n",
      "Bathroom            6.533860e-173  \n",
      "Car                  4.165072e-26  \n",
      "Residual                      NaN  \n",
      "2389     4.770292e+05\n",
      "26619    4.672719e+05\n",
      "18540    4.070407e+05\n",
      "24098    1.135375e+06\n",
      "26008    1.284030e+06\n",
      "dtype: float64\n",
      "218247129612.31937\n"
     ]
    },
    {
     "name": "stderr",
     "output_type": "stream",
     "text": [
      "C:\\Users\\yvonne\\Anaconda3\\lib\\site-packages\\scipy\\stats\\_distn_infrastructure.py:879: RuntimeWarning: invalid value encountered in greater\n",
      "  return (self.a < x) & (x < self.b)\n",
      "C:\\Users\\yvonne\\Anaconda3\\lib\\site-packages\\scipy\\stats\\_distn_infrastructure.py:879: RuntimeWarning: invalid value encountered in less\n",
      "  return (self.a < x) & (x < self.b)\n",
      "C:\\Users\\yvonne\\Anaconda3\\lib\\site-packages\\scipy\\stats\\_distn_infrastructure.py:1821: RuntimeWarning: invalid value encountered in less_equal\n",
      "  cond2 = cond0 & (x <= self.a)\n"
     ]
    }
   ],
   "source": [
    "model = smf.ols('Price ~ Rooms + Bathroom + Car + C(yeargroup) + C(RangeofDistance)', data = train) \n",
    "results = model.fit()\n",
    "\n",
    "print(results.summary())\n",
    "\n",
    "table = sm.stats.anova_lm(results)\n",
    "print(table)\n",
    "\n",
    "y_pred = results.predict(X_test)\n",
    "print(y_pred.head())\n",
    "\n",
    "mse = mean_squared_error(y_test, y_pred)\n",
    "print(mse)"
   ]
  },
  {
   "cell_type": "markdown",
   "metadata": {},
   "source": [
    "### Model 4 (using model 1 but regroup the yeargroup based on medium)"
   ]
  },
  {
   "cell_type": "markdown",
   "metadata": {},
   "source": [
    "_model 4 is better than model 1_\n",
    "\n",
    "_mse4 = 153048728106.24393_"
   ]
  },
  {
   "cell_type": "code",
   "execution_count": 17,
   "metadata": {},
   "outputs": [
    {
     "name": "stdout",
     "output_type": "stream",
     "text": [
      "                     Price\n",
      "yeargroup                 \n",
      "[1965, 1975)  7.894192e+05\n",
      "[1975, 1985)  8.578595e+05\n",
      "[1985, 1995)  9.233559e+05\n",
      "[1995, 2005)  9.456095e+05\n",
      "[2005, 2015)  9.229580e+05\n",
      "[2015, 2025)  1.225991e+06\n",
      "(6, 1)\n",
      "[1965 1975 1985 1995 2005 2015]\n",
      "             Price\n",
      "1965  7.894192e+05\n",
      "1975  8.578595e+05\n",
      "1985  9.233559e+05\n",
      "1995  9.456095e+05\n",
      "2005  9.229580e+05\n",
      "2015  1.225991e+06\n"
     ]
    },
    {
     "data": {
      "image/png": "[encoded data removed]",
      "text/plain": [
       "<matplotlib.figure.Figure at 0x1471a0190f0>"
      ]
     },
     "metadata": {},
     "output_type": "display_data"
    }
   ],
   "source": [
    "# starting with the medium of YearBuilt\n",
    "housing[\"yeargroup\"] = pd.cut(housing.YearBuilt,bins=np.arange(1965,2050,10),right=False)\n",
    "summary = housing.groupby('yeargroup')[[\"Price\"]].mean()\n",
    "summary = summary.dropna()\n",
    "print(summary)\n",
    "print(summary.shape)\n",
    "\n",
    "index = np.array([1965,1975,1985,1995,2005,2015])\n",
    "print(index)\n",
    "summary.index = index\n",
    "print(summary)\n",
    "\n",
    "plt.plot(summary)\n",
    "plt.title(\"Line plot of Price by year\")\n",
    "plt.xlabel(\"Year\")\n",
    "plt.ylabel(\"Price\")\n",
    "plt.show()\n",
    "\n",
    "housing[\"RangeofDistance\"] =pd.cut(housing.Distance,bins=np.arange(0,60,10),right=False)\n",
    "\n",
    "df = housing.loc[:,[\"Price\",\"Rooms\",\"Bathroom\",\"Bedroom2\",\"Car\", \"RangeofDistance\", \"yeargroup\"]]\n",
    "df = df.loc[((df['yeargroup'].isnull() == False) & \n",
    "             (df['Price'].isnull() == False) &\n",
    "             (df['Car'].isnull() == False))]\n",
    "df.info()"
   ]
  },
  {
   "cell_type": "code",
   "execution_count": 295,
   "metadata": {},
   "outputs": [
    {
     "name": "stdout",
     "output_type": "stream",
     "text": [
      "<class 'pandas.core.frame.DataFrame'>\n",
      "Int64Index: 5576 entries, 10528 to 27154\n",
      "Data columns (total 7 columns):\n",
      "Rooms              5576 non-null int64\n",
      "Bathroom           5576 non-null float64\n",
      "Bedroom2           5576 non-null float64\n",
      "Car                5576 non-null float64\n",
      "RangeofDistance    5576 non-null category\n",
      "yeargroup          5576 non-null category\n",
      "Price              5576 non-null float64\n",
      "dtypes: category(2), float64(4), int64(1)\n",
      "memory usage: 272.5 KB\n"
     ]
    },
    {
     "name": "stderr",
     "output_type": "stream",
     "text": [
      "C:\\Users\\yvonne\\Anaconda3\\lib\\site-packages\\ipykernel_launcher.py:6: SettingWithCopyWarning: \n",
      "A value is trying to be set on a copy of a slice from a DataFrame.\n",
      "Try using .loc[row_indexer,col_indexer] = value instead\n",
      "\n",
      "See the caveats in the documentation: http://pandas.pydata.org/pandas-docs/stable/indexing.html#indexing-view-versus-copy\n",
      "  \n"
     ]
    }
   ],
   "source": [
    "X = df[['Rooms', 'Bathroom', 'Bedroom2', 'Car', 'RangeofDistance', 'yeargroup']]\n",
    "y = df['Price']\n",
    "X_train, X_test, y_train, y_test = train_test_split(X,y, test_size = 0.2, random_state= 50)\n",
    "\n",
    "train = X_train\n",
    "train[\"Price\"] = pd.Series(y_train, index = train.index)\n",
    "train.info()"
   ]
  },
  {
   "cell_type": "code",
   "execution_count": 296,
   "metadata": {},
   "outputs": [
    {
     "name": "stdout",
     "output_type": "stream",
     "text": [
      "                            OLS Regression Results                            \n",
      "==============================================================================\n",
      "Dep. Variable:                  Price   R-squared:                       0.438\n",
      "Model:                            OLS   Adj. R-squared:                  0.437\n",
      "Method:                 Least Squares   F-statistic:                     361.8\n",
      "Date:                Tue, 12 Jun 2018   Prob (F-statistic):               0.00\n",
      "Time:                        00:30:39   Log-Likelihood:                -80274.\n",
      "No. Observations:                5576   AIC:                         1.606e+05\n",
      "Df Residuals:                    5563   BIC:                         1.607e+05\n",
      "Df Model:                          12                                         \n",
      "Covariance Type:            nonrobust                                         \n",
      "=========================================================================================================================\n",
      "                                                            coef    std err          t      P>|t|      [0.025      0.975]\n",
      "-------------------------------------------------------------------------------------------------------------------------\n",
      "Intercept                                             -8608.6321   2.04e+04     -0.422      0.673   -4.86e+04    3.14e+04\n",
      "C(yeargroup)[T.Interval(1975, 1985, closed='left')]   -4.653e+04   1.96e+04     -2.379      0.017   -8.49e+04   -8192.975\n",
      "C(yeargroup)[T.Interval(1985, 1995, closed='left')]   -1.814e+04   2.22e+04     -0.817      0.414   -6.17e+04    2.54e+04\n",
      "C(yeargroup)[T.Interval(1995, 2005, closed='left')]   -5.157e+04   1.84e+04     -2.799      0.005   -8.77e+04   -1.55e+04\n",
      "C(yeargroup)[T.Interval(2005, 2015, closed='left')]   -9.032e+04   1.73e+04     -5.229      0.000   -1.24e+05   -5.65e+04\n",
      "C(yeargroup)[T.Interval(2015, 2025, closed='left')]    2.573e+04   3.25e+04      0.792      0.429    -3.8e+04    8.95e+04\n",
      "C(yeargroup)[T.Interval(2025, 2035, closed='left')]    1.107e-10   5.44e-12     20.336      0.000       1e-10    1.21e-10\n",
      "C(yeargroup)[T.Interval(2035, 2045, closed='left')]   -5.455e-11   1.33e-11     -4.100      0.000   -8.06e-11   -2.85e-11\n",
      "C(RangeofDistance)[T.Interval(10, 20, closed='left')] -2.789e+05   1.37e+04    -20.351      0.000   -3.06e+05   -2.52e+05\n",
      "C(RangeofDistance)[T.Interval(20, 30, closed='left')] -5.362e+05   2.07e+04    -25.934      0.000   -5.77e+05   -4.96e+05\n",
      "C(RangeofDistance)[T.Interval(30, 40, closed='left')] -6.387e+05   3.34e+04    -19.097      0.000   -7.04e+05   -5.73e+05\n",
      "C(RangeofDistance)[T.Interval(40, 50, closed='left')] -7.462e+05   8.43e+04     -8.851      0.000   -9.12e+05   -5.81e+05\n",
      "Rooms                                                  1.858e+05   8753.111     21.228      0.000    1.69e+05    2.03e+05\n",
      "Bathroom                                               2.899e+05   1.19e+04     24.365      0.000    2.67e+05    3.13e+05\n",
      "Car                                                     6.24e+04   7431.856      8.396      0.000    4.78e+04     7.7e+04\n",
      "==============================================================================\n",
      "Omnibus:                     3268.911   Durbin-Watson:                   1.996\n",
      "Prob(Omnibus):                  0.000   Jarque-Bera (JB):            54996.814\n",
      "Skew:                           2.472   Prob(JB):                         0.00\n",
      "Kurtosis:                      17.570   Cond. No.                     2.33e+17\n",
      "==============================================================================\n",
      "\n",
      "Warnings:\n",
      "[1] Standard Errors assume that the covariance matrix of the errors is correctly specified.\n",
      "[2] The smallest eigenvalue is 1.87e-30. This might indicate that there are\n",
      "strong multicollinearity problems or that the design matrix is singular.\n",
      "                        df        sum_sq       mean_sq            F  \\\n",
      "C(yeargroup)           7.0  4.779000e+13  6.827143e+12    36.413457   \n",
      "C(RangeofDistance)     4.0  5.262222e+13  1.315555e+13    70.166864   \n",
      "Rooms                  1.0  5.807884e+14  5.807884e+14  3097.710735   \n",
      "Bathroom               1.0  1.198509e+14  1.198509e+14   639.240340   \n",
      "Car                    1.0  1.320970e+13  1.320970e+13    70.455632   \n",
      "Residual            5563.0  1.043004e+15  1.874896e+11          NaN   \n",
      "\n",
      "                           PR(>F)  \n",
      "C(yeargroup)         3.831302e-50  \n",
      "C(RangeofDistance)   4.682457e-58  \n",
      "Rooms                0.000000e+00  \n",
      "Bathroom            1.334366e-133  \n",
      "Car                  5.909688e-17  \n",
      "Residual                      NaN  \n",
      "4927     8.217837e+05\n",
      "6658     6.637056e+05\n",
      "30053    1.108734e+06\n",
      "34179    6.846258e+05\n",
      "23166    3.848476e+05\n",
      "dtype: float64\n",
      "153048728106.24393\n"
     ]
    },
    {
     "name": "stderr",
     "output_type": "stream",
     "text": [
      "C:\\Users\\yvonne\\Anaconda3\\lib\\site-packages\\scipy\\stats\\_distn_infrastructure.py:879: RuntimeWarning: invalid value encountered in greater\n",
      "  return (self.a < x) & (x < self.b)\n",
      "C:\\Users\\yvonne\\Anaconda3\\lib\\site-packages\\scipy\\stats\\_distn_infrastructure.py:879: RuntimeWarning: invalid value encountered in less\n",
      "  return (self.a < x) & (x < self.b)\n",
      "C:\\Users\\yvonne\\Anaconda3\\lib\\site-packages\\scipy\\stats\\_distn_infrastructure.py:1821: RuntimeWarning: invalid value encountered in less_equal\n",
      "  cond2 = cond0 & (x <= self.a)\n"
     ]
    }
   ],
   "source": [
    "model = smf.ols('Price ~ Rooms + Bathroom + Car + C(yeargroup) + C(RangeofDistance)', data = train) \n",
    "results = model.fit()\n",
    "\n",
    "print(results.summary())\n",
    "\n",
    "table = sm.stats.anova_lm(results)\n",
    "print(table)\n",
    "\n",
    "y_pred = results.predict(X_test)\n",
    "print(y_pred.head())\n",
    "\n",
    "mse = mean_squared_error(y_test, y_pred)\n",
    "print(mse)"
   ]
  },
  {
   "cell_type": "code",
   "execution_count": null,
   "metadata": {},
   "outputs": [],
   "source": []
  }
 ],
 "metadata": {
  "kernelspec": {
   "display_name": "Python 3",
   "language": "python",
   "name": "python3"
  },
  "language_info": {
   "codemirror_mode": {
    "name": "ipython",
    "version": 3
   },
   "file_extension": ".py",
   "mimetype": "text/x-python",
   "name": "python",
   "nbconvert_exporter": "python",
   "pygments_lexer": "ipython3",
   "version": "3.6.4"
  }
 },
 "nbformat": 4,
 "nbformat_minor": 2
}
