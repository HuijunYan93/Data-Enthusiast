{
 "cells": [
  {
   "cell_type": "code",
   "execution_count": 36,
   "metadata": {},
   "outputs": [],
   "source": [
    "import pandas as pd\n",
    "import seaborn as sns\n",
    "import matplotlib.pyplot as plt"
   ]
  },
  {
   "cell_type": "code",
   "execution_count": null,
   "metadata": {},
   "outputs": [],
   "source": []
  },
  {
   "cell_type": "code",
   "execution_count": 26,
   "metadata": {},
   "outputs": [],
   "source": [
    "housing=pd.read_csv('housing.csv')"
   ]
  },
  {
   "cell_type": "code",
   "execution_count": 10,
   "metadata": {},
   "outputs": [
    {
     "name": "stdout",
     "output_type": "stream",
     "text": [
      "<class 'pandas.core.frame.DataFrame'>\n",
      "RangeIndex: 34857 entries, 0 to 34856\n",
      "Data columns (total 21 columns):\n",
      "Suburb           34857 non-null object\n",
      "Address          34857 non-null object\n",
      "Rooms            34857 non-null int64\n",
      "Type             34857 non-null object\n",
      "Price            27247 non-null float64\n",
      "Method           34857 non-null object\n",
      "SellerG          34857 non-null object\n",
      "Date             34857 non-null object\n",
      "Distance         34856 non-null float64\n",
      "Postcode         34856 non-null float64\n",
      "Bedroom2         26640 non-null float64\n",
      "Bathroom         26631 non-null float64\n",
      "Car              26129 non-null float64\n",
      "Landsize         23047 non-null float64\n",
      "BuildingArea     13742 non-null float64\n",
      "YearBuilt        15551 non-null float64\n",
      "CouncilArea      34854 non-null object\n",
      "Lattitude        26881 non-null float64\n",
      "Longtitude       26881 non-null float64\n",
      "Regionname       34854 non-null object\n",
      "Propertycount    34854 non-null float64\n",
      "dtypes: float64(12), int64(1), object(8)\n",
      "memory usage: 5.6+ MB\n"
     ]
    },
    {
     "data": {
      "text/plain": [
       "351"
      ]
     },
     "execution_count": 10,
     "metadata": {},
     "output_type": "execute_result"
    }
   ],
   "source": [
    "housing.info()\n",
    "len(housing.Suburb.unique())"
   ]
  },
  {
   "cell_type": "markdown",
   "metadata": {},
   "source": [
    "# Background Information\n",
    "# The data explores the detailed information of housing located in 351 suburbs in Melhourne. Melbourne is the second-most populous city in Australia, which has prosperous education, economy, entertainment, tourism and etc. Usually, the price of housing varies in a large range, especially in a big city like Melbourne, depends on furnishment, sqft, distance to CBD and neighborhood. We are interested in what partern of housing characteristics will affect the price at different suburbs in Melbourne ciy. "
   ]
  },
  {
   "cell_type": "markdown",
   "metadata": {},
   "source": [
    "# Information about data collection\n",
    "# Tony Pino collected the data starting from 2016. This data was scraped from publicly available results posted every week from Domain.com.au, I've cleaned it as best I can, now it's up to you to make data analysis magic. The dataset includes Address, Type of Real estate, Suburb, Method of Selling, Rooms, Price, Real Estate Agent, Date of Sale and distance from C.B.D."
   ]
  },
  {
   "cell_type": "markdown",
   "metadata": {},
   "source": [
    "# Exploratory Analysis"
   ]
  },
  {
   "cell_type": "markdown",
   "metadata": {},
   "source": [
    "# 1. Summary statistics and the distributional shape of variables in the data"
   ]
  },
  {
   "cell_type": "code",
   "execution_count": 45,
   "metadata": {},
   "outputs": [
    {
     "name": "stdout",
     "output_type": "stream",
     "text": [
      "       Suburb             Address  Rooms Type      Price Method SellerG  \\\n",
      "0  Abbotsford       68 Studley St      2    h        NaN     SS  Jellis   \n",
      "1  Abbotsford        85 Turner St      2    h  1480000.0      S  Biggin   \n",
      "2  Abbotsford     25 Bloomburg St      2    h  1035000.0      S  Biggin   \n",
      "3  Abbotsford  18/659 Victoria St      3    u        NaN     VB  Rounds   \n",
      "4  Abbotsford        5 Charles St      3    h  1465000.0     SP  Biggin   \n",
      "\n",
      "        Date  Distance  Postcode      ...       Bathroom  Car  Landsize  \\\n",
      "0  3/09/2016       2.5    3067.0      ...            1.0  1.0     126.0   \n",
      "1  3/12/2016       2.5    3067.0      ...            1.0  1.0     202.0   \n",
      "2  4/02/2016       2.5    3067.0      ...            1.0  0.0     156.0   \n",
      "3  4/02/2016       2.5    3067.0      ...            2.0  1.0       0.0   \n",
      "4  4/03/2017       2.5    3067.0      ...            2.0  0.0     134.0   \n",
      "\n",
      "   BuildingArea  YearBuilt         CouncilArea Lattitude  Longtitude  \\\n",
      "0           NaN        NaN  Yarra City Council  -37.8014    144.9958   \n",
      "1           NaN        NaN  Yarra City Council  -37.7996    144.9984   \n",
      "2          79.0     1900.0  Yarra City Council  -37.8079    144.9934   \n",
      "3           NaN        NaN  Yarra City Council  -37.8114    145.0116   \n",
      "4         150.0     1900.0  Yarra City Council  -37.8093    144.9944   \n",
      "\n",
      "              Regionname Propertycount  \n",
      "0  Northern Metropolitan        4019.0  \n",
      "1  Northern Metropolitan        4019.0  \n",
      "2  Northern Metropolitan        4019.0  \n",
      "3  Northern Metropolitan        4019.0  \n",
      "4  Northern Metropolitan        4019.0  \n",
      "\n",
      "[5 rows x 21 columns]\n"
     ]
    }
   ],
   "source": [
    "housing.describe()\n",
    "print(housing.head())"
   ]
  },
  {
   "cell_type": "code",
   "execution_count": 58,
   "metadata": {},
   "outputs": [],
   "source": [
    "housing = housing.loc[housing['Bathroom'].isnull() == False]"
   ]
  },
  {
   "cell_type": "code",
   "execution_count": 62,
   "metadata": {},
   "outputs": [],
   "source": [
    "housing = housing.loc[housing['Bedroom2'].isnull() == False]"
   ]
  },
  {
   "cell_type": "code",
   "execution_count": 63,
   "metadata": {},
   "outputs": [],
   "source": [
    "housing = housing.loc[housing['Car'].isnull()==False]"
   ]
  },
  {
   "cell_type": "code",
   "execution_count": 66,
   "metadata": {},
   "outputs": [
    {
     "name": "stdout",
     "output_type": "stream",
     "text": [
      "<class 'pandas.core.frame.DataFrame'>\n",
      "Int64Index: 26129 entries, 0 to 34856\n",
      "Data columns (total 21 columns):\n",
      "Suburb           26129 non-null object\n",
      "Address          26129 non-null object\n",
      "Rooms            26129 non-null int64\n",
      "Type             26129 non-null object\n",
      "Price            20423 non-null float64\n",
      "Method           26129 non-null object\n",
      "SellerG          26129 non-null object\n",
      "Date             26129 non-null object\n",
      "Distance         26129 non-null float64\n",
      "Postcode         26129 non-null float64\n",
      "Bedroom2         26129 non-null float64\n",
      "Bathroom         26129 non-null float64\n",
      "Car              26129 non-null float64\n",
      "Landsize         22671 non-null float64\n",
      "BuildingArea     13510 non-null float64\n",
      "YearBuilt        15298 non-null float64\n",
      "CouncilArea      26129 non-null object\n",
      "Lattitude        26103 non-null float64\n",
      "Longtitude       26103 non-null float64\n",
      "Regionname       26129 non-null object\n",
      "Propertycount    26129 non-null float64\n",
      "dtypes: float64(12), int64(1), object(8)\n",
      "memory usage: 5.6+ MB\n"
     ]
    }
   ],
   "source": [
    "housing.info()"
   ]
  },
  {
   "cell_type": "code",
   "execution_count": null,
   "metadata": {},
   "outputs": [],
   "source": []
  },
  {
   "cell_type": "code",
   "execution_count": null,
   "metadata": {},
   "outputs": [],
   "source": []
  },
  {
   "cell_type": "code",
   "execution_count": null,
   "metadata": {},
   "outputs": [],
   "source": []
  },
  {
   "cell_type": "code",
   "execution_count": 86,
   "metadata": {},
   "outputs": [
    {
     "data": {
      "text/plain": [
       "<matplotlib.axes._subplots.AxesSubplot at 0x1a40b61550>"
      ]
     },
     "execution_count": 86,
     "metadata": {},
     "output_type": "execute_result"
    },
    {
     "data": {
      "image/png": "[encoded data removed]",
      "text/plain": [
       "<matplotlib.figure.Figure at 0x1a40d19d30>"
      ]
     },
     "metadata": {},
     "output_type": "display_data"
    }
   ],
   "source": [
    "fig, axs = plt.subplots(ncols=3)\n",
    "fig.set_size_inches(20.7, 6.78)\n",
    "sns.regplot(housing.Bathroom,housing.Price,color=\"red\",ax=axs[0])\n",
    "sns.regplot(housing.Bedroom2,housing.Price,color=\"yellow\",ax=axs[1])\n",
    "sns.regplot(housing.Car,housing.Price,color=\"blue\",ax=axs[2])"
   ]
  },
  {
   "cell_type": "code",
   "execution_count": 77,
   "metadata": {},
   "outputs": [
    {
     "data": {
      "text/plain": [
       "0.43218869606896443"
      ]
     },
     "execution_count": 77,
     "metadata": {},
     "output_type": "execute_result"
    }
   ],
   "source": [
    "housing.Price.corr(housing.Bathroom)"
   ]
  },
  {
   "cell_type": "code",
   "execution_count": 78,
   "metadata": {},
   "outputs": [
    {
     "data": {
      "text/plain": [
       "0.43288781517514086"
      ]
     },
     "execution_count": 78,
     "metadata": {},
     "output_type": "execute_result"
    }
   ],
   "source": [
    "housing.Price.corr(housing.Bedroom2)"
   ]
  },
  {
   "cell_type": "code",
   "execution_count": 79,
   "metadata": {},
   "outputs": [
    {
     "data": {
      "text/plain": [
       "0.20180256061576404"
      ]
     },
     "execution_count": 79,
     "metadata": {},
     "output_type": "execute_result"
    }
   ],
   "source": [
    "housing.Price.corr(housing.Car)"
   ]
  },
  {
   "cell_type": "code",
   "execution_count": 80,
   "metadata": {},
   "outputs": [
    {
     "data": {
      "text/plain": [
       "<matplotlib.axes._subplots.AxesSubplot at 0x1a40fe72b0>"
      ]
     },
     "execution_count": 80,
     "metadata": {},
     "output_type": "execute_result"
    },
    {
     "data": {
      "image/png": "[encoded data removed]",
      "text/plain": [
       "<matplotlib.figure.Figure at 0x1a41769048>"
      ]
     },
     "metadata": {},
     "output_type": "display_data"
    }
   ],
   "source": [
    "sns.regplot(housing.Bathroom, housing.Landsize)\n",
    "sns.regplot(housing.Bdthroom, housing.Landsize)"
   ]
  },
  {
   "cell_type": "code",
   "execution_count": 81,
   "metadata": {},
   "outputs": [
    {
     "data": {
      "text/plain": [
       "0.0365224930968817"
      ]
     },
     "execution_count": 81,
     "metadata": {},
     "output_type": "execute_result"
    }
   ],
   "source": [
    "housing.Landsize.corr(housing.Bathroom)"
   ]
  },
  {
   "cell_type": "code",
   "execution_count": 82,
   "metadata": {},
   "outputs": [
    {
     "data": {
      "text/plain": [
       "<matplotlib.axes._subplots.AxesSubplot at 0x1a41390ac8>"
      ]
     },
     "execution_count": 82,
     "metadata": {},
     "output_type": "execute_result"
    },
    {
     "data": {
      "image/png": "[encoded data removed]",
      "text/plain": [
       "<matplotlib.figure.Figure at 0x1a40ee3160>"
      ]
     },
     "metadata": {},
     "output_type": "display_data"
    }
   ],
   "source": [
    "sns.regplot(housing.Bedroom2, housing.Landsize)"
   ]
  },
  {
   "cell_type": "code",
   "execution_count": 83,
   "metadata": {},
   "outputs": [
    {
     "data": {
      "text/plain": [
       "0.03652547092126999"
      ]
     },
     "execution_count": 83,
     "metadata": {},
     "output_type": "execute_result"
    }
   ],
   "source": [
    "housing.Landsize.corr(housing.Bedroom2)"
   ]
  },
  {
   "cell_type": "code",
   "execution_count": 84,
   "metadata": {},
   "outputs": [
    {
     "data": {
      "text/plain": [
       "<matplotlib.axes._subplots.AxesSubplot at 0x1a40ec2a90>"
      ]
     },
     "execution_count": 84,
     "metadata": {},
     "output_type": "execute_result"
    },
    {
     "data": {
      "image/png": "[encoded data removed]",
      "text/plain": [
       "<matplotlib.figure.Figure at 0x1a41200160>"
      ]
     },
     "metadata": {},
     "output_type": "display_data"
    }
   ],
   "source": [
    "sns.regplot(housing.Car, housing.Landsize)"
   ]
  },
  {
   "cell_type": "code",
   "execution_count": 85,
   "metadata": {},
   "outputs": [
    {
     "data": {
      "text/plain": [
       "0.03782942988196447"
      ]
     },
     "execution_count": 85,
     "metadata": {},
     "output_type": "execute_result"
    }
   ],
   "source": [
    "housing.Landsize.corr(housing.Car)"
   ]
  },
  {
   "cell_type": "code",
   "execution_count": null,
   "metadata": {},
   "outputs": [],
   "source": [
    "Altona_cols = [col for col in df.columns if 'spike' in col]"
   ]
  },
  {
   "cell_type": "code",
   "execution_count": 91,
   "metadata": {},
   "outputs": [
    {
     "data": {
      "text/plain": [
       "Suburb\n",
       "Abbotsford            1.072066e+06\n",
       "Aberfeldie            1.354793e+06\n",
       "Airport West          7.805294e+05\n",
       "Albanvale             5.360556e+05\n",
       "Albert Park           1.990072e+06\n",
       "Albion                6.238113e+05\n",
       "Alphington            1.442977e+06\n",
       "Altona                8.729179e+05\n",
       "Altona Meadows        6.686042e+05\n",
       "Altona North          8.256474e+05\n",
       "Ardeer                6.334250e+05\n",
       "Armadale              1.606459e+06\n",
       "Ascot Vale            1.102584e+06\n",
       "Ashburton             1.741074e+06\n",
       "Ashwood               1.216381e+06\n",
       "Aspendale             1.039000e+06\n",
       "Aspendale Gardens     9.244833e+05\n",
       "Attwood               7.543636e+05\n",
       "Avondale Heights      8.298727e+05\n",
       "Bacchus Marsh         4.230000e+05\n",
       "Balaclava             8.387121e+05\n",
       "Balwyn                1.998471e+06\n",
       "Balwyn North          1.856250e+06\n",
       "Bayswater             7.678846e+05\n",
       "Bayswater North       7.526571e+05\n",
       "Beaconsfield          6.035000e+05\n",
       "Beaconsfield Upper    7.195000e+05\n",
       "Beaumaris             1.717212e+06\n",
       "Bellfield             8.235000e+05\n",
       "Bentleigh             1.351258e+06\n",
       "                          ...     \n",
       "Vermont South         1.217900e+06\n",
       "Viewbank              9.789959e+05\n",
       "Wallan                4.837000e+05\n",
       "Wandin North          1.150000e+06\n",
       "Wantirna              1.002794e+06\n",
       "Wantirna South        1.078651e+06\n",
       "Warrandyte            1.347900e+06\n",
       "Warranwood            1.032500e+06\n",
       "Waterways             1.103500e+06\n",
       "Watsonia              7.731753e+05\n",
       "Watsonia North        8.038182e+05\n",
       "Wattle Glen           8.350000e+05\n",
       "Werribee              5.385037e+05\n",
       "Werribee South        6.400000e+05\n",
       "West Footscray        8.167276e+05\n",
       "West Melbourne        1.113286e+06\n",
       "Westmeadows           6.395662e+05\n",
       "Wheelers Hill         1.232417e+06\n",
       "Whittlesea            5.153333e+05\n",
       "Wildwood              1.030000e+06\n",
       "Williams Landing      6.316667e+05\n",
       "Williamstown          1.379538e+06\n",
       "Williamstown North    8.846304e+05\n",
       "Windsor               1.027657e+06\n",
       "Wollert               5.984395e+05\n",
       "Wonga Park            1.357500e+06\n",
       "Wyndham Vale          4.871480e+05\n",
       "Yallambie             8.507167e+05\n",
       "Yarra Glen            6.200000e+05\n",
       "Yarraville            1.015793e+06\n",
       "Name: Price, Length: 338, dtype: float64"
      ]
     },
     "execution_count": 91,
     "metadata": {},
     "output_type": "execute_result"
    }
   ],
   "source": [
    "housing = housing.loc[housing['Price'].isnull()==False]\n",
    "housing = housing.loc[housing['Suburb'].isnull()==False]\n",
    "pricemean=housing.groupby('Suburb')[\"Price\"].mean()\n",
    "pricemean"
   ]
  },
  {
   "cell_type": "code",
   "execution_count": null,
   "metadata": {},
   "outputs": [],
   "source": [
    "\n",
    "housing['YearDecades'] = pd.cut(housing.YearBuilt,[20,30,40,50,60,70,80,150],right=False)"
   ]
  },
  {
   "cell_type": "code",
   "execution_count": null,
   "metadata": {},
   "outputs": [],
   "source": []
  },
  {
   "cell_type": "code",
   "execution_count": null,
   "metadata": {},
   "outputs": [],
   "source": []
  },
  {
   "cell_type": "code",
   "execution_count": null,
   "metadata": {},
   "outputs": [],
   "source": []
  },
  {
   "cell_type": "code",
   "execution_count": null,
   "metadata": {},
   "outputs": [],
   "source": []
  },
  {
   "cell_type": "code",
   "execution_count": null,
   "metadata": {},
   "outputs": [],
   "source": []
  },
  {
   "cell_type": "code",
   "execution_count": null,
   "metadata": {},
   "outputs": [],
   "source": []
  },
  {
   "cell_type": "code",
   "execution_count": null,
   "metadata": {},
   "outputs": [],
   "source": []
  },
  {
   "cell_type": "code",
   "execution_count": null,
   "metadata": {},
   "outputs": [],
   "source": []
  },
  {
   "cell_type": "code",
   "execution_count": null,
   "metadata": {},
   "outputs": [],
   "source": []
  },
  {
   "cell_type": "code",
   "execution_count": null,
   "metadata": {},
   "outputs": [],
   "source": []
  },
  {
   "cell_type": "code",
   "execution_count": null,
   "metadata": {},
   "outputs": [],
   "source": []
  },
  {
   "cell_type": "code",
   "execution_count": null,
   "metadata": {},
   "outputs": [],
   "source": []
  },
  {
   "cell_type": "code",
   "execution_count": null,
   "metadata": {},
   "outputs": [],
   "source": []
  },
  {
   "cell_type": "code",
   "execution_count": null,
   "metadata": {},
   "outputs": [],
   "source": []
  },
  {
   "cell_type": "code",
   "execution_count": null,
   "metadata": {},
   "outputs": [],
   "source": []
  },
  {
   "cell_type": "code",
   "execution_count": null,
   "metadata": {},
   "outputs": [],
   "source": []
  }
 ],
 "metadata": {
  "kernelspec": {
   "display_name": "Python 3",
   "language": "python",
   "name": "python3"
  },
  "language_info": {
   "codemirror_mode": {
    "name": "ipython",
    "version": 3
   },
   "file_extension": ".py",
   "mimetype": "text/x-python",
   "name": "python",
   "nbconvert_exporter": "python",
   "pygments_lexer": "ipython3",
   "version": "3.6.4"
  }
 },
 "nbformat": 4,
 "nbformat_minor": 2
}
